{
  "nbformat": 4,
  "nbformat_minor": 0,
  "metadata": {
    "colab": {
      "name": "Tesi",
      "provenance": [],
      "toc_visible": true,
      "collapsed_sections": [],
      "authorship_tag": "ABX9TyM0mNwidp6N2PX3icF24+5F",
      "include_colab_link": true
    },
    "kernelspec": {
      "name": "python3",
      "display_name": "Python 3"
    },
    "language_info": {
      "name": "python"
    },
    "widgets": {
      "application/vnd.jupyter.widget-state+json": {
        "8c27e34052c9405c984b1fb1a988754a": {
          "model_module": "@jupyter-widgets/controls",
          "model_name": "VBoxModel",
          "model_module_version": "1.5.0",
          "state": {
            "_view_name": "VBoxView",
            "_dom_classes": [
              "widget-interact"
            ],
            "_model_name": "VBoxModel",
            "_view_module": "@jupyter-widgets/controls",
            "_model_module_version": "1.5.0",
            "_view_count": null,
            "_view_module_version": "1.5.0",
            "box_style": "",
            "layout": "IPY_MODEL_9f3c7cbf75e34adbbf3006991bf7f100",
            "_model_module": "@jupyter-widgets/controls",
            "children": [
              "IPY_MODEL_c39f1f418c3043a1a8c4f6017d2de5a8",
              "IPY_MODEL_dece62f78e344b24bcbc54611362fe2a",
              "IPY_MODEL_df019a2b20a343119d8958ca95a11143"
            ]
          }
        },
        "9f3c7cbf75e34adbbf3006991bf7f100": {
          "model_module": "@jupyter-widgets/base",
          "model_name": "LayoutModel",
          "model_module_version": "1.2.0",
          "state": {
            "_view_name": "LayoutView",
            "grid_template_rows": null,
            "right": null,
            "justify_content": null,
            "_view_module": "@jupyter-widgets/base",
            "overflow": null,
            "_model_module_version": "1.2.0",
            "_view_count": null,
            "flex_flow": null,
            "width": null,
            "min_width": null,
            "border": null,
            "align_items": null,
            "bottom": null,
            "_model_module": "@jupyter-widgets/base",
            "top": null,
            "grid_column": null,
            "overflow_y": null,
            "overflow_x": null,
            "grid_auto_flow": null,
            "grid_area": null,
            "grid_template_columns": null,
            "flex": null,
            "_model_name": "LayoutModel",
            "justify_items": null,
            "grid_row": null,
            "max_height": null,
            "align_content": null,
            "visibility": null,
            "align_self": null,
            "height": null,
            "min_height": null,
            "padding": null,
            "grid_auto_rows": null,
            "grid_gap": null,
            "max_width": null,
            "order": null,
            "_view_module_version": "1.2.0",
            "grid_template_areas": null,
            "object_position": null,
            "object_fit": null,
            "grid_auto_columns": null,
            "margin": null,
            "display": null,
            "left": null
          }
        },
        "c39f1f418c3043a1a8c4f6017d2de5a8": {
          "model_module": "@jupyter-widgets/controls",
          "model_name": "IntSliderModel",
          "model_module_version": "1.5.0",
          "state": {
            "_view_name": "IntSliderView",
            "style": "IPY_MODEL_785501f00fae408999db100efc9fc17a",
            "_dom_classes": [],
            "description": "vincita",
            "step": 1,
            "_model_name": "IntSliderModel",
            "orientation": "horizontal",
            "max": 30,
            "_view_module": "@jupyter-widgets/controls",
            "_model_module_version": "1.5.0",
            "value": 5,
            "_view_count": null,
            "disabled": false,
            "_view_module_version": "1.5.0",
            "min": 0,
            "continuous_update": true,
            "readout_format": "d",
            "description_tooltip": null,
            "readout": true,
            "_model_module": "@jupyter-widgets/controls",
            "layout": "IPY_MODEL_0ba5a68792134a18aa5732062ff4861a"
          }
        },
        "dece62f78e344b24bcbc54611362fe2a": {
          "model_module": "@jupyter-widgets/controls",
          "model_name": "ButtonModel",
          "model_module_version": "1.5.0",
          "state": {
            "_view_name": "ButtonView",
            "style": "IPY_MODEL_a165e60f5476460589bb7bf53bd06a5e",
            "_dom_classes": [],
            "description": "Run Interact",
            "_model_name": "ButtonModel",
            "button_style": "",
            "_view_module": "@jupyter-widgets/controls",
            "_model_module_version": "1.5.0",
            "tooltip": "",
            "_view_count": null,
            "disabled": false,
            "_view_module_version": "1.5.0",
            "layout": "IPY_MODEL_f35d7e043c9448a0b73c7de004be8ad4",
            "_model_module": "@jupyter-widgets/controls",
            "icon": ""
          }
        },
        "df019a2b20a343119d8958ca95a11143": {
          "model_module": "@jupyter-widgets/output",
          "model_name": "OutputModel",
          "model_module_version": "1.0.0",
          "state": {
            "_view_name": "OutputView",
            "msg_id": "",
            "_dom_classes": [],
            "_model_name": "OutputModel",
            "outputs": [],
            "_view_module": "@jupyter-widgets/output",
            "_model_module_version": "1.0.0",
            "_view_count": null,
            "_view_module_version": "1.0.0",
            "layout": "IPY_MODEL_b57613853fc140f1a7b6902f814d86a8",
            "_model_module": "@jupyter-widgets/output"
          }
        },
        "785501f00fae408999db100efc9fc17a": {
          "model_module": "@jupyter-widgets/controls",
          "model_name": "SliderStyleModel",
          "model_module_version": "1.5.0",
          "state": {
            "_view_name": "StyleView",
            "handle_color": null,
            "_model_name": "SliderStyleModel",
            "description_width": "",
            "_view_module": "@jupyter-widgets/base",
            "_model_module_version": "1.5.0",
            "_view_count": null,
            "_view_module_version": "1.2.0",
            "_model_module": "@jupyter-widgets/controls"
          }
        },
        "0ba5a68792134a18aa5732062ff4861a": {
          "model_module": "@jupyter-widgets/base",
          "model_name": "LayoutModel",
          "model_module_version": "1.2.0",
          "state": {
            "_view_name": "LayoutView",
            "grid_template_rows": null,
            "right": null,
            "justify_content": null,
            "_view_module": "@jupyter-widgets/base",
            "overflow": null,
            "_model_module_version": "1.2.0",
            "_view_count": null,
            "flex_flow": null,
            "width": null,
            "min_width": null,
            "border": null,
            "align_items": null,
            "bottom": null,
            "_model_module": "@jupyter-widgets/base",
            "top": null,
            "grid_column": null,
            "overflow_y": null,
            "overflow_x": null,
            "grid_auto_flow": null,
            "grid_area": null,
            "grid_template_columns": null,
            "flex": null,
            "_model_name": "LayoutModel",
            "justify_items": null,
            "grid_row": null,
            "max_height": null,
            "align_content": null,
            "visibility": null,
            "align_self": null,
            "height": null,
            "min_height": null,
            "padding": null,
            "grid_auto_rows": null,
            "grid_gap": null,
            "max_width": null,
            "order": null,
            "_view_module_version": "1.2.0",
            "grid_template_areas": null,
            "object_position": null,
            "object_fit": null,
            "grid_auto_columns": null,
            "margin": null,
            "display": null,
            "left": null
          }
        },
        "a165e60f5476460589bb7bf53bd06a5e": {
          "model_module": "@jupyter-widgets/controls",
          "model_name": "ButtonStyleModel",
          "model_module_version": "1.5.0",
          "state": {
            "_view_name": "StyleView",
            "_model_name": "ButtonStyleModel",
            "_view_module": "@jupyter-widgets/base",
            "_model_module_version": "1.5.0",
            "_view_count": null,
            "button_color": null,
            "font_weight": "",
            "_view_module_version": "1.2.0",
            "_model_module": "@jupyter-widgets/controls"
          }
        },
        "f35d7e043c9448a0b73c7de004be8ad4": {
          "model_module": "@jupyter-widgets/base",
          "model_name": "LayoutModel",
          "model_module_version": "1.2.0",
          "state": {
            "_view_name": "LayoutView",
            "grid_template_rows": null,
            "right": null,
            "justify_content": null,
            "_view_module": "@jupyter-widgets/base",
            "overflow": null,
            "_model_module_version": "1.2.0",
            "_view_count": null,
            "flex_flow": null,
            "width": null,
            "min_width": null,
            "border": null,
            "align_items": null,
            "bottom": null,
            "_model_module": "@jupyter-widgets/base",
            "top": null,
            "grid_column": null,
            "overflow_y": null,
            "overflow_x": null,
            "grid_auto_flow": null,
            "grid_area": null,
            "grid_template_columns": null,
            "flex": null,
            "_model_name": "LayoutModel",
            "justify_items": null,
            "grid_row": null,
            "max_height": null,
            "align_content": null,
            "visibility": null,
            "align_self": null,
            "height": null,
            "min_height": null,
            "padding": null,
            "grid_auto_rows": null,
            "grid_gap": null,
            "max_width": null,
            "order": null,
            "_view_module_version": "1.2.0",
            "grid_template_areas": null,
            "object_position": null,
            "object_fit": null,
            "grid_auto_columns": null,
            "margin": null,
            "display": null,
            "left": null
          }
        },
        "b57613853fc140f1a7b6902f814d86a8": {
          "model_module": "@jupyter-widgets/base",
          "model_name": "LayoutModel",
          "model_module_version": "1.2.0",
          "state": {
            "_view_name": "LayoutView",
            "grid_template_rows": null,
            "right": null,
            "justify_content": null,
            "_view_module": "@jupyter-widgets/base",
            "overflow": null,
            "_model_module_version": "1.2.0",
            "_view_count": null,
            "flex_flow": null,
            "width": null,
            "min_width": null,
            "border": null,
            "align_items": null,
            "bottom": null,
            "_model_module": "@jupyter-widgets/base",
            "top": null,
            "grid_column": null,
            "overflow_y": null,
            "overflow_x": null,
            "grid_auto_flow": null,
            "grid_area": null,
            "grid_template_columns": null,
            "flex": null,
            "_model_name": "LayoutModel",
            "justify_items": null,
            "grid_row": null,
            "max_height": null,
            "align_content": null,
            "visibility": null,
            "align_self": null,
            "height": null,
            "min_height": null,
            "padding": null,
            "grid_auto_rows": null,
            "grid_gap": null,
            "max_width": null,
            "order": null,
            "_view_module_version": "1.2.0",
            "grid_template_areas": null,
            "object_position": null,
            "object_fit": null,
            "grid_auto_columns": null,
            "margin": null,
            "display": null,
            "left": null
          }
        },
        "2d15476dcc0047d49232c8af986d5fdb": {
          "model_module": "@jupyter-widgets/controls",
          "model_name": "VBoxModel",
          "model_module_version": "1.5.0",
          "state": {
            "_view_name": "VBoxView",
            "_dom_classes": [
              "widget-interact"
            ],
            "_model_name": "VBoxModel",
            "_view_module": "@jupyter-widgets/controls",
            "_model_module_version": "1.5.0",
            "_view_count": null,
            "_view_module_version": "1.5.0",
            "box_style": "",
            "layout": "IPY_MODEL_a135f51bcfae4f68a35b7bbbb1a7877a",
            "_model_module": "@jupyter-widgets/controls",
            "children": [
              "IPY_MODEL_4ef12255a4b74c789fd28d7db42c1e43",
              "IPY_MODEL_d88e324e31cd4d6384040d54bbfd18cc",
              "IPY_MODEL_3bd5316d4ff34f81b2684cf11bcd2f5c",
              "IPY_MODEL_8cefb491a7fd47f8a7fed8f12bf17f5d"
            ]
          }
        },
        "a135f51bcfae4f68a35b7bbbb1a7877a": {
          "model_module": "@jupyter-widgets/base",
          "model_name": "LayoutModel",
          "model_module_version": "1.2.0",
          "state": {
            "_view_name": "LayoutView",
            "grid_template_rows": null,
            "right": null,
            "justify_content": null,
            "_view_module": "@jupyter-widgets/base",
            "overflow": null,
            "_model_module_version": "1.2.0",
            "_view_count": null,
            "flex_flow": null,
            "width": null,
            "min_width": null,
            "border": null,
            "align_items": null,
            "bottom": null,
            "_model_module": "@jupyter-widgets/base",
            "top": null,
            "grid_column": null,
            "overflow_y": null,
            "overflow_x": null,
            "grid_auto_flow": null,
            "grid_area": null,
            "grid_template_columns": null,
            "flex": null,
            "_model_name": "LayoutModel",
            "justify_items": null,
            "grid_row": null,
            "max_height": null,
            "align_content": null,
            "visibility": null,
            "align_self": null,
            "height": null,
            "min_height": null,
            "padding": null,
            "grid_auto_rows": null,
            "grid_gap": null,
            "max_width": null,
            "order": null,
            "_view_module_version": "1.2.0",
            "grid_template_areas": null,
            "object_position": null,
            "object_fit": null,
            "grid_auto_columns": null,
            "margin": null,
            "display": null,
            "left": null
          }
        },
        "4ef12255a4b74c789fd28d7db42c1e43": {
          "model_module": "@jupyter-widgets/controls",
          "model_name": "IntSliderModel",
          "model_module_version": "1.5.0",
          "state": {
            "_view_name": "IntSliderView",
            "style": "IPY_MODEL_5651ba1bf1f1485ab8d3725a3253aa09",
            "_dom_classes": [],
            "description": "giocate",
            "step": 1,
            "_model_name": "IntSliderModel",
            "orientation": "horizontal",
            "max": 10,
            "_view_module": "@jupyter-widgets/controls",
            "_model_module_version": "1.5.0",
            "value": 3,
            "_view_count": null,
            "disabled": false,
            "_view_module_version": "1.5.0",
            "min": 1,
            "continuous_update": true,
            "readout_format": "d",
            "description_tooltip": null,
            "readout": true,
            "_model_module": "@jupyter-widgets/controls",
            "layout": "IPY_MODEL_2c70e63f39b9404988be0a1cd46b1c7b"
          }
        },
        "d88e324e31cd4d6384040d54bbfd18cc": {
          "model_module": "@jupyter-widgets/controls",
          "model_name": "IntSliderModel",
          "model_module_version": "1.5.0",
          "state": {
            "_view_name": "IntSliderView",
            "style": "IPY_MODEL_abfd6a74352842038d50b707938c6618",
            "_dom_classes": [],
            "description": "puntata",
            "step": 5,
            "_model_name": "IntSliderModel",
            "orientation": "horizontal",
            "max": 100,
            "_view_module": "@jupyter-widgets/controls",
            "_model_module_version": "1.5.0",
            "value": 10,
            "_view_count": null,
            "disabled": false,
            "_view_module_version": "1.5.0",
            "min": 5,
            "continuous_update": true,
            "readout_format": "d",
            "description_tooltip": null,
            "readout": true,
            "_model_module": "@jupyter-widgets/controls",
            "layout": "IPY_MODEL_8a60c0e7b4c04dd58c9084fe12dbd016"
          }
        },
        "3bd5316d4ff34f81b2684cf11bcd2f5c": {
          "model_module": "@jupyter-widgets/controls",
          "model_name": "ButtonModel",
          "model_module_version": "1.5.0",
          "state": {
            "_view_name": "ButtonView",
            "style": "IPY_MODEL_fda10819a5ab4c4f86cc0d63d407ece8",
            "_dom_classes": [],
            "description": "Run Interact",
            "_model_name": "ButtonModel",
            "button_style": "",
            "_view_module": "@jupyter-widgets/controls",
            "_model_module_version": "1.5.0",
            "tooltip": "",
            "_view_count": null,
            "disabled": false,
            "_view_module_version": "1.5.0",
            "layout": "IPY_MODEL_d51a55a6a5d84adcb6ff66c170ed9baf",
            "_model_module": "@jupyter-widgets/controls",
            "icon": ""
          }
        },
        "8cefb491a7fd47f8a7fed8f12bf17f5d": {
          "model_module": "@jupyter-widgets/output",
          "model_name": "OutputModel",
          "model_module_version": "1.0.0",
          "state": {
            "_view_name": "OutputView",
            "msg_id": "",
            "_dom_classes": [],
            "_model_name": "OutputModel",
            "outputs": [],
            "_view_module": "@jupyter-widgets/output",
            "_model_module_version": "1.0.0",
            "_view_count": null,
            "_view_module_version": "1.0.0",
            "layout": "IPY_MODEL_2dc6464b719f4c1985e904b497622a58",
            "_model_module": "@jupyter-widgets/output"
          }
        },
        "5651ba1bf1f1485ab8d3725a3253aa09": {
          "model_module": "@jupyter-widgets/controls",
          "model_name": "SliderStyleModel",
          "model_module_version": "1.5.0",
          "state": {
            "_view_name": "StyleView",
            "handle_color": null,
            "_model_name": "SliderStyleModel",
            "description_width": "",
            "_view_module": "@jupyter-widgets/base",
            "_model_module_version": "1.5.0",
            "_view_count": null,
            "_view_module_version": "1.2.0",
            "_model_module": "@jupyter-widgets/controls"
          }
        },
        "2c70e63f39b9404988be0a1cd46b1c7b": {
          "model_module": "@jupyter-widgets/base",
          "model_name": "LayoutModel",
          "model_module_version": "1.2.0",
          "state": {
            "_view_name": "LayoutView",
            "grid_template_rows": null,
            "right": null,
            "justify_content": null,
            "_view_module": "@jupyter-widgets/base",
            "overflow": null,
            "_model_module_version": "1.2.0",
            "_view_count": null,
            "flex_flow": null,
            "width": null,
            "min_width": null,
            "border": null,
            "align_items": null,
            "bottom": null,
            "_model_module": "@jupyter-widgets/base",
            "top": null,
            "grid_column": null,
            "overflow_y": null,
            "overflow_x": null,
            "grid_auto_flow": null,
            "grid_area": null,
            "grid_template_columns": null,
            "flex": null,
            "_model_name": "LayoutModel",
            "justify_items": null,
            "grid_row": null,
            "max_height": null,
            "align_content": null,
            "visibility": null,
            "align_self": null,
            "height": null,
            "min_height": null,
            "padding": null,
            "grid_auto_rows": null,
            "grid_gap": null,
            "max_width": null,
            "order": null,
            "_view_module_version": "1.2.0",
            "grid_template_areas": null,
            "object_position": null,
            "object_fit": null,
            "grid_auto_columns": null,
            "margin": null,
            "display": null,
            "left": null
          }
        },
        "abfd6a74352842038d50b707938c6618": {
          "model_module": "@jupyter-widgets/controls",
          "model_name": "SliderStyleModel",
          "model_module_version": "1.5.0",
          "state": {
            "_view_name": "StyleView",
            "handle_color": null,
            "_model_name": "SliderStyleModel",
            "description_width": "",
            "_view_module": "@jupyter-widgets/base",
            "_model_module_version": "1.5.0",
            "_view_count": null,
            "_view_module_version": "1.2.0",
            "_model_module": "@jupyter-widgets/controls"
          }
        },
        "8a60c0e7b4c04dd58c9084fe12dbd016": {
          "model_module": "@jupyter-widgets/base",
          "model_name": "LayoutModel",
          "model_module_version": "1.2.0",
          "state": {
            "_view_name": "LayoutView",
            "grid_template_rows": null,
            "right": null,
            "justify_content": null,
            "_view_module": "@jupyter-widgets/base",
            "overflow": null,
            "_model_module_version": "1.2.0",
            "_view_count": null,
            "flex_flow": null,
            "width": null,
            "min_width": null,
            "border": null,
            "align_items": null,
            "bottom": null,
            "_model_module": "@jupyter-widgets/base",
            "top": null,
            "grid_column": null,
            "overflow_y": null,
            "overflow_x": null,
            "grid_auto_flow": null,
            "grid_area": null,
            "grid_template_columns": null,
            "flex": null,
            "_model_name": "LayoutModel",
            "justify_items": null,
            "grid_row": null,
            "max_height": null,
            "align_content": null,
            "visibility": null,
            "align_self": null,
            "height": null,
            "min_height": null,
            "padding": null,
            "grid_auto_rows": null,
            "grid_gap": null,
            "max_width": null,
            "order": null,
            "_view_module_version": "1.2.0",
            "grid_template_areas": null,
            "object_position": null,
            "object_fit": null,
            "grid_auto_columns": null,
            "margin": null,
            "display": null,
            "left": null
          }
        },
        "fda10819a5ab4c4f86cc0d63d407ece8": {
          "model_module": "@jupyter-widgets/controls",
          "model_name": "ButtonStyleModel",
          "model_module_version": "1.5.0",
          "state": {
            "_view_name": "StyleView",
            "_model_name": "ButtonStyleModel",
            "_view_module": "@jupyter-widgets/base",
            "_model_module_version": "1.5.0",
            "_view_count": null,
            "button_color": null,
            "font_weight": "",
            "_view_module_version": "1.2.0",
            "_model_module": "@jupyter-widgets/controls"
          }
        },
        "d51a55a6a5d84adcb6ff66c170ed9baf": {
          "model_module": "@jupyter-widgets/base",
          "model_name": "LayoutModel",
          "model_module_version": "1.2.0",
          "state": {
            "_view_name": "LayoutView",
            "grid_template_rows": null,
            "right": null,
            "justify_content": null,
            "_view_module": "@jupyter-widgets/base",
            "overflow": null,
            "_model_module_version": "1.2.0",
            "_view_count": null,
            "flex_flow": null,
            "width": null,
            "min_width": null,
            "border": null,
            "align_items": null,
            "bottom": null,
            "_model_module": "@jupyter-widgets/base",
            "top": null,
            "grid_column": null,
            "overflow_y": null,
            "overflow_x": null,
            "grid_auto_flow": null,
            "grid_area": null,
            "grid_template_columns": null,
            "flex": null,
            "_model_name": "LayoutModel",
            "justify_items": null,
            "grid_row": null,
            "max_height": null,
            "align_content": null,
            "visibility": null,
            "align_self": null,
            "height": null,
            "min_height": null,
            "padding": null,
            "grid_auto_rows": null,
            "grid_gap": null,
            "max_width": null,
            "order": null,
            "_view_module_version": "1.2.0",
            "grid_template_areas": null,
            "object_position": null,
            "object_fit": null,
            "grid_auto_columns": null,
            "margin": null,
            "display": null,
            "left": null
          }
        },
        "2dc6464b719f4c1985e904b497622a58": {
          "model_module": "@jupyter-widgets/base",
          "model_name": "LayoutModel",
          "model_module_version": "1.2.0",
          "state": {
            "_view_name": "LayoutView",
            "grid_template_rows": null,
            "right": null,
            "justify_content": null,
            "_view_module": "@jupyter-widgets/base",
            "overflow": null,
            "_model_module_version": "1.2.0",
            "_view_count": null,
            "flex_flow": null,
            "width": null,
            "min_width": null,
            "border": null,
            "align_items": null,
            "bottom": null,
            "_model_module": "@jupyter-widgets/base",
            "top": null,
            "grid_column": null,
            "overflow_y": null,
            "overflow_x": null,
            "grid_auto_flow": null,
            "grid_area": null,
            "grid_template_columns": null,
            "flex": null,
            "_model_name": "LayoutModel",
            "justify_items": null,
            "grid_row": null,
            "max_height": null,
            "align_content": null,
            "visibility": null,
            "align_self": null,
            "height": null,
            "min_height": null,
            "padding": null,
            "grid_auto_rows": null,
            "grid_gap": null,
            "max_width": null,
            "order": null,
            "_view_module_version": "1.2.0",
            "grid_template_areas": null,
            "object_position": null,
            "object_fit": null,
            "grid_auto_columns": null,
            "margin": null,
            "display": null,
            "left": null
          }
        },
        "246f0697de5540d28ebc1142a3fa91ae": {
          "model_module": "@jupyter-widgets/controls",
          "model_name": "VBoxModel",
          "model_module_version": "1.5.0",
          "state": {
            "_view_name": "VBoxView",
            "_dom_classes": [
              "widget-interact"
            ],
            "_model_name": "VBoxModel",
            "_view_module": "@jupyter-widgets/controls",
            "_model_module_version": "1.5.0",
            "_view_count": null,
            "_view_module_version": "1.5.0",
            "box_style": "",
            "layout": "IPY_MODEL_3f31f375417045bb8a79f45808222eb8",
            "_model_module": "@jupyter-widgets/controls",
            "children": [
              "IPY_MODEL_3c76f322cbcd452cb92b78b23fcdef4f",
              "IPY_MODEL_12699888f7274680baf6473690979a06",
              "IPY_MODEL_374202dac28f48ce849ae85eda45013b",
              "IPY_MODEL_9b9466ebdd7d4386bebc0cbc80afa422"
            ]
          }
        },
        "3f31f375417045bb8a79f45808222eb8": {
          "model_module": "@jupyter-widgets/base",
          "model_name": "LayoutModel",
          "model_module_version": "1.2.0",
          "state": {
            "_view_name": "LayoutView",
            "grid_template_rows": null,
            "right": null,
            "justify_content": null,
            "_view_module": "@jupyter-widgets/base",
            "overflow": null,
            "_model_module_version": "1.2.0",
            "_view_count": null,
            "flex_flow": null,
            "width": null,
            "min_width": null,
            "border": null,
            "align_items": null,
            "bottom": null,
            "_model_module": "@jupyter-widgets/base",
            "top": null,
            "grid_column": null,
            "overflow_y": null,
            "overflow_x": null,
            "grid_auto_flow": null,
            "grid_area": null,
            "grid_template_columns": null,
            "flex": null,
            "_model_name": "LayoutModel",
            "justify_items": null,
            "grid_row": null,
            "max_height": null,
            "align_content": null,
            "visibility": null,
            "align_self": null,
            "height": null,
            "min_height": null,
            "padding": null,
            "grid_auto_rows": null,
            "grid_gap": null,
            "max_width": null,
            "order": null,
            "_view_module_version": "1.2.0",
            "grid_template_areas": null,
            "object_position": null,
            "object_fit": null,
            "grid_auto_columns": null,
            "margin": null,
            "display": null,
            "left": null
          }
        },
        "3c76f322cbcd452cb92b78b23fcdef4f": {
          "model_module": "@jupyter-widgets/controls",
          "model_name": "IntSliderModel",
          "model_module_version": "1.5.0",
          "state": {
            "_view_name": "IntSliderView",
            "style": "IPY_MODEL_072b40a9b6f547d2983578347be930fb",
            "_dom_classes": [],
            "description": "giocate",
            "step": 1,
            "_model_name": "IntSliderModel",
            "orientation": "horizontal",
            "max": 6,
            "_view_module": "@jupyter-widgets/controls",
            "_model_module_version": "1.5.0",
            "value": 3,
            "_view_count": null,
            "disabled": false,
            "_view_module_version": "1.5.0",
            "min": 1,
            "continuous_update": true,
            "readout_format": "d",
            "description_tooltip": null,
            "readout": true,
            "_model_module": "@jupyter-widgets/controls",
            "layout": "IPY_MODEL_4898df7a67f64933816b1bca5ec396d3"
          }
        },
        "12699888f7274680baf6473690979a06": {
          "model_module": "@jupyter-widgets/controls",
          "model_name": "IntSliderModel",
          "model_module_version": "1.5.0",
          "state": {
            "_view_name": "IntSliderView",
            "style": "IPY_MODEL_4cd8954511564393aed1abd0fe683118",
            "_dom_classes": [],
            "description": "puntata",
            "step": 5,
            "_model_name": "IntSliderModel",
            "orientation": "horizontal",
            "max": 100,
            "_view_module": "@jupyter-widgets/controls",
            "_model_module_version": "1.5.0",
            "value": 5,
            "_view_count": null,
            "disabled": false,
            "_view_module_version": "1.5.0",
            "min": 5,
            "continuous_update": true,
            "readout_format": "d",
            "description_tooltip": null,
            "readout": true,
            "_model_module": "@jupyter-widgets/controls",
            "layout": "IPY_MODEL_f2a5a4d85d5244cc9161d98e1169c227"
          }
        },
        "374202dac28f48ce849ae85eda45013b": {
          "model_module": "@jupyter-widgets/controls",
          "model_name": "ButtonModel",
          "model_module_version": "1.5.0",
          "state": {
            "_view_name": "ButtonView",
            "style": "IPY_MODEL_cb40548afe114196aa2281b5627ac3b8",
            "_dom_classes": [],
            "description": "Run Interact",
            "_model_name": "ButtonModel",
            "button_style": "",
            "_view_module": "@jupyter-widgets/controls",
            "_model_module_version": "1.5.0",
            "tooltip": "",
            "_view_count": null,
            "disabled": false,
            "_view_module_version": "1.5.0",
            "layout": "IPY_MODEL_3c4d7ad616014aa2b3bc8890001740a5",
            "_model_module": "@jupyter-widgets/controls",
            "icon": ""
          }
        },
        "9b9466ebdd7d4386bebc0cbc80afa422": {
          "model_module": "@jupyter-widgets/output",
          "model_name": "OutputModel",
          "model_module_version": "1.0.0",
          "state": {
            "_view_name": "OutputView",
            "msg_id": "",
            "_dom_classes": [],
            "_model_name": "OutputModel",
            "outputs": [],
            "_view_module": "@jupyter-widgets/output",
            "_model_module_version": "1.0.0",
            "_view_count": null,
            "_view_module_version": "1.0.0",
            "layout": "IPY_MODEL_21fe16d8c26d40159b213fae181d7309",
            "_model_module": "@jupyter-widgets/output"
          }
        },
        "072b40a9b6f547d2983578347be930fb": {
          "model_module": "@jupyter-widgets/controls",
          "model_name": "SliderStyleModel",
          "model_module_version": "1.5.0",
          "state": {
            "_view_name": "StyleView",
            "handle_color": null,
            "_model_name": "SliderStyleModel",
            "description_width": "",
            "_view_module": "@jupyter-widgets/base",
            "_model_module_version": "1.5.0",
            "_view_count": null,
            "_view_module_version": "1.2.0",
            "_model_module": "@jupyter-widgets/controls"
          }
        },
        "4898df7a67f64933816b1bca5ec396d3": {
          "model_module": "@jupyter-widgets/base",
          "model_name": "LayoutModel",
          "model_module_version": "1.2.0",
          "state": {
            "_view_name": "LayoutView",
            "grid_template_rows": null,
            "right": null,
            "justify_content": null,
            "_view_module": "@jupyter-widgets/base",
            "overflow": null,
            "_model_module_version": "1.2.0",
            "_view_count": null,
            "flex_flow": null,
            "width": null,
            "min_width": null,
            "border": null,
            "align_items": null,
            "bottom": null,
            "_model_module": "@jupyter-widgets/base",
            "top": null,
            "grid_column": null,
            "overflow_y": null,
            "overflow_x": null,
            "grid_auto_flow": null,
            "grid_area": null,
            "grid_template_columns": null,
            "flex": null,
            "_model_name": "LayoutModel",
            "justify_items": null,
            "grid_row": null,
            "max_height": null,
            "align_content": null,
            "visibility": null,
            "align_self": null,
            "height": null,
            "min_height": null,
            "padding": null,
            "grid_auto_rows": null,
            "grid_gap": null,
            "max_width": null,
            "order": null,
            "_view_module_version": "1.2.0",
            "grid_template_areas": null,
            "object_position": null,
            "object_fit": null,
            "grid_auto_columns": null,
            "margin": null,
            "display": null,
            "left": null
          }
        },
        "4cd8954511564393aed1abd0fe683118": {
          "model_module": "@jupyter-widgets/controls",
          "model_name": "SliderStyleModel",
          "model_module_version": "1.5.0",
          "state": {
            "_view_name": "StyleView",
            "handle_color": null,
            "_model_name": "SliderStyleModel",
            "description_width": "",
            "_view_module": "@jupyter-widgets/base",
            "_model_module_version": "1.5.0",
            "_view_count": null,
            "_view_module_version": "1.2.0",
            "_model_module": "@jupyter-widgets/controls"
          }
        },
        "f2a5a4d85d5244cc9161d98e1169c227": {
          "model_module": "@jupyter-widgets/base",
          "model_name": "LayoutModel",
          "model_module_version": "1.2.0",
          "state": {
            "_view_name": "LayoutView",
            "grid_template_rows": null,
            "right": null,
            "justify_content": null,
            "_view_module": "@jupyter-widgets/base",
            "overflow": null,
            "_model_module_version": "1.2.0",
            "_view_count": null,
            "flex_flow": null,
            "width": null,
            "min_width": null,
            "border": null,
            "align_items": null,
            "bottom": null,
            "_model_module": "@jupyter-widgets/base",
            "top": null,
            "grid_column": null,
            "overflow_y": null,
            "overflow_x": null,
            "grid_auto_flow": null,
            "grid_area": null,
            "grid_template_columns": null,
            "flex": null,
            "_model_name": "LayoutModel",
            "justify_items": null,
            "grid_row": null,
            "max_height": null,
            "align_content": null,
            "visibility": null,
            "align_self": null,
            "height": null,
            "min_height": null,
            "padding": null,
            "grid_auto_rows": null,
            "grid_gap": null,
            "max_width": null,
            "order": null,
            "_view_module_version": "1.2.0",
            "grid_template_areas": null,
            "object_position": null,
            "object_fit": null,
            "grid_auto_columns": null,
            "margin": null,
            "display": null,
            "left": null
          }
        },
        "cb40548afe114196aa2281b5627ac3b8": {
          "model_module": "@jupyter-widgets/controls",
          "model_name": "ButtonStyleModel",
          "model_module_version": "1.5.0",
          "state": {
            "_view_name": "StyleView",
            "_model_name": "ButtonStyleModel",
            "_view_module": "@jupyter-widgets/base",
            "_model_module_version": "1.5.0",
            "_view_count": null,
            "button_color": null,
            "font_weight": "",
            "_view_module_version": "1.2.0",
            "_model_module": "@jupyter-widgets/controls"
          }
        },
        "3c4d7ad616014aa2b3bc8890001740a5": {
          "model_module": "@jupyter-widgets/base",
          "model_name": "LayoutModel",
          "model_module_version": "1.2.0",
          "state": {
            "_view_name": "LayoutView",
            "grid_template_rows": null,
            "right": null,
            "justify_content": null,
            "_view_module": "@jupyter-widgets/base",
            "overflow": null,
            "_model_module_version": "1.2.0",
            "_view_count": null,
            "flex_flow": null,
            "width": null,
            "min_width": null,
            "border": null,
            "align_items": null,
            "bottom": null,
            "_model_module": "@jupyter-widgets/base",
            "top": null,
            "grid_column": null,
            "overflow_y": null,
            "overflow_x": null,
            "grid_auto_flow": null,
            "grid_area": null,
            "grid_template_columns": null,
            "flex": null,
            "_model_name": "LayoutModel",
            "justify_items": null,
            "grid_row": null,
            "max_height": null,
            "align_content": null,
            "visibility": null,
            "align_self": null,
            "height": null,
            "min_height": null,
            "padding": null,
            "grid_auto_rows": null,
            "grid_gap": null,
            "max_width": null,
            "order": null,
            "_view_module_version": "1.2.0",
            "grid_template_areas": null,
            "object_position": null,
            "object_fit": null,
            "grid_auto_columns": null,
            "margin": null,
            "display": null,
            "left": null
          }
        },
        "21fe16d8c26d40159b213fae181d7309": {
          "model_module": "@jupyter-widgets/base",
          "model_name": "LayoutModel",
          "model_module_version": "1.2.0",
          "state": {
            "_view_name": "LayoutView",
            "grid_template_rows": null,
            "right": null,
            "justify_content": null,
            "_view_module": "@jupyter-widgets/base",
            "overflow": null,
            "_model_module_version": "1.2.0",
            "_view_count": null,
            "flex_flow": null,
            "width": null,
            "min_width": null,
            "border": null,
            "align_items": null,
            "bottom": null,
            "_model_module": "@jupyter-widgets/base",
            "top": null,
            "grid_column": null,
            "overflow_y": null,
            "overflow_x": null,
            "grid_auto_flow": null,
            "grid_area": null,
            "grid_template_columns": null,
            "flex": null,
            "_model_name": "LayoutModel",
            "justify_items": null,
            "grid_row": null,
            "max_height": null,
            "align_content": null,
            "visibility": null,
            "align_self": null,
            "height": null,
            "min_height": null,
            "padding": null,
            "grid_auto_rows": null,
            "grid_gap": null,
            "max_width": null,
            "order": null,
            "_view_module_version": "1.2.0",
            "grid_template_areas": null,
            "object_position": null,
            "object_fit": null,
            "grid_auto_columns": null,
            "margin": null,
            "display": null,
            "left": null
          }
        },
        "d0df219c6ce44cbda9eee05fe6417dbf": {
          "model_module": "@jupyter-widgets/controls",
          "model_name": "VBoxModel",
          "model_module_version": "1.5.0",
          "state": {
            "_view_name": "VBoxView",
            "_dom_classes": [
              "widget-interact"
            ],
            "_model_name": "VBoxModel",
            "_view_module": "@jupyter-widgets/controls",
            "_model_module_version": "1.5.0",
            "_view_count": null,
            "_view_module_version": "1.5.0",
            "box_style": "",
            "layout": "IPY_MODEL_ad870750051347d890577ad3a3b3f320",
            "_model_module": "@jupyter-widgets/controls",
            "children": [
              "IPY_MODEL_e19464f43f06477d90840222f525cf83",
              "IPY_MODEL_ef3da77bb8e44c5f88101b8d3a15a086",
              "IPY_MODEL_16f3678703ad4b23a2d883237899d3c5"
            ]
          }
        },
        "ad870750051347d890577ad3a3b3f320": {
          "model_module": "@jupyter-widgets/base",
          "model_name": "LayoutModel",
          "model_module_version": "1.2.0",
          "state": {
            "_view_name": "LayoutView",
            "grid_template_rows": null,
            "right": null,
            "justify_content": null,
            "_view_module": "@jupyter-widgets/base",
            "overflow": null,
            "_model_module_version": "1.2.0",
            "_view_count": null,
            "flex_flow": null,
            "width": null,
            "min_width": null,
            "border": null,
            "align_items": null,
            "bottom": null,
            "_model_module": "@jupyter-widgets/base",
            "top": null,
            "grid_column": null,
            "overflow_y": null,
            "overflow_x": null,
            "grid_auto_flow": null,
            "grid_area": null,
            "grid_template_columns": null,
            "flex": null,
            "_model_name": "LayoutModel",
            "justify_items": null,
            "grid_row": null,
            "max_height": null,
            "align_content": null,
            "visibility": null,
            "align_self": null,
            "height": null,
            "min_height": null,
            "padding": null,
            "grid_auto_rows": null,
            "grid_gap": null,
            "max_width": null,
            "order": null,
            "_view_module_version": "1.2.0",
            "grid_template_areas": null,
            "object_position": null,
            "object_fit": null,
            "grid_auto_columns": null,
            "margin": null,
            "display": null,
            "left": null
          }
        },
        "e19464f43f06477d90840222f525cf83": {
          "model_module": "@jupyter-widgets/controls",
          "model_name": "IntSliderModel",
          "model_module_version": "1.5.0",
          "state": {
            "_view_name": "IntSliderView",
            "style": "IPY_MODEL_c00c40b548ae4ec9939c375c7fe93add",
            "_dom_classes": [],
            "description": "estrazioni",
            "step": 1,
            "_model_name": "IntSliderModel",
            "orientation": "horizontal",
            "max": 10,
            "_view_module": "@jupyter-widgets/controls",
            "_model_module_version": "1.5.0",
            "value": 3,
            "_view_count": null,
            "disabled": false,
            "_view_module_version": "1.5.0",
            "min": 1,
            "continuous_update": true,
            "readout_format": "d",
            "description_tooltip": null,
            "readout": true,
            "_model_module": "@jupyter-widgets/controls",
            "layout": "IPY_MODEL_c8ce5f9f4bde40ef86b0e6aeba8f75e5"
          }
        },
        "ef3da77bb8e44c5f88101b8d3a15a086": {
          "model_module": "@jupyter-widgets/controls",
          "model_name": "ButtonModel",
          "model_module_version": "1.5.0",
          "state": {
            "_view_name": "ButtonView",
            "style": "IPY_MODEL_e86345b4aff54703b703a2667772f95e",
            "_dom_classes": [],
            "description": "Run Interact",
            "_model_name": "ButtonModel",
            "button_style": "",
            "_view_module": "@jupyter-widgets/controls",
            "_model_module_version": "1.5.0",
            "tooltip": "",
            "_view_count": null,
            "disabled": false,
            "_view_module_version": "1.5.0",
            "layout": "IPY_MODEL_0bd77561dd7948e285fab5a14a6ceae6",
            "_model_module": "@jupyter-widgets/controls",
            "icon": ""
          }
        },
        "16f3678703ad4b23a2d883237899d3c5": {
          "model_module": "@jupyter-widgets/output",
          "model_name": "OutputModel",
          "model_module_version": "1.0.0",
          "state": {
            "_view_name": "OutputView",
            "msg_id": "",
            "_dom_classes": [],
            "_model_name": "OutputModel",
            "outputs": [],
            "_view_module": "@jupyter-widgets/output",
            "_model_module_version": "1.0.0",
            "_view_count": null,
            "_view_module_version": "1.0.0",
            "layout": "IPY_MODEL_183d12bbf0c74088b38a5fa7dada86b3",
            "_model_module": "@jupyter-widgets/output"
          }
        },
        "c00c40b548ae4ec9939c375c7fe93add": {
          "model_module": "@jupyter-widgets/controls",
          "model_name": "SliderStyleModel",
          "model_module_version": "1.5.0",
          "state": {
            "_view_name": "StyleView",
            "handle_color": null,
            "_model_name": "SliderStyleModel",
            "description_width": "",
            "_view_module": "@jupyter-widgets/base",
            "_model_module_version": "1.5.0",
            "_view_count": null,
            "_view_module_version": "1.2.0",
            "_model_module": "@jupyter-widgets/controls"
          }
        },
        "c8ce5f9f4bde40ef86b0e6aeba8f75e5": {
          "model_module": "@jupyter-widgets/base",
          "model_name": "LayoutModel",
          "model_module_version": "1.2.0",
          "state": {
            "_view_name": "LayoutView",
            "grid_template_rows": null,
            "right": null,
            "justify_content": null,
            "_view_module": "@jupyter-widgets/base",
            "overflow": null,
            "_model_module_version": "1.2.0",
            "_view_count": null,
            "flex_flow": null,
            "width": null,
            "min_width": null,
            "border": null,
            "align_items": null,
            "bottom": null,
            "_model_module": "@jupyter-widgets/base",
            "top": null,
            "grid_column": null,
            "overflow_y": null,
            "overflow_x": null,
            "grid_auto_flow": null,
            "grid_area": null,
            "grid_template_columns": null,
            "flex": null,
            "_model_name": "LayoutModel",
            "justify_items": null,
            "grid_row": null,
            "max_height": null,
            "align_content": null,
            "visibility": null,
            "align_self": null,
            "height": null,
            "min_height": null,
            "padding": null,
            "grid_auto_rows": null,
            "grid_gap": null,
            "max_width": null,
            "order": null,
            "_view_module_version": "1.2.0",
            "grid_template_areas": null,
            "object_position": null,
            "object_fit": null,
            "grid_auto_columns": null,
            "margin": null,
            "display": null,
            "left": null
          }
        },
        "e86345b4aff54703b703a2667772f95e": {
          "model_module": "@jupyter-widgets/controls",
          "model_name": "ButtonStyleModel",
          "model_module_version": "1.5.0",
          "state": {
            "_view_name": "StyleView",
            "_model_name": "ButtonStyleModel",
            "_view_module": "@jupyter-widgets/base",
            "_model_module_version": "1.5.0",
            "_view_count": null,
            "button_color": null,
            "font_weight": "",
            "_view_module_version": "1.2.0",
            "_model_module": "@jupyter-widgets/controls"
          }
        },
        "0bd77561dd7948e285fab5a14a6ceae6": {
          "model_module": "@jupyter-widgets/base",
          "model_name": "LayoutModel",
          "model_module_version": "1.2.0",
          "state": {
            "_view_name": "LayoutView",
            "grid_template_rows": null,
            "right": null,
            "justify_content": null,
            "_view_module": "@jupyter-widgets/base",
            "overflow": null,
            "_model_module_version": "1.2.0",
            "_view_count": null,
            "flex_flow": null,
            "width": null,
            "min_width": null,
            "border": null,
            "align_items": null,
            "bottom": null,
            "_model_module": "@jupyter-widgets/base",
            "top": null,
            "grid_column": null,
            "overflow_y": null,
            "overflow_x": null,
            "grid_auto_flow": null,
            "grid_area": null,
            "grid_template_columns": null,
            "flex": null,
            "_model_name": "LayoutModel",
            "justify_items": null,
            "grid_row": null,
            "max_height": null,
            "align_content": null,
            "visibility": null,
            "align_self": null,
            "height": null,
            "min_height": null,
            "padding": null,
            "grid_auto_rows": null,
            "grid_gap": null,
            "max_width": null,
            "order": null,
            "_view_module_version": "1.2.0",
            "grid_template_areas": null,
            "object_position": null,
            "object_fit": null,
            "grid_auto_columns": null,
            "margin": null,
            "display": null,
            "left": null
          }
        },
        "183d12bbf0c74088b38a5fa7dada86b3": {
          "model_module": "@jupyter-widgets/base",
          "model_name": "LayoutModel",
          "model_module_version": "1.2.0",
          "state": {
            "_view_name": "LayoutView",
            "grid_template_rows": null,
            "right": null,
            "justify_content": null,
            "_view_module": "@jupyter-widgets/base",
            "overflow": null,
            "_model_module_version": "1.2.0",
            "_view_count": null,
            "flex_flow": null,
            "width": null,
            "min_width": null,
            "border": null,
            "align_items": null,
            "bottom": null,
            "_model_module": "@jupyter-widgets/base",
            "top": null,
            "grid_column": null,
            "overflow_y": null,
            "overflow_x": null,
            "grid_auto_flow": null,
            "grid_area": null,
            "grid_template_columns": null,
            "flex": null,
            "_model_name": "LayoutModel",
            "justify_items": null,
            "grid_row": null,
            "max_height": null,
            "align_content": null,
            "visibility": null,
            "align_self": null,
            "height": null,
            "min_height": null,
            "padding": null,
            "grid_auto_rows": null,
            "grid_gap": null,
            "max_width": null,
            "order": null,
            "_view_module_version": "1.2.0",
            "grid_template_areas": null,
            "object_position": null,
            "object_fit": null,
            "grid_auto_columns": null,
            "margin": null,
            "display": null,
            "left": null
          }
        },
        "0b6d6a380eee4cb2ac3c8e4943362568": {
          "model_module": "@jupyter-widgets/controls",
          "model_name": "VBoxModel",
          "model_module_version": "1.5.0",
          "state": {
            "_view_name": "VBoxView",
            "_dom_classes": [
              "widget-interact"
            ],
            "_model_name": "VBoxModel",
            "_view_module": "@jupyter-widgets/controls",
            "_model_module_version": "1.5.0",
            "_view_count": null,
            "_view_module_version": "1.5.0",
            "box_style": "",
            "layout": "IPY_MODEL_6dc9962fb78a40418c57e6368c12f334",
            "_model_module": "@jupyter-widgets/controls",
            "children": [
              "IPY_MODEL_f5d83dc4d82f43dfbe6d5a8a12a7d1bf",
              "IPY_MODEL_acb7c8ce7b1143c7a64680c7fa4a5306",
              "IPY_MODEL_c24f84688e5b41248d1909b6c977825d",
              "IPY_MODEL_48d999291a99449ea450deb56abc6c2d"
            ]
          }
        },
        "6dc9962fb78a40418c57e6368c12f334": {
          "model_module": "@jupyter-widgets/base",
          "model_name": "LayoutModel",
          "model_module_version": "1.2.0",
          "state": {
            "_view_name": "LayoutView",
            "grid_template_rows": null,
            "right": null,
            "justify_content": null,
            "_view_module": "@jupyter-widgets/base",
            "overflow": null,
            "_model_module_version": "1.2.0",
            "_view_count": null,
            "flex_flow": null,
            "width": null,
            "min_width": null,
            "border": null,
            "align_items": null,
            "bottom": null,
            "_model_module": "@jupyter-widgets/base",
            "top": null,
            "grid_column": null,
            "overflow_y": null,
            "overflow_x": null,
            "grid_auto_flow": null,
            "grid_area": null,
            "grid_template_columns": null,
            "flex": null,
            "_model_name": "LayoutModel",
            "justify_items": null,
            "grid_row": null,
            "max_height": null,
            "align_content": null,
            "visibility": null,
            "align_self": null,
            "height": null,
            "min_height": null,
            "padding": null,
            "grid_auto_rows": null,
            "grid_gap": null,
            "max_width": null,
            "order": null,
            "_view_module_version": "1.2.0",
            "grid_template_areas": null,
            "object_position": null,
            "object_fit": null,
            "grid_auto_columns": null,
            "margin": null,
            "display": null,
            "left": null
          }
        },
        "f5d83dc4d82f43dfbe6d5a8a12a7d1bf": {
          "model_module": "@jupyter-widgets/controls",
          "model_name": "IntSliderModel",
          "model_module_version": "1.5.0",
          "state": {
            "_view_name": "IntSliderView",
            "style": "IPY_MODEL_a766ebf665b446e2aa0fb35df1d179fe",
            "_dom_classes": [],
            "description": "bianche",
            "step": 1,
            "_model_name": "IntSliderModel",
            "orientation": "horizontal",
            "max": 5,
            "_view_module": "@jupyter-widgets/controls",
            "_model_module_version": "1.5.0",
            "value": 2,
            "_view_count": null,
            "disabled": false,
            "_view_module_version": "1.5.0",
            "min": 1,
            "continuous_update": true,
            "readout_format": "d",
            "description_tooltip": null,
            "readout": true,
            "_model_module": "@jupyter-widgets/controls",
            "layout": "IPY_MODEL_7e770a640d7d41a5bafe99b6a30551c0"
          }
        },
        "acb7c8ce7b1143c7a64680c7fa4a5306": {
          "model_module": "@jupyter-widgets/controls",
          "model_name": "IntSliderModel",
          "model_module_version": "1.5.0",
          "state": {
            "_view_name": "IntSliderView",
            "style": "IPY_MODEL_40c54e611bd1480e8a443864dccd76f8",
            "_dom_classes": [],
            "description": "rosse",
            "step": 1,
            "_model_name": "IntSliderModel",
            "orientation": "horizontal",
            "max": 5,
            "_view_module": "@jupyter-widgets/controls",
            "_model_module_version": "1.5.0",
            "value": 3,
            "_view_count": null,
            "disabled": false,
            "_view_module_version": "1.5.0",
            "min": 1,
            "continuous_update": true,
            "readout_format": "d",
            "description_tooltip": null,
            "readout": true,
            "_model_module": "@jupyter-widgets/controls",
            "layout": "IPY_MODEL_6f09c2ef60644860aa55bf3ba868537c"
          }
        },
        "c24f84688e5b41248d1909b6c977825d": {
          "model_module": "@jupyter-widgets/controls",
          "model_name": "ButtonModel",
          "model_module_version": "1.5.0",
          "state": {
            "_view_name": "ButtonView",
            "style": "IPY_MODEL_b7cd8f2ce7d04111a89d37b70cecd77a",
            "_dom_classes": [],
            "description": "Run Interact",
            "_model_name": "ButtonModel",
            "button_style": "",
            "_view_module": "@jupyter-widgets/controls",
            "_model_module_version": "1.5.0",
            "tooltip": "",
            "_view_count": null,
            "disabled": false,
            "_view_module_version": "1.5.0",
            "layout": "IPY_MODEL_4ad7f03101a04559b2bf127d9bc8f50b",
            "_model_module": "@jupyter-widgets/controls",
            "icon": ""
          }
        },
        "48d999291a99449ea450deb56abc6c2d": {
          "model_module": "@jupyter-widgets/output",
          "model_name": "OutputModel",
          "model_module_version": "1.0.0",
          "state": {
            "_view_name": "OutputView",
            "msg_id": "",
            "_dom_classes": [],
            "_model_name": "OutputModel",
            "outputs": [],
            "_view_module": "@jupyter-widgets/output",
            "_model_module_version": "1.0.0",
            "_view_count": null,
            "_view_module_version": "1.0.0",
            "layout": "IPY_MODEL_388b18104ed045968d1264327a3bd47a",
            "_model_module": "@jupyter-widgets/output"
          }
        },
        "a766ebf665b446e2aa0fb35df1d179fe": {
          "model_module": "@jupyter-widgets/controls",
          "model_name": "SliderStyleModel",
          "model_module_version": "1.5.0",
          "state": {
            "_view_name": "StyleView",
            "handle_color": null,
            "_model_name": "SliderStyleModel",
            "description_width": "",
            "_view_module": "@jupyter-widgets/base",
            "_model_module_version": "1.5.0",
            "_view_count": null,
            "_view_module_version": "1.2.0",
            "_model_module": "@jupyter-widgets/controls"
          }
        },
        "7e770a640d7d41a5bafe99b6a30551c0": {
          "model_module": "@jupyter-widgets/base",
          "model_name": "LayoutModel",
          "model_module_version": "1.2.0",
          "state": {
            "_view_name": "LayoutView",
            "grid_template_rows": null,
            "right": null,
            "justify_content": null,
            "_view_module": "@jupyter-widgets/base",
            "overflow": null,
            "_model_module_version": "1.2.0",
            "_view_count": null,
            "flex_flow": null,
            "width": null,
            "min_width": null,
            "border": null,
            "align_items": null,
            "bottom": null,
            "_model_module": "@jupyter-widgets/base",
            "top": null,
            "grid_column": null,
            "overflow_y": null,
            "overflow_x": null,
            "grid_auto_flow": null,
            "grid_area": null,
            "grid_template_columns": null,
            "flex": null,
            "_model_name": "LayoutModel",
            "justify_items": null,
            "grid_row": null,
            "max_height": null,
            "align_content": null,
            "visibility": null,
            "align_self": null,
            "height": null,
            "min_height": null,
            "padding": null,
            "grid_auto_rows": null,
            "grid_gap": null,
            "max_width": null,
            "order": null,
            "_view_module_version": "1.2.0",
            "grid_template_areas": null,
            "object_position": null,
            "object_fit": null,
            "grid_auto_columns": null,
            "margin": null,
            "display": null,
            "left": null
          }
        },
        "40c54e611bd1480e8a443864dccd76f8": {
          "model_module": "@jupyter-widgets/controls",
          "model_name": "SliderStyleModel",
          "model_module_version": "1.5.0",
          "state": {
            "_view_name": "StyleView",
            "handle_color": null,
            "_model_name": "SliderStyleModel",
            "description_width": "",
            "_view_module": "@jupyter-widgets/base",
            "_model_module_version": "1.5.0",
            "_view_count": null,
            "_view_module_version": "1.2.0",
            "_model_module": "@jupyter-widgets/controls"
          }
        },
        "6f09c2ef60644860aa55bf3ba868537c": {
          "model_module": "@jupyter-widgets/base",
          "model_name": "LayoutModel",
          "model_module_version": "1.2.0",
          "state": {
            "_view_name": "LayoutView",
            "grid_template_rows": null,
            "right": null,
            "justify_content": null,
            "_view_module": "@jupyter-widgets/base",
            "overflow": null,
            "_model_module_version": "1.2.0",
            "_view_count": null,
            "flex_flow": null,
            "width": null,
            "min_width": null,
            "border": null,
            "align_items": null,
            "bottom": null,
            "_model_module": "@jupyter-widgets/base",
            "top": null,
            "grid_column": null,
            "overflow_y": null,
            "overflow_x": null,
            "grid_auto_flow": null,
            "grid_area": null,
            "grid_template_columns": null,
            "flex": null,
            "_model_name": "LayoutModel",
            "justify_items": null,
            "grid_row": null,
            "max_height": null,
            "align_content": null,
            "visibility": null,
            "align_self": null,
            "height": null,
            "min_height": null,
            "padding": null,
            "grid_auto_rows": null,
            "grid_gap": null,
            "max_width": null,
            "order": null,
            "_view_module_version": "1.2.0",
            "grid_template_areas": null,
            "object_position": null,
            "object_fit": null,
            "grid_auto_columns": null,
            "margin": null,
            "display": null,
            "left": null
          }
        },
        "b7cd8f2ce7d04111a89d37b70cecd77a": {
          "model_module": "@jupyter-widgets/controls",
          "model_name": "ButtonStyleModel",
          "model_module_version": "1.5.0",
          "state": {
            "_view_name": "StyleView",
            "_model_name": "ButtonStyleModel",
            "_view_module": "@jupyter-widgets/base",
            "_model_module_version": "1.5.0",
            "_view_count": null,
            "button_color": null,
            "font_weight": "",
            "_view_module_version": "1.2.0",
            "_model_module": "@jupyter-widgets/controls"
          }
        },
        "4ad7f03101a04559b2bf127d9bc8f50b": {
          "model_module": "@jupyter-widgets/base",
          "model_name": "LayoutModel",
          "model_module_version": "1.2.0",
          "state": {
            "_view_name": "LayoutView",
            "grid_template_rows": null,
            "right": null,
            "justify_content": null,
            "_view_module": "@jupyter-widgets/base",
            "overflow": null,
            "_model_module_version": "1.2.0",
            "_view_count": null,
            "flex_flow": null,
            "width": null,
            "min_width": null,
            "border": null,
            "align_items": null,
            "bottom": null,
            "_model_module": "@jupyter-widgets/base",
            "top": null,
            "grid_column": null,
            "overflow_y": null,
            "overflow_x": null,
            "grid_auto_flow": null,
            "grid_area": null,
            "grid_template_columns": null,
            "flex": null,
            "_model_name": "LayoutModel",
            "justify_items": null,
            "grid_row": null,
            "max_height": null,
            "align_content": null,
            "visibility": null,
            "align_self": null,
            "height": null,
            "min_height": null,
            "padding": null,
            "grid_auto_rows": null,
            "grid_gap": null,
            "max_width": null,
            "order": null,
            "_view_module_version": "1.2.0",
            "grid_template_areas": null,
            "object_position": null,
            "object_fit": null,
            "grid_auto_columns": null,
            "margin": null,
            "display": null,
            "left": null
          }
        },
        "388b18104ed045968d1264327a3bd47a": {
          "model_module": "@jupyter-widgets/base",
          "model_name": "LayoutModel",
          "model_module_version": "1.2.0",
          "state": {
            "_view_name": "LayoutView",
            "grid_template_rows": null,
            "right": null,
            "justify_content": null,
            "_view_module": "@jupyter-widgets/base",
            "overflow": null,
            "_model_module_version": "1.2.0",
            "_view_count": null,
            "flex_flow": null,
            "width": null,
            "min_width": null,
            "border": null,
            "align_items": null,
            "bottom": null,
            "_model_module": "@jupyter-widgets/base",
            "top": null,
            "grid_column": null,
            "overflow_y": null,
            "overflow_x": null,
            "grid_auto_flow": null,
            "grid_area": null,
            "grid_template_columns": null,
            "flex": null,
            "_model_name": "LayoutModel",
            "justify_items": null,
            "grid_row": null,
            "max_height": null,
            "align_content": null,
            "visibility": null,
            "align_self": null,
            "height": null,
            "min_height": null,
            "padding": null,
            "grid_auto_rows": null,
            "grid_gap": null,
            "max_width": null,
            "order": null,
            "_view_module_version": "1.2.0",
            "grid_template_areas": null,
            "object_position": null,
            "object_fit": null,
            "grid_auto_columns": null,
            "margin": null,
            "display": null,
            "left": null
          }
        },
        "ec9f544250c94deeae89e9ed94d3a668": {
          "model_module": "@jupyter-widgets/controls",
          "model_name": "VBoxModel",
          "model_module_version": "1.5.0",
          "state": {
            "_view_name": "VBoxView",
            "_dom_classes": [
              "widget-interact"
            ],
            "_model_name": "VBoxModel",
            "_view_module": "@jupyter-widgets/controls",
            "_model_module_version": "1.5.0",
            "_view_count": null,
            "_view_module_version": "1.5.0",
            "box_style": "",
            "layout": "IPY_MODEL_d87c7c15effa49c0b891260defe452fa",
            "_model_module": "@jupyter-widgets/controls",
            "children": [
              "IPY_MODEL_e25624746c074220b6e7c3fb10493372",
              "IPY_MODEL_d4105017d1cd4c5aace71a3d4259867c",
              "IPY_MODEL_c34bb7e018e6464589d1780edef67e24",
              "IPY_MODEL_06376944550f410cb3eb03ceb6b88481"
            ]
          }
        },
        "d87c7c15effa49c0b891260defe452fa": {
          "model_module": "@jupyter-widgets/base",
          "model_name": "LayoutModel",
          "model_module_version": "1.2.0",
          "state": {
            "_view_name": "LayoutView",
            "grid_template_rows": null,
            "right": null,
            "justify_content": null,
            "_view_module": "@jupyter-widgets/base",
            "overflow": null,
            "_model_module_version": "1.2.0",
            "_view_count": null,
            "flex_flow": null,
            "width": null,
            "min_width": null,
            "border": null,
            "align_items": null,
            "bottom": null,
            "_model_module": "@jupyter-widgets/base",
            "top": null,
            "grid_column": null,
            "overflow_y": null,
            "overflow_x": null,
            "grid_auto_flow": null,
            "grid_area": null,
            "grid_template_columns": null,
            "flex": null,
            "_model_name": "LayoutModel",
            "justify_items": null,
            "grid_row": null,
            "max_height": null,
            "align_content": null,
            "visibility": null,
            "align_self": null,
            "height": null,
            "min_height": null,
            "padding": null,
            "grid_auto_rows": null,
            "grid_gap": null,
            "max_width": null,
            "order": null,
            "_view_module_version": "1.2.0",
            "grid_template_areas": null,
            "object_position": null,
            "object_fit": null,
            "grid_auto_columns": null,
            "margin": null,
            "display": null,
            "left": null
          }
        },
        "e25624746c074220b6e7c3fb10493372": {
          "model_module": "@jupyter-widgets/controls",
          "model_name": "IntSliderModel",
          "model_module_version": "1.5.0",
          "state": {
            "_view_name": "IntSliderView",
            "style": "IPY_MODEL_37ec266df6284f459e5b6dfcd16e63d6",
            "_dom_classes": [],
            "description": "bianche",
            "step": 1,
            "_model_name": "IntSliderModel",
            "orientation": "horizontal",
            "max": 5,
            "_view_module": "@jupyter-widgets/controls",
            "_model_module_version": "1.5.0",
            "value": 2,
            "_view_count": null,
            "disabled": false,
            "_view_module_version": "1.5.0",
            "min": 1,
            "continuous_update": true,
            "readout_format": "d",
            "description_tooltip": null,
            "readout": true,
            "_model_module": "@jupyter-widgets/controls",
            "layout": "IPY_MODEL_77378dc41e0645f39f6b4d6149b56db4"
          }
        },
        "d4105017d1cd4c5aace71a3d4259867c": {
          "model_module": "@jupyter-widgets/controls",
          "model_name": "IntSliderModel",
          "model_module_version": "1.5.0",
          "state": {
            "_view_name": "IntSliderView",
            "style": "IPY_MODEL_8ccd292967f24e9c8f7a98ae7b17f1f3",
            "_dom_classes": [],
            "description": "rosse",
            "step": 1,
            "_model_name": "IntSliderModel",
            "orientation": "horizontal",
            "max": 5,
            "_view_module": "@jupyter-widgets/controls",
            "_model_module_version": "1.5.0",
            "value": 3,
            "_view_count": null,
            "disabled": false,
            "_view_module_version": "1.5.0",
            "min": 1,
            "continuous_update": true,
            "readout_format": "d",
            "description_tooltip": null,
            "readout": true,
            "_model_module": "@jupyter-widgets/controls",
            "layout": "IPY_MODEL_e0bd3d74f9a6412a8f72d30a8558b0ee"
          }
        },
        "c34bb7e018e6464589d1780edef67e24": {
          "model_module": "@jupyter-widgets/controls",
          "model_name": "ButtonModel",
          "model_module_version": "1.5.0",
          "state": {
            "_view_name": "ButtonView",
            "style": "IPY_MODEL_5d62db25899b4e5fa7d5e1501a6f03af",
            "_dom_classes": [],
            "description": "Run Interact",
            "_model_name": "ButtonModel",
            "button_style": "",
            "_view_module": "@jupyter-widgets/controls",
            "_model_module_version": "1.5.0",
            "tooltip": "",
            "_view_count": null,
            "disabled": false,
            "_view_module_version": "1.5.0",
            "layout": "IPY_MODEL_1be07b8683ff466aa9315c49ae2e585f",
            "_model_module": "@jupyter-widgets/controls",
            "icon": ""
          }
        },
        "06376944550f410cb3eb03ceb6b88481": {
          "model_module": "@jupyter-widgets/output",
          "model_name": "OutputModel",
          "model_module_version": "1.0.0",
          "state": {
            "_view_name": "OutputView",
            "msg_id": "",
            "_dom_classes": [],
            "_model_name": "OutputModel",
            "outputs": [],
            "_view_module": "@jupyter-widgets/output",
            "_model_module_version": "1.0.0",
            "_view_count": null,
            "_view_module_version": "1.0.0",
            "layout": "IPY_MODEL_4f64c9976b19445a9e006c8ce7f57fca",
            "_model_module": "@jupyter-widgets/output"
          }
        },
        "37ec266df6284f459e5b6dfcd16e63d6": {
          "model_module": "@jupyter-widgets/controls",
          "model_name": "SliderStyleModel",
          "model_module_version": "1.5.0",
          "state": {
            "_view_name": "StyleView",
            "handle_color": null,
            "_model_name": "SliderStyleModel",
            "description_width": "",
            "_view_module": "@jupyter-widgets/base",
            "_model_module_version": "1.5.0",
            "_view_count": null,
            "_view_module_version": "1.2.0",
            "_model_module": "@jupyter-widgets/controls"
          }
        },
        "77378dc41e0645f39f6b4d6149b56db4": {
          "model_module": "@jupyter-widgets/base",
          "model_name": "LayoutModel",
          "model_module_version": "1.2.0",
          "state": {
            "_view_name": "LayoutView",
            "grid_template_rows": null,
            "right": null,
            "justify_content": null,
            "_view_module": "@jupyter-widgets/base",
            "overflow": null,
            "_model_module_version": "1.2.0",
            "_view_count": null,
            "flex_flow": null,
            "width": null,
            "min_width": null,
            "border": null,
            "align_items": null,
            "bottom": null,
            "_model_module": "@jupyter-widgets/base",
            "top": null,
            "grid_column": null,
            "overflow_y": null,
            "overflow_x": null,
            "grid_auto_flow": null,
            "grid_area": null,
            "grid_template_columns": null,
            "flex": null,
            "_model_name": "LayoutModel",
            "justify_items": null,
            "grid_row": null,
            "max_height": null,
            "align_content": null,
            "visibility": null,
            "align_self": null,
            "height": null,
            "min_height": null,
            "padding": null,
            "grid_auto_rows": null,
            "grid_gap": null,
            "max_width": null,
            "order": null,
            "_view_module_version": "1.2.0",
            "grid_template_areas": null,
            "object_position": null,
            "object_fit": null,
            "grid_auto_columns": null,
            "margin": null,
            "display": null,
            "left": null
          }
        },
        "8ccd292967f24e9c8f7a98ae7b17f1f3": {
          "model_module": "@jupyter-widgets/controls",
          "model_name": "SliderStyleModel",
          "model_module_version": "1.5.0",
          "state": {
            "_view_name": "StyleView",
            "handle_color": null,
            "_model_name": "SliderStyleModel",
            "description_width": "",
            "_view_module": "@jupyter-widgets/base",
            "_model_module_version": "1.5.0",
            "_view_count": null,
            "_view_module_version": "1.2.0",
            "_model_module": "@jupyter-widgets/controls"
          }
        },
        "e0bd3d74f9a6412a8f72d30a8558b0ee": {
          "model_module": "@jupyter-widgets/base",
          "model_name": "LayoutModel",
          "model_module_version": "1.2.0",
          "state": {
            "_view_name": "LayoutView",
            "grid_template_rows": null,
            "right": null,
            "justify_content": null,
            "_view_module": "@jupyter-widgets/base",
            "overflow": null,
            "_model_module_version": "1.2.0",
            "_view_count": null,
            "flex_flow": null,
            "width": null,
            "min_width": null,
            "border": null,
            "align_items": null,
            "bottom": null,
            "_model_module": "@jupyter-widgets/base",
            "top": null,
            "grid_column": null,
            "overflow_y": null,
            "overflow_x": null,
            "grid_auto_flow": null,
            "grid_area": null,
            "grid_template_columns": null,
            "flex": null,
            "_model_name": "LayoutModel",
            "justify_items": null,
            "grid_row": null,
            "max_height": null,
            "align_content": null,
            "visibility": null,
            "align_self": null,
            "height": null,
            "min_height": null,
            "padding": null,
            "grid_auto_rows": null,
            "grid_gap": null,
            "max_width": null,
            "order": null,
            "_view_module_version": "1.2.0",
            "grid_template_areas": null,
            "object_position": null,
            "object_fit": null,
            "grid_auto_columns": null,
            "margin": null,
            "display": null,
            "left": null
          }
        },
        "5d62db25899b4e5fa7d5e1501a6f03af": {
          "model_module": "@jupyter-widgets/controls",
          "model_name": "ButtonStyleModel",
          "model_module_version": "1.5.0",
          "state": {
            "_view_name": "StyleView",
            "_model_name": "ButtonStyleModel",
            "_view_module": "@jupyter-widgets/base",
            "_model_module_version": "1.5.0",
            "_view_count": null,
            "button_color": null,
            "font_weight": "",
            "_view_module_version": "1.2.0",
            "_model_module": "@jupyter-widgets/controls"
          }
        },
        "1be07b8683ff466aa9315c49ae2e585f": {
          "model_module": "@jupyter-widgets/base",
          "model_name": "LayoutModel",
          "model_module_version": "1.2.0",
          "state": {
            "_view_name": "LayoutView",
            "grid_template_rows": null,
            "right": null,
            "justify_content": null,
            "_view_module": "@jupyter-widgets/base",
            "overflow": null,
            "_model_module_version": "1.2.0",
            "_view_count": null,
            "flex_flow": null,
            "width": null,
            "min_width": null,
            "border": null,
            "align_items": null,
            "bottom": null,
            "_model_module": "@jupyter-widgets/base",
            "top": null,
            "grid_column": null,
            "overflow_y": null,
            "overflow_x": null,
            "grid_auto_flow": null,
            "grid_area": null,
            "grid_template_columns": null,
            "flex": null,
            "_model_name": "LayoutModel",
            "justify_items": null,
            "grid_row": null,
            "max_height": null,
            "align_content": null,
            "visibility": null,
            "align_self": null,
            "height": null,
            "min_height": null,
            "padding": null,
            "grid_auto_rows": null,
            "grid_gap": null,
            "max_width": null,
            "order": null,
            "_view_module_version": "1.2.0",
            "grid_template_areas": null,
            "object_position": null,
            "object_fit": null,
            "grid_auto_columns": null,
            "margin": null,
            "display": null,
            "left": null
          }
        },
        "4f64c9976b19445a9e006c8ce7f57fca": {
          "model_module": "@jupyter-widgets/base",
          "model_name": "LayoutModel",
          "model_module_version": "1.2.0",
          "state": {
            "_view_name": "LayoutView",
            "grid_template_rows": null,
            "right": null,
            "justify_content": null,
            "_view_module": "@jupyter-widgets/base",
            "overflow": null,
            "_model_module_version": "1.2.0",
            "_view_count": null,
            "flex_flow": null,
            "width": null,
            "min_width": null,
            "border": null,
            "align_items": null,
            "bottom": null,
            "_model_module": "@jupyter-widgets/base",
            "top": null,
            "grid_column": null,
            "overflow_y": null,
            "overflow_x": null,
            "grid_auto_flow": null,
            "grid_area": null,
            "grid_template_columns": null,
            "flex": null,
            "_model_name": "LayoutModel",
            "justify_items": null,
            "grid_row": null,
            "max_height": null,
            "align_content": null,
            "visibility": null,
            "align_self": null,
            "height": null,
            "min_height": null,
            "padding": null,
            "grid_auto_rows": null,
            "grid_gap": null,
            "max_width": null,
            "order": null,
            "_view_module_version": "1.2.0",
            "grid_template_areas": null,
            "object_position": null,
            "object_fit": null,
            "grid_auto_columns": null,
            "margin": null,
            "display": null,
            "left": null
          }
        },
        "882f87516e144851ba1598b6ce810947": {
          "model_module": "@jupyter-widgets/controls",
          "model_name": "VBoxModel",
          "model_module_version": "1.5.0",
          "state": {
            "_view_name": "VBoxView",
            "_dom_classes": [
              "widget-interact"
            ],
            "_model_name": "VBoxModel",
            "_view_module": "@jupyter-widgets/controls",
            "_model_module_version": "1.5.0",
            "_view_count": null,
            "_view_module_version": "1.5.0",
            "box_style": "",
            "layout": "IPY_MODEL_f5659def07574543b8ace50b2c550b58",
            "_model_module": "@jupyter-widgets/controls",
            "children": [
              "IPY_MODEL_6160e64ced094a78ae5a5eaa940c32af",
              "IPY_MODEL_3d580586af414f01ac02e1496a0f746f",
              "IPY_MODEL_c043e4f6d3264373a43543f7f71c1edf"
            ]
          }
        },
        "f5659def07574543b8ace50b2c550b58": {
          "model_module": "@jupyter-widgets/base",
          "model_name": "LayoutModel",
          "model_module_version": "1.2.0",
          "state": {
            "_view_name": "LayoutView",
            "grid_template_rows": null,
            "right": null,
            "justify_content": null,
            "_view_module": "@jupyter-widgets/base",
            "overflow": null,
            "_model_module_version": "1.2.0",
            "_view_count": null,
            "flex_flow": null,
            "width": null,
            "min_width": null,
            "border": null,
            "align_items": null,
            "bottom": null,
            "_model_module": "@jupyter-widgets/base",
            "top": null,
            "grid_column": null,
            "overflow_y": null,
            "overflow_x": null,
            "grid_auto_flow": null,
            "grid_area": null,
            "grid_template_columns": null,
            "flex": null,
            "_model_name": "LayoutModel",
            "justify_items": null,
            "grid_row": null,
            "max_height": null,
            "align_content": null,
            "visibility": null,
            "align_self": null,
            "height": null,
            "min_height": null,
            "padding": null,
            "grid_auto_rows": null,
            "grid_gap": null,
            "max_width": null,
            "order": null,
            "_view_module_version": "1.2.0",
            "grid_template_areas": null,
            "object_position": null,
            "object_fit": null,
            "grid_auto_columns": null,
            "margin": null,
            "display": null,
            "left": null
          }
        },
        "6160e64ced094a78ae5a5eaa940c32af": {
          "model_module": "@jupyter-widgets/controls",
          "model_name": "IntSliderModel",
          "model_module_version": "1.5.0",
          "state": {
            "_view_name": "IntSliderView",
            "style": "IPY_MODEL_17670f95b57b4f9c83850e25d741ac58",
            "_dom_classes": [],
            "description": "tempo",
            "step": 1,
            "_model_name": "IntSliderModel",
            "orientation": "horizontal",
            "max": 20,
            "_view_module": "@jupyter-widgets/controls",
            "_model_module_version": "1.5.0",
            "value": 10,
            "_view_count": null,
            "disabled": false,
            "_view_module_version": "1.5.0",
            "min": 1,
            "continuous_update": true,
            "readout_format": "d",
            "description_tooltip": null,
            "readout": true,
            "_model_module": "@jupyter-widgets/controls",
            "layout": "IPY_MODEL_320e6720bb0f43b5b6072c7a02973841"
          }
        },
        "3d580586af414f01ac02e1496a0f746f": {
          "model_module": "@jupyter-widgets/controls",
          "model_name": "ButtonModel",
          "model_module_version": "1.5.0",
          "state": {
            "_view_name": "ButtonView",
            "style": "IPY_MODEL_6187dbd9b97e44bcae4f255d29117aee",
            "_dom_classes": [],
            "description": "Run Interact",
            "_model_name": "ButtonModel",
            "button_style": "",
            "_view_module": "@jupyter-widgets/controls",
            "_model_module_version": "1.5.0",
            "tooltip": "",
            "_view_count": null,
            "disabled": false,
            "_view_module_version": "1.5.0",
            "layout": "IPY_MODEL_bebbbb1a39434236a7017972443a2315",
            "_model_module": "@jupyter-widgets/controls",
            "icon": ""
          }
        },
        "c043e4f6d3264373a43543f7f71c1edf": {
          "model_module": "@jupyter-widgets/output",
          "model_name": "OutputModel",
          "model_module_version": "1.0.0",
          "state": {
            "_view_name": "OutputView",
            "msg_id": "",
            "_dom_classes": [],
            "_model_name": "OutputModel",
            "outputs": [],
            "_view_module": "@jupyter-widgets/output",
            "_model_module_version": "1.0.0",
            "_view_count": null,
            "_view_module_version": "1.0.0",
            "layout": "IPY_MODEL_925ad2240b534dcf88bc3240cf6a0ef5",
            "_model_module": "@jupyter-widgets/output"
          }
        },
        "17670f95b57b4f9c83850e25d741ac58": {
          "model_module": "@jupyter-widgets/controls",
          "model_name": "SliderStyleModel",
          "model_module_version": "1.5.0",
          "state": {
            "_view_name": "StyleView",
            "handle_color": null,
            "_model_name": "SliderStyleModel",
            "description_width": "",
            "_view_module": "@jupyter-widgets/base",
            "_model_module_version": "1.5.0",
            "_view_count": null,
            "_view_module_version": "1.2.0",
            "_model_module": "@jupyter-widgets/controls"
          }
        },
        "320e6720bb0f43b5b6072c7a02973841": {
          "model_module": "@jupyter-widgets/base",
          "model_name": "LayoutModel",
          "model_module_version": "1.2.0",
          "state": {
            "_view_name": "LayoutView",
            "grid_template_rows": null,
            "right": null,
            "justify_content": null,
            "_view_module": "@jupyter-widgets/base",
            "overflow": null,
            "_model_module_version": "1.2.0",
            "_view_count": null,
            "flex_flow": null,
            "width": null,
            "min_width": null,
            "border": null,
            "align_items": null,
            "bottom": null,
            "_model_module": "@jupyter-widgets/base",
            "top": null,
            "grid_column": null,
            "overflow_y": null,
            "overflow_x": null,
            "grid_auto_flow": null,
            "grid_area": null,
            "grid_template_columns": null,
            "flex": null,
            "_model_name": "LayoutModel",
            "justify_items": null,
            "grid_row": null,
            "max_height": null,
            "align_content": null,
            "visibility": null,
            "align_self": null,
            "height": null,
            "min_height": null,
            "padding": null,
            "grid_auto_rows": null,
            "grid_gap": null,
            "max_width": null,
            "order": null,
            "_view_module_version": "1.2.0",
            "grid_template_areas": null,
            "object_position": null,
            "object_fit": null,
            "grid_auto_columns": null,
            "margin": null,
            "display": null,
            "left": null
          }
        },
        "6187dbd9b97e44bcae4f255d29117aee": {
          "model_module": "@jupyter-widgets/controls",
          "model_name": "ButtonStyleModel",
          "model_module_version": "1.5.0",
          "state": {
            "_view_name": "StyleView",
            "_model_name": "ButtonStyleModel",
            "_view_module": "@jupyter-widgets/base",
            "_model_module_version": "1.5.0",
            "_view_count": null,
            "button_color": null,
            "font_weight": "",
            "_view_module_version": "1.2.0",
            "_model_module": "@jupyter-widgets/controls"
          }
        },
        "bebbbb1a39434236a7017972443a2315": {
          "model_module": "@jupyter-widgets/base",
          "model_name": "LayoutModel",
          "model_module_version": "1.2.0",
          "state": {
            "_view_name": "LayoutView",
            "grid_template_rows": null,
            "right": null,
            "justify_content": null,
            "_view_module": "@jupyter-widgets/base",
            "overflow": null,
            "_model_module_version": "1.2.0",
            "_view_count": null,
            "flex_flow": null,
            "width": null,
            "min_width": null,
            "border": null,
            "align_items": null,
            "bottom": null,
            "_model_module": "@jupyter-widgets/base",
            "top": null,
            "grid_column": null,
            "overflow_y": null,
            "overflow_x": null,
            "grid_auto_flow": null,
            "grid_area": null,
            "grid_template_columns": null,
            "flex": null,
            "_model_name": "LayoutModel",
            "justify_items": null,
            "grid_row": null,
            "max_height": null,
            "align_content": null,
            "visibility": null,
            "align_self": null,
            "height": null,
            "min_height": null,
            "padding": null,
            "grid_auto_rows": null,
            "grid_gap": null,
            "max_width": null,
            "order": null,
            "_view_module_version": "1.2.0",
            "grid_template_areas": null,
            "object_position": null,
            "object_fit": null,
            "grid_auto_columns": null,
            "margin": null,
            "display": null,
            "left": null
          }
        },
        "925ad2240b534dcf88bc3240cf6a0ef5": {
          "model_module": "@jupyter-widgets/base",
          "model_name": "LayoutModel",
          "model_module_version": "1.2.0",
          "state": {
            "_view_name": "LayoutView",
            "grid_template_rows": null,
            "right": null,
            "justify_content": null,
            "_view_module": "@jupyter-widgets/base",
            "overflow": null,
            "_model_module_version": "1.2.0",
            "_view_count": null,
            "flex_flow": null,
            "width": null,
            "min_width": null,
            "border": null,
            "align_items": null,
            "bottom": null,
            "_model_module": "@jupyter-widgets/base",
            "top": null,
            "grid_column": null,
            "overflow_y": null,
            "overflow_x": null,
            "grid_auto_flow": null,
            "grid_area": null,
            "grid_template_columns": null,
            "flex": null,
            "_model_name": "LayoutModel",
            "justify_items": null,
            "grid_row": null,
            "max_height": null,
            "align_content": null,
            "visibility": null,
            "align_self": null,
            "height": null,
            "min_height": null,
            "padding": null,
            "grid_auto_rows": null,
            "grid_gap": null,
            "max_width": null,
            "order": null,
            "_view_module_version": "1.2.0",
            "grid_template_areas": null,
            "object_position": null,
            "object_fit": null,
            "grid_auto_columns": null,
            "margin": null,
            "display": null,
            "left": null
          }
        },
        "5bb6efba142243faa1b6a84ce7821f25": {
          "model_module": "@jupyter-widgets/controls",
          "model_name": "VBoxModel",
          "model_module_version": "1.5.0",
          "state": {
            "_view_name": "VBoxView",
            "_dom_classes": [
              "widget-interact"
            ],
            "_model_name": "VBoxModel",
            "_view_module": "@jupyter-widgets/controls",
            "_model_module_version": "1.5.0",
            "_view_count": null,
            "_view_module_version": "1.5.0",
            "box_style": "",
            "layout": "IPY_MODEL_a202aea8fa0b4536b34c02217169bdbb",
            "_model_module": "@jupyter-widgets/controls",
            "children": [
              "IPY_MODEL_d631a87df15643e891504b618fce8f7c",
              "IPY_MODEL_b8bea062b6314dad949773ab16fbab9f",
              "IPY_MODEL_42c5e27def5845438d6530fa2e8bf82a",
              "IPY_MODEL_121c21db8e394afdb70b3bdd1a459b8f"
            ]
          }
        },
        "a202aea8fa0b4536b34c02217169bdbb": {
          "model_module": "@jupyter-widgets/base",
          "model_name": "LayoutModel",
          "model_module_version": "1.2.0",
          "state": {
            "_view_name": "LayoutView",
            "grid_template_rows": null,
            "right": null,
            "justify_content": null,
            "_view_module": "@jupyter-widgets/base",
            "overflow": null,
            "_model_module_version": "1.2.0",
            "_view_count": null,
            "flex_flow": null,
            "width": null,
            "min_width": null,
            "border": null,
            "align_items": null,
            "bottom": null,
            "_model_module": "@jupyter-widgets/base",
            "top": null,
            "grid_column": null,
            "overflow_y": null,
            "overflow_x": null,
            "grid_auto_flow": null,
            "grid_area": null,
            "grid_template_columns": null,
            "flex": null,
            "_model_name": "LayoutModel",
            "justify_items": null,
            "grid_row": null,
            "max_height": null,
            "align_content": null,
            "visibility": null,
            "align_self": null,
            "height": null,
            "min_height": null,
            "padding": null,
            "grid_auto_rows": null,
            "grid_gap": null,
            "max_width": null,
            "order": null,
            "_view_module_version": "1.2.0",
            "grid_template_areas": null,
            "object_position": null,
            "object_fit": null,
            "grid_auto_columns": null,
            "margin": null,
            "display": null,
            "left": null
          }
        },
        "d631a87df15643e891504b618fce8f7c": {
          "model_module": "@jupyter-widgets/controls",
          "model_name": "IntSliderModel",
          "model_module_version": "1.5.0",
          "state": {
            "_view_name": "IntSliderView",
            "style": "IPY_MODEL_79ba47e94ecd49c8ab5b71c4dceedc63",
            "_dom_classes": [],
            "description": "a",
            "step": 1,
            "_model_name": "IntSliderModel",
            "orientation": "horizontal",
            "max": 10,
            "_view_module": "@jupyter-widgets/controls",
            "_model_module_version": "1.5.0",
            "value": 4,
            "_view_count": null,
            "disabled": false,
            "_view_module_version": "1.5.0",
            "min": 0,
            "continuous_update": true,
            "readout_format": "d",
            "description_tooltip": null,
            "readout": true,
            "_model_module": "@jupyter-widgets/controls",
            "layout": "IPY_MODEL_083d58ecfa4c44aaa1603ef6a714541f"
          }
        },
        "b8bea062b6314dad949773ab16fbab9f": {
          "model_module": "@jupyter-widgets/controls",
          "model_name": "IntSliderModel",
          "model_module_version": "1.5.0",
          "state": {
            "_view_name": "IntSliderView",
            "style": "IPY_MODEL_4638c5a7f74f49e08238d91de1e8a147",
            "_dom_classes": [],
            "description": "b",
            "step": 1,
            "_model_name": "IntSliderModel",
            "orientation": "horizontal",
            "max": 10,
            "_view_module": "@jupyter-widgets/controls",
            "_model_module_version": "1.5.0",
            "value": 6,
            "_view_count": null,
            "disabled": false,
            "_view_module_version": "1.5.0",
            "min": 0,
            "continuous_update": true,
            "readout_format": "d",
            "description_tooltip": null,
            "readout": true,
            "_model_module": "@jupyter-widgets/controls",
            "layout": "IPY_MODEL_9a973f7d7c05439fb22cd687c439b108"
          }
        },
        "42c5e27def5845438d6530fa2e8bf82a": {
          "model_module": "@jupyter-widgets/controls",
          "model_name": "ButtonModel",
          "model_module_version": "1.5.0",
          "state": {
            "_view_name": "ButtonView",
            "style": "IPY_MODEL_03f7ff87df5b4d988d6732cd896dd6f3",
            "_dom_classes": [],
            "description": "Run Interact",
            "_model_name": "ButtonModel",
            "button_style": "",
            "_view_module": "@jupyter-widgets/controls",
            "_model_module_version": "1.5.0",
            "tooltip": "",
            "_view_count": null,
            "disabled": false,
            "_view_module_version": "1.5.0",
            "layout": "IPY_MODEL_d7d3ed51c70242a8a26b30bda24eda47",
            "_model_module": "@jupyter-widgets/controls",
            "icon": ""
          }
        },
        "121c21db8e394afdb70b3bdd1a459b8f": {
          "model_module": "@jupyter-widgets/output",
          "model_name": "OutputModel",
          "model_module_version": "1.0.0",
          "state": {
            "_view_name": "OutputView",
            "msg_id": "",
            "_dom_classes": [],
            "_model_name": "OutputModel",
            "outputs": [],
            "_view_module": "@jupyter-widgets/output",
            "_model_module_version": "1.0.0",
            "_view_count": null,
            "_view_module_version": "1.0.0",
            "layout": "IPY_MODEL_7268b6c339164baa9876d37bf7cdeb90",
            "_model_module": "@jupyter-widgets/output"
          }
        },
        "79ba47e94ecd49c8ab5b71c4dceedc63": {
          "model_module": "@jupyter-widgets/controls",
          "model_name": "SliderStyleModel",
          "model_module_version": "1.5.0",
          "state": {
            "_view_name": "StyleView",
            "handle_color": null,
            "_model_name": "SliderStyleModel",
            "description_width": "",
            "_view_module": "@jupyter-widgets/base",
            "_model_module_version": "1.5.0",
            "_view_count": null,
            "_view_module_version": "1.2.0",
            "_model_module": "@jupyter-widgets/controls"
          }
        },
        "083d58ecfa4c44aaa1603ef6a714541f": {
          "model_module": "@jupyter-widgets/base",
          "model_name": "LayoutModel",
          "model_module_version": "1.2.0",
          "state": {
            "_view_name": "LayoutView",
            "grid_template_rows": null,
            "right": null,
            "justify_content": null,
            "_view_module": "@jupyter-widgets/base",
            "overflow": null,
            "_model_module_version": "1.2.0",
            "_view_count": null,
            "flex_flow": null,
            "width": null,
            "min_width": null,
            "border": null,
            "align_items": null,
            "bottom": null,
            "_model_module": "@jupyter-widgets/base",
            "top": null,
            "grid_column": null,
            "overflow_y": null,
            "overflow_x": null,
            "grid_auto_flow": null,
            "grid_area": null,
            "grid_template_columns": null,
            "flex": null,
            "_model_name": "LayoutModel",
            "justify_items": null,
            "grid_row": null,
            "max_height": null,
            "align_content": null,
            "visibility": null,
            "align_self": null,
            "height": null,
            "min_height": null,
            "padding": null,
            "grid_auto_rows": null,
            "grid_gap": null,
            "max_width": null,
            "order": null,
            "_view_module_version": "1.2.0",
            "grid_template_areas": null,
            "object_position": null,
            "object_fit": null,
            "grid_auto_columns": null,
            "margin": null,
            "display": null,
            "left": null
          }
        },
        "4638c5a7f74f49e08238d91de1e8a147": {
          "model_module": "@jupyter-widgets/controls",
          "model_name": "SliderStyleModel",
          "model_module_version": "1.5.0",
          "state": {
            "_view_name": "StyleView",
            "handle_color": null,
            "_model_name": "SliderStyleModel",
            "description_width": "",
            "_view_module": "@jupyter-widgets/base",
            "_model_module_version": "1.5.0",
            "_view_count": null,
            "_view_module_version": "1.2.0",
            "_model_module": "@jupyter-widgets/controls"
          }
        },
        "9a973f7d7c05439fb22cd687c439b108": {
          "model_module": "@jupyter-widgets/base",
          "model_name": "LayoutModel",
          "model_module_version": "1.2.0",
          "state": {
            "_view_name": "LayoutView",
            "grid_template_rows": null,
            "right": null,
            "justify_content": null,
            "_view_module": "@jupyter-widgets/base",
            "overflow": null,
            "_model_module_version": "1.2.0",
            "_view_count": null,
            "flex_flow": null,
            "width": null,
            "min_width": null,
            "border": null,
            "align_items": null,
            "bottom": null,
            "_model_module": "@jupyter-widgets/base",
            "top": null,
            "grid_column": null,
            "overflow_y": null,
            "overflow_x": null,
            "grid_auto_flow": null,
            "grid_area": null,
            "grid_template_columns": null,
            "flex": null,
            "_model_name": "LayoutModel",
            "justify_items": null,
            "grid_row": null,
            "max_height": null,
            "align_content": null,
            "visibility": null,
            "align_self": null,
            "height": null,
            "min_height": null,
            "padding": null,
            "grid_auto_rows": null,
            "grid_gap": null,
            "max_width": null,
            "order": null,
            "_view_module_version": "1.2.0",
            "grid_template_areas": null,
            "object_position": null,
            "object_fit": null,
            "grid_auto_columns": null,
            "margin": null,
            "display": null,
            "left": null
          }
        },
        "03f7ff87df5b4d988d6732cd896dd6f3": {
          "model_module": "@jupyter-widgets/controls",
          "model_name": "ButtonStyleModel",
          "model_module_version": "1.5.0",
          "state": {
            "_view_name": "StyleView",
            "_model_name": "ButtonStyleModel",
            "_view_module": "@jupyter-widgets/base",
            "_model_module_version": "1.5.0",
            "_view_count": null,
            "button_color": null,
            "font_weight": "",
            "_view_module_version": "1.2.0",
            "_model_module": "@jupyter-widgets/controls"
          }
        },
        "d7d3ed51c70242a8a26b30bda24eda47": {
          "model_module": "@jupyter-widgets/base",
          "model_name": "LayoutModel",
          "model_module_version": "1.2.0",
          "state": {
            "_view_name": "LayoutView",
            "grid_template_rows": null,
            "right": null,
            "justify_content": null,
            "_view_module": "@jupyter-widgets/base",
            "overflow": null,
            "_model_module_version": "1.2.0",
            "_view_count": null,
            "flex_flow": null,
            "width": null,
            "min_width": null,
            "border": null,
            "align_items": null,
            "bottom": null,
            "_model_module": "@jupyter-widgets/base",
            "top": null,
            "grid_column": null,
            "overflow_y": null,
            "overflow_x": null,
            "grid_auto_flow": null,
            "grid_area": null,
            "grid_template_columns": null,
            "flex": null,
            "_model_name": "LayoutModel",
            "justify_items": null,
            "grid_row": null,
            "max_height": null,
            "align_content": null,
            "visibility": null,
            "align_self": null,
            "height": null,
            "min_height": null,
            "padding": null,
            "grid_auto_rows": null,
            "grid_gap": null,
            "max_width": null,
            "order": null,
            "_view_module_version": "1.2.0",
            "grid_template_areas": null,
            "object_position": null,
            "object_fit": null,
            "grid_auto_columns": null,
            "margin": null,
            "display": null,
            "left": null
          }
        },
        "7268b6c339164baa9876d37bf7cdeb90": {
          "model_module": "@jupyter-widgets/base",
          "model_name": "LayoutModel",
          "model_module_version": "1.2.0",
          "state": {
            "_view_name": "LayoutView",
            "grid_template_rows": null,
            "right": null,
            "justify_content": null,
            "_view_module": "@jupyter-widgets/base",
            "overflow": null,
            "_model_module_version": "1.2.0",
            "_view_count": null,
            "flex_flow": null,
            "width": null,
            "min_width": null,
            "border": null,
            "align_items": null,
            "bottom": null,
            "_model_module": "@jupyter-widgets/base",
            "top": null,
            "grid_column": null,
            "overflow_y": null,
            "overflow_x": null,
            "grid_auto_flow": null,
            "grid_area": null,
            "grid_template_columns": null,
            "flex": null,
            "_model_name": "LayoutModel",
            "justify_items": null,
            "grid_row": null,
            "max_height": null,
            "align_content": null,
            "visibility": null,
            "align_self": null,
            "height": null,
            "min_height": null,
            "padding": null,
            "grid_auto_rows": null,
            "grid_gap": null,
            "max_width": null,
            "order": null,
            "_view_module_version": "1.2.0",
            "grid_template_areas": null,
            "object_position": null,
            "object_fit": null,
            "grid_auto_columns": null,
            "margin": null,
            "display": null,
            "left": null
          }
        },
        "fd80481f970e4ef38b9629677aa9f8fc": {
          "model_module": "@jupyter-widgets/controls",
          "model_name": "VBoxModel",
          "model_module_version": "1.5.0",
          "state": {
            "_view_name": "VBoxView",
            "_dom_classes": [
              "widget-interact"
            ],
            "_model_name": "VBoxModel",
            "_view_module": "@jupyter-widgets/controls",
            "_model_module_version": "1.5.0",
            "_view_count": null,
            "_view_module_version": "1.5.0",
            "box_style": "",
            "layout": "IPY_MODEL_6c9a37c2c7af4eaab305362eeb0bbe23",
            "_model_module": "@jupyter-widgets/controls",
            "children": [
              "IPY_MODEL_bc1a2c5873a0472da34eeeb9549cf4aa",
              "IPY_MODEL_8e4331125c3f43b6ae267e21c40932bb",
              "IPY_MODEL_2afd56b0eb67442b8c3c49699ecf3b10"
            ]
          }
        },
        "6c9a37c2c7af4eaab305362eeb0bbe23": {
          "model_module": "@jupyter-widgets/base",
          "model_name": "LayoutModel",
          "model_module_version": "1.2.0",
          "state": {
            "_view_name": "LayoutView",
            "grid_template_rows": null,
            "right": null,
            "justify_content": null,
            "_view_module": "@jupyter-widgets/base",
            "overflow": null,
            "_model_module_version": "1.2.0",
            "_view_count": null,
            "flex_flow": null,
            "width": null,
            "min_width": null,
            "border": null,
            "align_items": null,
            "bottom": null,
            "_model_module": "@jupyter-widgets/base",
            "top": null,
            "grid_column": null,
            "overflow_y": null,
            "overflow_x": null,
            "grid_auto_flow": null,
            "grid_area": null,
            "grid_template_columns": null,
            "flex": null,
            "_model_name": "LayoutModel",
            "justify_items": null,
            "grid_row": null,
            "max_height": null,
            "align_content": null,
            "visibility": null,
            "align_self": null,
            "height": null,
            "min_height": null,
            "padding": null,
            "grid_auto_rows": null,
            "grid_gap": null,
            "max_width": null,
            "order": null,
            "_view_module_version": "1.2.0",
            "grid_template_areas": null,
            "object_position": null,
            "object_fit": null,
            "grid_auto_columns": null,
            "margin": null,
            "display": null,
            "left": null
          }
        },
        "bc1a2c5873a0472da34eeeb9549cf4aa": {
          "model_module": "@jupyter-widgets/controls",
          "model_name": "IntSliderModel",
          "model_module_version": "1.5.0",
          "state": {
            "_view_name": "IntSliderView",
            "style": "IPY_MODEL_f3a4b170834e42b1b9c0266d8b96c09b",
            "_dom_classes": [],
            "description": "ore",
            "step": 1,
            "_model_name": "IntSliderModel",
            "orientation": "horizontal",
            "max": 72,
            "_view_module": "@jupyter-widgets/controls",
            "_model_module_version": "1.5.0",
            "value": 3,
            "_view_count": null,
            "disabled": false,
            "_view_module_version": "1.5.0",
            "min": 0,
            "continuous_update": true,
            "readout_format": "d",
            "description_tooltip": null,
            "readout": true,
            "_model_module": "@jupyter-widgets/controls",
            "layout": "IPY_MODEL_f2e7a6ded4444e4eae1d968764e2f0c9"
          }
        },
        "8e4331125c3f43b6ae267e21c40932bb": {
          "model_module": "@jupyter-widgets/controls",
          "model_name": "ButtonModel",
          "model_module_version": "1.5.0",
          "state": {
            "_view_name": "ButtonView",
            "style": "IPY_MODEL_9b709c229dfa43c2b68fde3ded51fe9a",
            "_dom_classes": [],
            "description": "Run Interact",
            "_model_name": "ButtonModel",
            "button_style": "",
            "_view_module": "@jupyter-widgets/controls",
            "_model_module_version": "1.5.0",
            "tooltip": "",
            "_view_count": null,
            "disabled": false,
            "_view_module_version": "1.5.0",
            "layout": "IPY_MODEL_5d1bb6dce642484ab625f265a0dcf595",
            "_model_module": "@jupyter-widgets/controls",
            "icon": ""
          }
        },
        "2afd56b0eb67442b8c3c49699ecf3b10": {
          "model_module": "@jupyter-widgets/output",
          "model_name": "OutputModel",
          "model_module_version": "1.0.0",
          "state": {
            "_view_name": "OutputView",
            "msg_id": "",
            "_dom_classes": [],
            "_model_name": "OutputModel",
            "outputs": [],
            "_view_module": "@jupyter-widgets/output",
            "_model_module_version": "1.0.0",
            "_view_count": null,
            "_view_module_version": "1.0.0",
            "layout": "IPY_MODEL_4215bd5fd72e403c8683b1681d4620c9",
            "_model_module": "@jupyter-widgets/output"
          }
        },
        "f3a4b170834e42b1b9c0266d8b96c09b": {
          "model_module": "@jupyter-widgets/controls",
          "model_name": "SliderStyleModel",
          "model_module_version": "1.5.0",
          "state": {
            "_view_name": "StyleView",
            "handle_color": null,
            "_model_name": "SliderStyleModel",
            "description_width": "",
            "_view_module": "@jupyter-widgets/base",
            "_model_module_version": "1.5.0",
            "_view_count": null,
            "_view_module_version": "1.2.0",
            "_model_module": "@jupyter-widgets/controls"
          }
        },
        "f2e7a6ded4444e4eae1d968764e2f0c9": {
          "model_module": "@jupyter-widgets/base",
          "model_name": "LayoutModel",
          "model_module_version": "1.2.0",
          "state": {
            "_view_name": "LayoutView",
            "grid_template_rows": null,
            "right": null,
            "justify_content": null,
            "_view_module": "@jupyter-widgets/base",
            "overflow": null,
            "_model_module_version": "1.2.0",
            "_view_count": null,
            "flex_flow": null,
            "width": null,
            "min_width": null,
            "border": null,
            "align_items": null,
            "bottom": null,
            "_model_module": "@jupyter-widgets/base",
            "top": null,
            "grid_column": null,
            "overflow_y": null,
            "overflow_x": null,
            "grid_auto_flow": null,
            "grid_area": null,
            "grid_template_columns": null,
            "flex": null,
            "_model_name": "LayoutModel",
            "justify_items": null,
            "grid_row": null,
            "max_height": null,
            "align_content": null,
            "visibility": null,
            "align_self": null,
            "height": null,
            "min_height": null,
            "padding": null,
            "grid_auto_rows": null,
            "grid_gap": null,
            "max_width": null,
            "order": null,
            "_view_module_version": "1.2.0",
            "grid_template_areas": null,
            "object_position": null,
            "object_fit": null,
            "grid_auto_columns": null,
            "margin": null,
            "display": null,
            "left": null
          }
        },
        "9b709c229dfa43c2b68fde3ded51fe9a": {
          "model_module": "@jupyter-widgets/controls",
          "model_name": "ButtonStyleModel",
          "model_module_version": "1.5.0",
          "state": {
            "_view_name": "StyleView",
            "_model_name": "ButtonStyleModel",
            "_view_module": "@jupyter-widgets/base",
            "_model_module_version": "1.5.0",
            "_view_count": null,
            "button_color": null,
            "font_weight": "",
            "_view_module_version": "1.2.0",
            "_model_module": "@jupyter-widgets/controls"
          }
        },
        "5d1bb6dce642484ab625f265a0dcf595": {
          "model_module": "@jupyter-widgets/base",
          "model_name": "LayoutModel",
          "model_module_version": "1.2.0",
          "state": {
            "_view_name": "LayoutView",
            "grid_template_rows": null,
            "right": null,
            "justify_content": null,
            "_view_module": "@jupyter-widgets/base",
            "overflow": null,
            "_model_module_version": "1.2.0",
            "_view_count": null,
            "flex_flow": null,
            "width": null,
            "min_width": null,
            "border": null,
            "align_items": null,
            "bottom": null,
            "_model_module": "@jupyter-widgets/base",
            "top": null,
            "grid_column": null,
            "overflow_y": null,
            "overflow_x": null,
            "grid_auto_flow": null,
            "grid_area": null,
            "grid_template_columns": null,
            "flex": null,
            "_model_name": "LayoutModel",
            "justify_items": null,
            "grid_row": null,
            "max_height": null,
            "align_content": null,
            "visibility": null,
            "align_self": null,
            "height": null,
            "min_height": null,
            "padding": null,
            "grid_auto_rows": null,
            "grid_gap": null,
            "max_width": null,
            "order": null,
            "_view_module_version": "1.2.0",
            "grid_template_areas": null,
            "object_position": null,
            "object_fit": null,
            "grid_auto_columns": null,
            "margin": null,
            "display": null,
            "left": null
          }
        },
        "4215bd5fd72e403c8683b1681d4620c9": {
          "model_module": "@jupyter-widgets/base",
          "model_name": "LayoutModel",
          "model_module_version": "1.2.0",
          "state": {
            "_view_name": "LayoutView",
            "grid_template_rows": null,
            "right": null,
            "justify_content": null,
            "_view_module": "@jupyter-widgets/base",
            "overflow": null,
            "_model_module_version": "1.2.0",
            "_view_count": null,
            "flex_flow": null,
            "width": null,
            "min_width": null,
            "border": null,
            "align_items": null,
            "bottom": null,
            "_model_module": "@jupyter-widgets/base",
            "top": null,
            "grid_column": null,
            "overflow_y": null,
            "overflow_x": null,
            "grid_auto_flow": null,
            "grid_area": null,
            "grid_template_columns": null,
            "flex": null,
            "_model_name": "LayoutModel",
            "justify_items": null,
            "grid_row": null,
            "max_height": null,
            "align_content": null,
            "visibility": null,
            "align_self": null,
            "height": null,
            "min_height": null,
            "padding": null,
            "grid_auto_rows": null,
            "grid_gap": null,
            "max_width": null,
            "order": null,
            "_view_module_version": "1.2.0",
            "grid_template_areas": null,
            "object_position": null,
            "object_fit": null,
            "grid_auto_columns": null,
            "margin": null,
            "display": null,
            "left": null
          }
        },
        "7ce4d85d3a69412fb317ea89916fdeab": {
          "model_module": "@jupyter-widgets/controls",
          "model_name": "VBoxModel",
          "model_module_version": "1.5.0",
          "state": {
            "_view_name": "VBoxView",
            "_dom_classes": [
              "widget-interact"
            ],
            "_model_name": "VBoxModel",
            "_view_module": "@jupyter-widgets/controls",
            "_model_module_version": "1.5.0",
            "_view_count": null,
            "_view_module_version": "1.5.0",
            "box_style": "",
            "layout": "IPY_MODEL_3e8abcae94154721a3878d1b069ab6fd",
            "_model_module": "@jupyter-widgets/controls",
            "children": [
              "IPY_MODEL_a0d39cd8eb7b4355b06ba9f77c3f3d6f",
              "IPY_MODEL_aaaffff0a0534a71ae3e8d4b847debc8",
              "IPY_MODEL_e73909bdb38040c781861290f5c4e3cc"
            ]
          }
        },
        "3e8abcae94154721a3878d1b069ab6fd": {
          "model_module": "@jupyter-widgets/base",
          "model_name": "LayoutModel",
          "model_module_version": "1.2.0",
          "state": {
            "_view_name": "LayoutView",
            "grid_template_rows": null,
            "right": null,
            "justify_content": null,
            "_view_module": "@jupyter-widgets/base",
            "overflow": null,
            "_model_module_version": "1.2.0",
            "_view_count": null,
            "flex_flow": null,
            "width": null,
            "min_width": null,
            "border": null,
            "align_items": null,
            "bottom": null,
            "_model_module": "@jupyter-widgets/base",
            "top": null,
            "grid_column": null,
            "overflow_y": null,
            "overflow_x": null,
            "grid_auto_flow": null,
            "grid_area": null,
            "grid_template_columns": null,
            "flex": null,
            "_model_name": "LayoutModel",
            "justify_items": null,
            "grid_row": null,
            "max_height": null,
            "align_content": null,
            "visibility": null,
            "align_self": null,
            "height": null,
            "min_height": null,
            "padding": null,
            "grid_auto_rows": null,
            "grid_gap": null,
            "max_width": null,
            "order": null,
            "_view_module_version": "1.2.0",
            "grid_template_areas": null,
            "object_position": null,
            "object_fit": null,
            "grid_auto_columns": null,
            "margin": null,
            "display": null,
            "left": null
          }
        },
        "a0d39cd8eb7b4355b06ba9f77c3f3d6f": {
          "model_module": "@jupyter-widgets/controls",
          "model_name": "IntSliderModel",
          "model_module_version": "1.5.0",
          "state": {
            "_view_name": "IntSliderView",
            "style": "IPY_MODEL_7ec1f69d36df44bfbf59148a99ae56cc",
            "_dom_classes": [],
            "description": "λ",
            "step": 1,
            "_model_name": "IntSliderModel",
            "orientation": "horizontal",
            "max": 10,
            "_view_module": "@jupyter-widgets/controls",
            "_model_module_version": "1.5.0",
            "value": 2,
            "_view_count": null,
            "disabled": false,
            "_view_module_version": "1.5.0",
            "min": 2,
            "continuous_update": true,
            "readout_format": "d",
            "description_tooltip": null,
            "readout": true,
            "_model_module": "@jupyter-widgets/controls",
            "layout": "IPY_MODEL_c2b9bda60fad481783a4e1083312e2db"
          }
        },
        "aaaffff0a0534a71ae3e8d4b847debc8": {
          "model_module": "@jupyter-widgets/controls",
          "model_name": "ButtonModel",
          "model_module_version": "1.5.0",
          "state": {
            "_view_name": "ButtonView",
            "style": "IPY_MODEL_a1074c33c9684db498108375d81abb94",
            "_dom_classes": [],
            "description": "Run Interact",
            "_model_name": "ButtonModel",
            "button_style": "",
            "_view_module": "@jupyter-widgets/controls",
            "_model_module_version": "1.5.0",
            "tooltip": "",
            "_view_count": null,
            "disabled": false,
            "_view_module_version": "1.5.0",
            "layout": "IPY_MODEL_39f2110a458f465188327de351cd56c9",
            "_model_module": "@jupyter-widgets/controls",
            "icon": ""
          }
        },
        "e73909bdb38040c781861290f5c4e3cc": {
          "model_module": "@jupyter-widgets/output",
          "model_name": "OutputModel",
          "model_module_version": "1.0.0",
          "state": {
            "_view_name": "OutputView",
            "msg_id": "",
            "_dom_classes": [],
            "_model_name": "OutputModel",
            "outputs": [],
            "_view_module": "@jupyter-widgets/output",
            "_model_module_version": "1.0.0",
            "_view_count": null,
            "_view_module_version": "1.0.0",
            "layout": "IPY_MODEL_e29cff3c790f4ebfbd8eb49597537756",
            "_model_module": "@jupyter-widgets/output"
          }
        },
        "7ec1f69d36df44bfbf59148a99ae56cc": {
          "model_module": "@jupyter-widgets/controls",
          "model_name": "SliderStyleModel",
          "model_module_version": "1.5.0",
          "state": {
            "_view_name": "StyleView",
            "handle_color": null,
            "_model_name": "SliderStyleModel",
            "description_width": "",
            "_view_module": "@jupyter-widgets/base",
            "_model_module_version": "1.5.0",
            "_view_count": null,
            "_view_module_version": "1.2.0",
            "_model_module": "@jupyter-widgets/controls"
          }
        },
        "c2b9bda60fad481783a4e1083312e2db": {
          "model_module": "@jupyter-widgets/base",
          "model_name": "LayoutModel",
          "model_module_version": "1.2.0",
          "state": {
            "_view_name": "LayoutView",
            "grid_template_rows": null,
            "right": null,
            "justify_content": null,
            "_view_module": "@jupyter-widgets/base",
            "overflow": null,
            "_model_module_version": "1.2.0",
            "_view_count": null,
            "flex_flow": null,
            "width": null,
            "min_width": null,
            "border": null,
            "align_items": null,
            "bottom": null,
            "_model_module": "@jupyter-widgets/base",
            "top": null,
            "grid_column": null,
            "overflow_y": null,
            "overflow_x": null,
            "grid_auto_flow": null,
            "grid_area": null,
            "grid_template_columns": null,
            "flex": null,
            "_model_name": "LayoutModel",
            "justify_items": null,
            "grid_row": null,
            "max_height": null,
            "align_content": null,
            "visibility": null,
            "align_self": null,
            "height": null,
            "min_height": null,
            "padding": null,
            "grid_auto_rows": null,
            "grid_gap": null,
            "max_width": null,
            "order": null,
            "_view_module_version": "1.2.0",
            "grid_template_areas": null,
            "object_position": null,
            "object_fit": null,
            "grid_auto_columns": null,
            "margin": null,
            "display": null,
            "left": null
          }
        },
        "a1074c33c9684db498108375d81abb94": {
          "model_module": "@jupyter-widgets/controls",
          "model_name": "ButtonStyleModel",
          "model_module_version": "1.5.0",
          "state": {
            "_view_name": "StyleView",
            "_model_name": "ButtonStyleModel",
            "_view_module": "@jupyter-widgets/base",
            "_model_module_version": "1.5.0",
            "_view_count": null,
            "button_color": null,
            "font_weight": "",
            "_view_module_version": "1.2.0",
            "_model_module": "@jupyter-widgets/controls"
          }
        },
        "39f2110a458f465188327de351cd56c9": {
          "model_module": "@jupyter-widgets/base",
          "model_name": "LayoutModel",
          "model_module_version": "1.2.0",
          "state": {
            "_view_name": "LayoutView",
            "grid_template_rows": null,
            "right": null,
            "justify_content": null,
            "_view_module": "@jupyter-widgets/base",
            "overflow": null,
            "_model_module_version": "1.2.0",
            "_view_count": null,
            "flex_flow": null,
            "width": null,
            "min_width": null,
            "border": null,
            "align_items": null,
            "bottom": null,
            "_model_module": "@jupyter-widgets/base",
            "top": null,
            "grid_column": null,
            "overflow_y": null,
            "overflow_x": null,
            "grid_auto_flow": null,
            "grid_area": null,
            "grid_template_columns": null,
            "flex": null,
            "_model_name": "LayoutModel",
            "justify_items": null,
            "grid_row": null,
            "max_height": null,
            "align_content": null,
            "visibility": null,
            "align_self": null,
            "height": null,
            "min_height": null,
            "padding": null,
            "grid_auto_rows": null,
            "grid_gap": null,
            "max_width": null,
            "order": null,
            "_view_module_version": "1.2.0",
            "grid_template_areas": null,
            "object_position": null,
            "object_fit": null,
            "grid_auto_columns": null,
            "margin": null,
            "display": null,
            "left": null
          }
        },
        "e29cff3c790f4ebfbd8eb49597537756": {
          "model_module": "@jupyter-widgets/base",
          "model_name": "LayoutModel",
          "model_module_version": "1.2.0",
          "state": {
            "_view_name": "LayoutView",
            "grid_template_rows": null,
            "right": null,
            "justify_content": null,
            "_view_module": "@jupyter-widgets/base",
            "overflow": null,
            "_model_module_version": "1.2.0",
            "_view_count": null,
            "flex_flow": null,
            "width": null,
            "min_width": null,
            "border": null,
            "align_items": null,
            "bottom": null,
            "_model_module": "@jupyter-widgets/base",
            "top": null,
            "grid_column": null,
            "overflow_y": null,
            "overflow_x": null,
            "grid_auto_flow": null,
            "grid_area": null,
            "grid_template_columns": null,
            "flex": null,
            "_model_name": "LayoutModel",
            "justify_items": null,
            "grid_row": null,
            "max_height": null,
            "align_content": null,
            "visibility": null,
            "align_self": null,
            "height": null,
            "min_height": null,
            "padding": null,
            "grid_auto_rows": null,
            "grid_gap": null,
            "max_width": null,
            "order": null,
            "_view_module_version": "1.2.0",
            "grid_template_areas": null,
            "object_position": null,
            "object_fit": null,
            "grid_auto_columns": null,
            "margin": null,
            "display": null,
            "left": null
          }
        },
        "f160295b72de4186af9d0d7a84d45001": {
          "model_module": "@jupyter-widgets/controls",
          "model_name": "VBoxModel",
          "model_module_version": "1.5.0",
          "state": {
            "_view_name": "VBoxView",
            "_dom_classes": [
              "widget-interact"
            ],
            "_model_name": "VBoxModel",
            "_view_module": "@jupyter-widgets/controls",
            "_model_module_version": "1.5.0",
            "_view_count": null,
            "_view_module_version": "1.5.0",
            "box_style": "",
            "layout": "IPY_MODEL_ba4ca8fc34554a1cbd3a420c34c7ce5b",
            "_model_module": "@jupyter-widgets/controls",
            "children": [
              "IPY_MODEL_91043cc78a2048708069f825a3adbccf",
              "IPY_MODEL_08d91c2b1789416e9658bcb1ae7886d1",
              "IPY_MODEL_3bf48eb4b191477b880b820f841f98b5",
              "IPY_MODEL_3d837ee5b37446628ebc1a2d16c5f0f6"
            ]
          }
        },
        "ba4ca8fc34554a1cbd3a420c34c7ce5b": {
          "model_module": "@jupyter-widgets/base",
          "model_name": "LayoutModel",
          "model_module_version": "1.2.0",
          "state": {
            "_view_name": "LayoutView",
            "grid_template_rows": null,
            "right": null,
            "justify_content": null,
            "_view_module": "@jupyter-widgets/base",
            "overflow": null,
            "_model_module_version": "1.2.0",
            "_view_count": null,
            "flex_flow": null,
            "width": null,
            "min_width": null,
            "border": null,
            "align_items": null,
            "bottom": null,
            "_model_module": "@jupyter-widgets/base",
            "top": null,
            "grid_column": null,
            "overflow_y": null,
            "overflow_x": null,
            "grid_auto_flow": null,
            "grid_area": null,
            "grid_template_columns": null,
            "flex": null,
            "_model_name": "LayoutModel",
            "justify_items": null,
            "grid_row": null,
            "max_height": null,
            "align_content": null,
            "visibility": null,
            "align_self": null,
            "height": null,
            "min_height": null,
            "padding": null,
            "grid_auto_rows": null,
            "grid_gap": null,
            "max_width": null,
            "order": null,
            "_view_module_version": "1.2.0",
            "grid_template_areas": null,
            "object_position": null,
            "object_fit": null,
            "grid_auto_columns": null,
            "margin": null,
            "display": null,
            "left": null
          }
        },
        "91043cc78a2048708069f825a3adbccf": {
          "model_module": "@jupyter-widgets/controls",
          "model_name": "IntSliderModel",
          "model_module_version": "1.5.0",
          "state": {
            "_view_name": "IntSliderView",
            "style": "IPY_MODEL_af842ab779164740a61d739c655b2d0f",
            "_dom_classes": [],
            "description": "ore",
            "step": 1,
            "_model_name": "IntSliderModel",
            "orientation": "horizontal",
            "max": 72,
            "_view_module": "@jupyter-widgets/controls",
            "_model_module_version": "1.5.0",
            "value": 10,
            "_view_count": null,
            "disabled": false,
            "_view_module_version": "1.5.0",
            "min": 0,
            "continuous_update": true,
            "readout_format": "d",
            "description_tooltip": null,
            "readout": true,
            "_model_module": "@jupyter-widgets/controls",
            "layout": "IPY_MODEL_1a7c93cb174843ec8bac6c45c09fa126"
          }
        },
        "08d91c2b1789416e9658bcb1ae7886d1": {
          "model_module": "@jupyter-widgets/controls",
          "model_name": "IntSliderModel",
          "model_module_version": "1.5.0",
          "state": {
            "_view_name": "IntSliderView",
            "style": "IPY_MODEL_03a37b663e4a4b88816cd981be533795",
            "_dom_classes": [],
            "description": "λ",
            "step": 1,
            "_model_name": "IntSliderModel",
            "orientation": "horizontal",
            "max": 10,
            "_view_module": "@jupyter-widgets/controls",
            "_model_module_version": "1.5.0",
            "value": 2,
            "_view_count": null,
            "disabled": false,
            "_view_module_version": "1.5.0",
            "min": 2,
            "continuous_update": true,
            "readout_format": "d",
            "description_tooltip": null,
            "readout": true,
            "_model_module": "@jupyter-widgets/controls",
            "layout": "IPY_MODEL_959063a0578e44b28374a18b43885e48"
          }
        },
        "3bf48eb4b191477b880b820f841f98b5": {
          "model_module": "@jupyter-widgets/controls",
          "model_name": "ButtonModel",
          "model_module_version": "1.5.0",
          "state": {
            "_view_name": "ButtonView",
            "style": "IPY_MODEL_7e1bfac1960b465b9934ece3590d8f0a",
            "_dom_classes": [],
            "description": "Run Interact",
            "_model_name": "ButtonModel",
            "button_style": "",
            "_view_module": "@jupyter-widgets/controls",
            "_model_module_version": "1.5.0",
            "tooltip": "",
            "_view_count": null,
            "disabled": false,
            "_view_module_version": "1.5.0",
            "layout": "IPY_MODEL_4772f48148a44bfd9dd5753432f219de",
            "_model_module": "@jupyter-widgets/controls",
            "icon": ""
          }
        },
        "3d837ee5b37446628ebc1a2d16c5f0f6": {
          "model_module": "@jupyter-widgets/output",
          "model_name": "OutputModel",
          "model_module_version": "1.0.0",
          "state": {
            "_view_name": "OutputView",
            "msg_id": "",
            "_dom_classes": [],
            "_model_name": "OutputModel",
            "outputs": [],
            "_view_module": "@jupyter-widgets/output",
            "_model_module_version": "1.0.0",
            "_view_count": null,
            "_view_module_version": "1.0.0",
            "layout": "IPY_MODEL_e93fdab03ae249b2a5c1b863a8933b75",
            "_model_module": "@jupyter-widgets/output"
          }
        },
        "af842ab779164740a61d739c655b2d0f": {
          "model_module": "@jupyter-widgets/controls",
          "model_name": "SliderStyleModel",
          "model_module_version": "1.5.0",
          "state": {
            "_view_name": "StyleView",
            "handle_color": null,
            "_model_name": "SliderStyleModel",
            "description_width": "",
            "_view_module": "@jupyter-widgets/base",
            "_model_module_version": "1.5.0",
            "_view_count": null,
            "_view_module_version": "1.2.0",
            "_model_module": "@jupyter-widgets/controls"
          }
        },
        "1a7c93cb174843ec8bac6c45c09fa126": {
          "model_module": "@jupyter-widgets/base",
          "model_name": "LayoutModel",
          "model_module_version": "1.2.0",
          "state": {
            "_view_name": "LayoutView",
            "grid_template_rows": null,
            "right": null,
            "justify_content": null,
            "_view_module": "@jupyter-widgets/base",
            "overflow": null,
            "_model_module_version": "1.2.0",
            "_view_count": null,
            "flex_flow": null,
            "width": null,
            "min_width": null,
            "border": null,
            "align_items": null,
            "bottom": null,
            "_model_module": "@jupyter-widgets/base",
            "top": null,
            "grid_column": null,
            "overflow_y": null,
            "overflow_x": null,
            "grid_auto_flow": null,
            "grid_area": null,
            "grid_template_columns": null,
            "flex": null,
            "_model_name": "LayoutModel",
            "justify_items": null,
            "grid_row": null,
            "max_height": null,
            "align_content": null,
            "visibility": null,
            "align_self": null,
            "height": null,
            "min_height": null,
            "padding": null,
            "grid_auto_rows": null,
            "grid_gap": null,
            "max_width": null,
            "order": null,
            "_view_module_version": "1.2.0",
            "grid_template_areas": null,
            "object_position": null,
            "object_fit": null,
            "grid_auto_columns": null,
            "margin": null,
            "display": null,
            "left": null
          }
        },
        "03a37b663e4a4b88816cd981be533795": {
          "model_module": "@jupyter-widgets/controls",
          "model_name": "SliderStyleModel",
          "model_module_version": "1.5.0",
          "state": {
            "_view_name": "StyleView",
            "handle_color": null,
            "_model_name": "SliderStyleModel",
            "description_width": "",
            "_view_module": "@jupyter-widgets/base",
            "_model_module_version": "1.5.0",
            "_view_count": null,
            "_view_module_version": "1.2.0",
            "_model_module": "@jupyter-widgets/controls"
          }
        },
        "959063a0578e44b28374a18b43885e48": {
          "model_module": "@jupyter-widgets/base",
          "model_name": "LayoutModel",
          "model_module_version": "1.2.0",
          "state": {
            "_view_name": "LayoutView",
            "grid_template_rows": null,
            "right": null,
            "justify_content": null,
            "_view_module": "@jupyter-widgets/base",
            "overflow": null,
            "_model_module_version": "1.2.0",
            "_view_count": null,
            "flex_flow": null,
            "width": null,
            "min_width": null,
            "border": null,
            "align_items": null,
            "bottom": null,
            "_model_module": "@jupyter-widgets/base",
            "top": null,
            "grid_column": null,
            "overflow_y": null,
            "overflow_x": null,
            "grid_auto_flow": null,
            "grid_area": null,
            "grid_template_columns": null,
            "flex": null,
            "_model_name": "LayoutModel",
            "justify_items": null,
            "grid_row": null,
            "max_height": null,
            "align_content": null,
            "visibility": null,
            "align_self": null,
            "height": null,
            "min_height": null,
            "padding": null,
            "grid_auto_rows": null,
            "grid_gap": null,
            "max_width": null,
            "order": null,
            "_view_module_version": "1.2.0",
            "grid_template_areas": null,
            "object_position": null,
            "object_fit": null,
            "grid_auto_columns": null,
            "margin": null,
            "display": null,
            "left": null
          }
        },
        "7e1bfac1960b465b9934ece3590d8f0a": {
          "model_module": "@jupyter-widgets/controls",
          "model_name": "ButtonStyleModel",
          "model_module_version": "1.5.0",
          "state": {
            "_view_name": "StyleView",
            "_model_name": "ButtonStyleModel",
            "_view_module": "@jupyter-widgets/base",
            "_model_module_version": "1.5.0",
            "_view_count": null,
            "button_color": null,
            "font_weight": "",
            "_view_module_version": "1.2.0",
            "_model_module": "@jupyter-widgets/controls"
          }
        },
        "4772f48148a44bfd9dd5753432f219de": {
          "model_module": "@jupyter-widgets/base",
          "model_name": "LayoutModel",
          "model_module_version": "1.2.0",
          "state": {
            "_view_name": "LayoutView",
            "grid_template_rows": null,
            "right": null,
            "justify_content": null,
            "_view_module": "@jupyter-widgets/base",
            "overflow": null,
            "_model_module_version": "1.2.0",
            "_view_count": null,
            "flex_flow": null,
            "width": null,
            "min_width": null,
            "border": null,
            "align_items": null,
            "bottom": null,
            "_model_module": "@jupyter-widgets/base",
            "top": null,
            "grid_column": null,
            "overflow_y": null,
            "overflow_x": null,
            "grid_auto_flow": null,
            "grid_area": null,
            "grid_template_columns": null,
            "flex": null,
            "_model_name": "LayoutModel",
            "justify_items": null,
            "grid_row": null,
            "max_height": null,
            "align_content": null,
            "visibility": null,
            "align_self": null,
            "height": null,
            "min_height": null,
            "padding": null,
            "grid_auto_rows": null,
            "grid_gap": null,
            "max_width": null,
            "order": null,
            "_view_module_version": "1.2.0",
            "grid_template_areas": null,
            "object_position": null,
            "object_fit": null,
            "grid_auto_columns": null,
            "margin": null,
            "display": null,
            "left": null
          }
        },
        "e93fdab03ae249b2a5c1b863a8933b75": {
          "model_module": "@jupyter-widgets/base",
          "model_name": "LayoutModel",
          "model_module_version": "1.2.0",
          "state": {
            "_view_name": "LayoutView",
            "grid_template_rows": null,
            "right": null,
            "justify_content": null,
            "_view_module": "@jupyter-widgets/base",
            "overflow": null,
            "_model_module_version": "1.2.0",
            "_view_count": null,
            "flex_flow": null,
            "width": null,
            "min_width": null,
            "border": null,
            "align_items": null,
            "bottom": null,
            "_model_module": "@jupyter-widgets/base",
            "top": null,
            "grid_column": null,
            "overflow_y": null,
            "overflow_x": null,
            "grid_auto_flow": null,
            "grid_area": null,
            "grid_template_columns": null,
            "flex": null,
            "_model_name": "LayoutModel",
            "justify_items": null,
            "grid_row": null,
            "max_height": null,
            "align_content": null,
            "visibility": null,
            "align_self": null,
            "height": null,
            "min_height": null,
            "padding": null,
            "grid_auto_rows": null,
            "grid_gap": null,
            "max_width": null,
            "order": null,
            "_view_module_version": "1.2.0",
            "grid_template_areas": null,
            "object_position": null,
            "object_fit": null,
            "grid_auto_columns": null,
            "margin": null,
            "display": null,
            "left": null
          }
        },
        "ddd3de3c4ea047c29095d93b72c7ec6a": {
          "model_module": "@jupyter-widgets/controls",
          "model_name": "VBoxModel",
          "model_module_version": "1.5.0",
          "state": {
            "_view_name": "VBoxView",
            "_dom_classes": [
              "widget-interact"
            ],
            "_model_name": "VBoxModel",
            "_view_module": "@jupyter-widgets/controls",
            "_model_module_version": "1.5.0",
            "_view_count": null,
            "_view_module_version": "1.5.0",
            "box_style": "",
            "layout": "IPY_MODEL_d785a433bb244301b5e784be8e905ca2",
            "_model_module": "@jupyter-widgets/controls",
            "children": [
              "IPY_MODEL_d81b5fe5f5f94108939ff02fe9f3b9dc",
              "IPY_MODEL_bf13839fac1546a89156d43182cf0eb6",
              "IPY_MODEL_522d878be55c4025930d01027924bba5",
              "IPY_MODEL_052891672b7f49318341244a8765eac5"
            ]
          }
        },
        "d785a433bb244301b5e784be8e905ca2": {
          "model_module": "@jupyter-widgets/base",
          "model_name": "LayoutModel",
          "model_module_version": "1.2.0",
          "state": {
            "_view_name": "LayoutView",
            "grid_template_rows": null,
            "right": null,
            "justify_content": null,
            "_view_module": "@jupyter-widgets/base",
            "overflow": null,
            "_model_module_version": "1.2.0",
            "_view_count": null,
            "flex_flow": null,
            "width": null,
            "min_width": null,
            "border": null,
            "align_items": null,
            "bottom": null,
            "_model_module": "@jupyter-widgets/base",
            "top": null,
            "grid_column": null,
            "overflow_y": null,
            "overflow_x": null,
            "grid_auto_flow": null,
            "grid_area": null,
            "grid_template_columns": null,
            "flex": null,
            "_model_name": "LayoutModel",
            "justify_items": null,
            "grid_row": null,
            "max_height": null,
            "align_content": null,
            "visibility": null,
            "align_self": null,
            "height": null,
            "min_height": null,
            "padding": null,
            "grid_auto_rows": null,
            "grid_gap": null,
            "max_width": null,
            "order": null,
            "_view_module_version": "1.2.0",
            "grid_template_areas": null,
            "object_position": null,
            "object_fit": null,
            "grid_auto_columns": null,
            "margin": null,
            "display": null,
            "left": null
          }
        },
        "d81b5fe5f5f94108939ff02fe9f3b9dc": {
          "model_module": "@jupyter-widgets/controls",
          "model_name": "IntSliderModel",
          "model_module_version": "1.5.0",
          "state": {
            "_view_name": "IntSliderView",
            "style": "IPY_MODEL_9780493744484d44ac25263f8599303a",
            "_dom_classes": [],
            "description": "t1",
            "step": 1,
            "_model_name": "IntSliderModel",
            "orientation": "horizontal",
            "max": 96,
            "_view_module": "@jupyter-widgets/controls",
            "_model_module_version": "1.5.0",
            "value": 3,
            "_view_count": null,
            "disabled": false,
            "_view_module_version": "1.5.0",
            "min": 0,
            "continuous_update": true,
            "readout_format": "d",
            "description_tooltip": null,
            "readout": true,
            "_model_module": "@jupyter-widgets/controls",
            "layout": "IPY_MODEL_f73af508b4b84bc5979f382e2a24ee3f"
          }
        },
        "bf13839fac1546a89156d43182cf0eb6": {
          "model_module": "@jupyter-widgets/controls",
          "model_name": "IntSliderModel",
          "model_module_version": "1.5.0",
          "state": {
            "_view_name": "IntSliderView",
            "style": "IPY_MODEL_79421e31054e4aceb01ef23a0d80cc3e",
            "_dom_classes": [],
            "description": "t2",
            "step": 1,
            "_model_name": "IntSliderModel",
            "orientation": "horizontal",
            "max": 96,
            "_view_module": "@jupyter-widgets/controls",
            "_model_module_version": "1.5.0",
            "value": 10,
            "_view_count": null,
            "disabled": false,
            "_view_module_version": "1.5.0",
            "min": 0,
            "continuous_update": true,
            "readout_format": "d",
            "description_tooltip": null,
            "readout": true,
            "_model_module": "@jupyter-widgets/controls",
            "layout": "IPY_MODEL_e7ffb81e338a44f39ee3d8d77c22981a"
          }
        },
        "522d878be55c4025930d01027924bba5": {
          "model_module": "@jupyter-widgets/controls",
          "model_name": "ButtonModel",
          "model_module_version": "1.5.0",
          "state": {
            "_view_name": "ButtonView",
            "style": "IPY_MODEL_cbde728660a04f1e92d89c9e2d764552",
            "_dom_classes": [],
            "description": "Run Interact",
            "_model_name": "ButtonModel",
            "button_style": "",
            "_view_module": "@jupyter-widgets/controls",
            "_model_module_version": "1.5.0",
            "tooltip": "",
            "_view_count": null,
            "disabled": false,
            "_view_module_version": "1.5.0",
            "layout": "IPY_MODEL_55ced4f3efd84a939806e51a315ff3f5",
            "_model_module": "@jupyter-widgets/controls",
            "icon": ""
          }
        },
        "052891672b7f49318341244a8765eac5": {
          "model_module": "@jupyter-widgets/output",
          "model_name": "OutputModel",
          "model_module_version": "1.0.0",
          "state": {
            "_view_name": "OutputView",
            "msg_id": "",
            "_dom_classes": [],
            "_model_name": "OutputModel",
            "outputs": [],
            "_view_module": "@jupyter-widgets/output",
            "_model_module_version": "1.0.0",
            "_view_count": null,
            "_view_module_version": "1.0.0",
            "layout": "IPY_MODEL_4865524933f4490ab86efec9d806a937",
            "_model_module": "@jupyter-widgets/output"
          }
        },
        "9780493744484d44ac25263f8599303a": {
          "model_module": "@jupyter-widgets/controls",
          "model_name": "SliderStyleModel",
          "model_module_version": "1.5.0",
          "state": {
            "_view_name": "StyleView",
            "handle_color": null,
            "_model_name": "SliderStyleModel",
            "description_width": "",
            "_view_module": "@jupyter-widgets/base",
            "_model_module_version": "1.5.0",
            "_view_count": null,
            "_view_module_version": "1.2.0",
            "_model_module": "@jupyter-widgets/controls"
          }
        },
        "f73af508b4b84bc5979f382e2a24ee3f": {
          "model_module": "@jupyter-widgets/base",
          "model_name": "LayoutModel",
          "model_module_version": "1.2.0",
          "state": {
            "_view_name": "LayoutView",
            "grid_template_rows": null,
            "right": null,
            "justify_content": null,
            "_view_module": "@jupyter-widgets/base",
            "overflow": null,
            "_model_module_version": "1.2.0",
            "_view_count": null,
            "flex_flow": null,
            "width": null,
            "min_width": null,
            "border": null,
            "align_items": null,
            "bottom": null,
            "_model_module": "@jupyter-widgets/base",
            "top": null,
            "grid_column": null,
            "overflow_y": null,
            "overflow_x": null,
            "grid_auto_flow": null,
            "grid_area": null,
            "grid_template_columns": null,
            "flex": null,
            "_model_name": "LayoutModel",
            "justify_items": null,
            "grid_row": null,
            "max_height": null,
            "align_content": null,
            "visibility": null,
            "align_self": null,
            "height": null,
            "min_height": null,
            "padding": null,
            "grid_auto_rows": null,
            "grid_gap": null,
            "max_width": null,
            "order": null,
            "_view_module_version": "1.2.0",
            "grid_template_areas": null,
            "object_position": null,
            "object_fit": null,
            "grid_auto_columns": null,
            "margin": null,
            "display": null,
            "left": null
          }
        },
        "79421e31054e4aceb01ef23a0d80cc3e": {
          "model_module": "@jupyter-widgets/controls",
          "model_name": "SliderStyleModel",
          "model_module_version": "1.5.0",
          "state": {
            "_view_name": "StyleView",
            "handle_color": null,
            "_model_name": "SliderStyleModel",
            "description_width": "",
            "_view_module": "@jupyter-widgets/base",
            "_model_module_version": "1.5.0",
            "_view_count": null,
            "_view_module_version": "1.2.0",
            "_model_module": "@jupyter-widgets/controls"
          }
        },
        "e7ffb81e338a44f39ee3d8d77c22981a": {
          "model_module": "@jupyter-widgets/base",
          "model_name": "LayoutModel",
          "model_module_version": "1.2.0",
          "state": {
            "_view_name": "LayoutView",
            "grid_template_rows": null,
            "right": null,
            "justify_content": null,
            "_view_module": "@jupyter-widgets/base",
            "overflow": null,
            "_model_module_version": "1.2.0",
            "_view_count": null,
            "flex_flow": null,
            "width": null,
            "min_width": null,
            "border": null,
            "align_items": null,
            "bottom": null,
            "_model_module": "@jupyter-widgets/base",
            "top": null,
            "grid_column": null,
            "overflow_y": null,
            "overflow_x": null,
            "grid_auto_flow": null,
            "grid_area": null,
            "grid_template_columns": null,
            "flex": null,
            "_model_name": "LayoutModel",
            "justify_items": null,
            "grid_row": null,
            "max_height": null,
            "align_content": null,
            "visibility": null,
            "align_self": null,
            "height": null,
            "min_height": null,
            "padding": null,
            "grid_auto_rows": null,
            "grid_gap": null,
            "max_width": null,
            "order": null,
            "_view_module_version": "1.2.0",
            "grid_template_areas": null,
            "object_position": null,
            "object_fit": null,
            "grid_auto_columns": null,
            "margin": null,
            "display": null,
            "left": null
          }
        },
        "cbde728660a04f1e92d89c9e2d764552": {
          "model_module": "@jupyter-widgets/controls",
          "model_name": "ButtonStyleModel",
          "model_module_version": "1.5.0",
          "state": {
            "_view_name": "StyleView",
            "_model_name": "ButtonStyleModel",
            "_view_module": "@jupyter-widgets/base",
            "_model_module_version": "1.5.0",
            "_view_count": null,
            "button_color": null,
            "font_weight": "",
            "_view_module_version": "1.2.0",
            "_model_module": "@jupyter-widgets/controls"
          }
        },
        "55ced4f3efd84a939806e51a315ff3f5": {
          "model_module": "@jupyter-widgets/base",
          "model_name": "LayoutModel",
          "model_module_version": "1.2.0",
          "state": {
            "_view_name": "LayoutView",
            "grid_template_rows": null,
            "right": null,
            "justify_content": null,
            "_view_module": "@jupyter-widgets/base",
            "overflow": null,
            "_model_module_version": "1.2.0",
            "_view_count": null,
            "flex_flow": null,
            "width": null,
            "min_width": null,
            "border": null,
            "align_items": null,
            "bottom": null,
            "_model_module": "@jupyter-widgets/base",
            "top": null,
            "grid_column": null,
            "overflow_y": null,
            "overflow_x": null,
            "grid_auto_flow": null,
            "grid_area": null,
            "grid_template_columns": null,
            "flex": null,
            "_model_name": "LayoutModel",
            "justify_items": null,
            "grid_row": null,
            "max_height": null,
            "align_content": null,
            "visibility": null,
            "align_self": null,
            "height": null,
            "min_height": null,
            "padding": null,
            "grid_auto_rows": null,
            "grid_gap": null,
            "max_width": null,
            "order": null,
            "_view_module_version": "1.2.0",
            "grid_template_areas": null,
            "object_position": null,
            "object_fit": null,
            "grid_auto_columns": null,
            "margin": null,
            "display": null,
            "left": null
          }
        },
        "4865524933f4490ab86efec9d806a937": {
          "model_module": "@jupyter-widgets/base",
          "model_name": "LayoutModel",
          "model_module_version": "1.2.0",
          "state": {
            "_view_name": "LayoutView",
            "grid_template_rows": null,
            "right": null,
            "justify_content": null,
            "_view_module": "@jupyter-widgets/base",
            "overflow": null,
            "_model_module_version": "1.2.0",
            "_view_count": null,
            "flex_flow": null,
            "width": null,
            "min_width": null,
            "border": null,
            "align_items": null,
            "bottom": null,
            "_model_module": "@jupyter-widgets/base",
            "top": null,
            "grid_column": null,
            "overflow_y": null,
            "overflow_x": null,
            "grid_auto_flow": null,
            "grid_area": null,
            "grid_template_columns": null,
            "flex": null,
            "_model_name": "LayoutModel",
            "justify_items": null,
            "grid_row": null,
            "max_height": null,
            "align_content": null,
            "visibility": null,
            "align_self": null,
            "height": null,
            "min_height": null,
            "padding": null,
            "grid_auto_rows": null,
            "grid_gap": null,
            "max_width": null,
            "order": null,
            "_view_module_version": "1.2.0",
            "grid_template_areas": null,
            "object_position": null,
            "object_fit": null,
            "grid_auto_columns": null,
            "margin": null,
            "display": null,
            "left": null
          }
        },
        "4fe40ca5094b452eb904b89c0722e06c": {
          "model_module": "@jupyter-widgets/controls",
          "model_name": "VBoxModel",
          "model_module_version": "1.5.0",
          "state": {
            "_view_name": "VBoxView",
            "_dom_classes": [
              "widget-interact"
            ],
            "_model_name": "VBoxModel",
            "_view_module": "@jupyter-widgets/controls",
            "_model_module_version": "1.5.0",
            "_view_count": null,
            "_view_module_version": "1.5.0",
            "box_style": "",
            "layout": "IPY_MODEL_5ed4809526a64a4eb7c28097bafba026",
            "_model_module": "@jupyter-widgets/controls",
            "children": [
              "IPY_MODEL_6fbda066837c4238b233eca72d1b6037",
              "IPY_MODEL_0588d10bcb0f47539c6e9541773c998a",
              "IPY_MODEL_861913a1562f448c9b8ae537f9be8655"
            ]
          }
        },
        "5ed4809526a64a4eb7c28097bafba026": {
          "model_module": "@jupyter-widgets/base",
          "model_name": "LayoutModel",
          "model_module_version": "1.2.0",
          "state": {
            "_view_name": "LayoutView",
            "grid_template_rows": null,
            "right": null,
            "justify_content": null,
            "_view_module": "@jupyter-widgets/base",
            "overflow": null,
            "_model_module_version": "1.2.0",
            "_view_count": null,
            "flex_flow": null,
            "width": null,
            "min_width": null,
            "border": null,
            "align_items": null,
            "bottom": null,
            "_model_module": "@jupyter-widgets/base",
            "top": null,
            "grid_column": null,
            "overflow_y": null,
            "overflow_x": null,
            "grid_auto_flow": null,
            "grid_area": null,
            "grid_template_columns": null,
            "flex": null,
            "_model_name": "LayoutModel",
            "justify_items": null,
            "grid_row": null,
            "max_height": null,
            "align_content": null,
            "visibility": null,
            "align_self": null,
            "height": null,
            "min_height": null,
            "padding": null,
            "grid_auto_rows": null,
            "grid_gap": null,
            "max_width": null,
            "order": null,
            "_view_module_version": "1.2.0",
            "grid_template_areas": null,
            "object_position": null,
            "object_fit": null,
            "grid_auto_columns": null,
            "margin": null,
            "display": null,
            "left": null
          }
        },
        "6fbda066837c4238b233eca72d1b6037": {
          "model_module": "@jupyter-widgets/controls",
          "model_name": "IntSliderModel",
          "model_module_version": "1.5.0",
          "state": {
            "_view_name": "IntSliderView",
            "style": "IPY_MODEL_a7da67a0de934f8a915e88d771f12f36",
            "_dom_classes": [],
            "description": "mean",
            "step": 1,
            "_model_name": "IntSliderModel",
            "orientation": "horizontal",
            "max": 5,
            "_view_module": "@jupyter-widgets/controls",
            "_model_module_version": "1.5.0",
            "value": 0,
            "_view_count": null,
            "disabled": false,
            "_view_module_version": "1.5.0",
            "min": -5,
            "continuous_update": true,
            "readout_format": "d",
            "description_tooltip": null,
            "readout": true,
            "_model_module": "@jupyter-widgets/controls",
            "layout": "IPY_MODEL_9abea86df25b41a4878315e091bf278a"
          }
        },
        "0588d10bcb0f47539c6e9541773c998a": {
          "model_module": "@jupyter-widgets/controls",
          "model_name": "IntSliderModel",
          "model_module_version": "1.5.0",
          "state": {
            "_view_name": "IntSliderView",
            "style": "IPY_MODEL_8cec6e44329b4ed0abd560fb758d4a13",
            "_dom_classes": [],
            "description": "std_dev",
            "step": 1,
            "_model_name": "IntSliderModel",
            "orientation": "horizontal",
            "max": 5,
            "_view_module": "@jupyter-widgets/controls",
            "_model_module_version": "1.5.0",
            "value": 1,
            "_view_count": null,
            "disabled": false,
            "_view_module_version": "1.5.0",
            "min": 1,
            "continuous_update": true,
            "readout_format": "d",
            "description_tooltip": null,
            "readout": true,
            "_model_module": "@jupyter-widgets/controls",
            "layout": "IPY_MODEL_21f46296f80a41aaab4eeed190cd5603"
          }
        },
        "861913a1562f448c9b8ae537f9be8655": {
          "model_module": "@jupyter-widgets/output",
          "model_name": "OutputModel",
          "model_module_version": "1.0.0",
          "state": {
            "_view_name": "OutputView",
            "msg_id": "",
            "_dom_classes": [],
            "_model_name": "OutputModel",
            "outputs": [
              {
                "output_type": "display_data",
                "data": {
                  "image/png": "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\n",
                  "text/plain": "<Figure size 432x288 with 1 Axes>"
                },
                "metadata": {
                  "needs_background": "light"
                }
              }
            ],
            "_view_module": "@jupyter-widgets/output",
            "_model_module_version": "1.0.0",
            "_view_count": null,
            "_view_module_version": "1.0.0",
            "layout": "IPY_MODEL_8c5da420627a4824b51e8e9ece3c0960",
            "_model_module": "@jupyter-widgets/output"
          }
        },
        "a7da67a0de934f8a915e88d771f12f36": {
          "model_module": "@jupyter-widgets/controls",
          "model_name": "SliderStyleModel",
          "model_module_version": "1.5.0",
          "state": {
            "_view_name": "StyleView",
            "handle_color": null,
            "_model_name": "SliderStyleModel",
            "description_width": "",
            "_view_module": "@jupyter-widgets/base",
            "_model_module_version": "1.5.0",
            "_view_count": null,
            "_view_module_version": "1.2.0",
            "_model_module": "@jupyter-widgets/controls"
          }
        },
        "9abea86df25b41a4878315e091bf278a": {
          "model_module": "@jupyter-widgets/base",
          "model_name": "LayoutModel",
          "model_module_version": "1.2.0",
          "state": {
            "_view_name": "LayoutView",
            "grid_template_rows": null,
            "right": null,
            "justify_content": null,
            "_view_module": "@jupyter-widgets/base",
            "overflow": null,
            "_model_module_version": "1.2.0",
            "_view_count": null,
            "flex_flow": null,
            "width": null,
            "min_width": null,
            "border": null,
            "align_items": null,
            "bottom": null,
            "_model_module": "@jupyter-widgets/base",
            "top": null,
            "grid_column": null,
            "overflow_y": null,
            "overflow_x": null,
            "grid_auto_flow": null,
            "grid_area": null,
            "grid_template_columns": null,
            "flex": null,
            "_model_name": "LayoutModel",
            "justify_items": null,
            "grid_row": null,
            "max_height": null,
            "align_content": null,
            "visibility": null,
            "align_self": null,
            "height": null,
            "min_height": null,
            "padding": null,
            "grid_auto_rows": null,
            "grid_gap": null,
            "max_width": null,
            "order": null,
            "_view_module_version": "1.2.0",
            "grid_template_areas": null,
            "object_position": null,
            "object_fit": null,
            "grid_auto_columns": null,
            "margin": null,
            "display": null,
            "left": null
          }
        },
        "8cec6e44329b4ed0abd560fb758d4a13": {
          "model_module": "@jupyter-widgets/controls",
          "model_name": "SliderStyleModel",
          "model_module_version": "1.5.0",
          "state": {
            "_view_name": "StyleView",
            "handle_color": null,
            "_model_name": "SliderStyleModel",
            "description_width": "",
            "_view_module": "@jupyter-widgets/base",
            "_model_module_version": "1.5.0",
            "_view_count": null,
            "_view_module_version": "1.2.0",
            "_model_module": "@jupyter-widgets/controls"
          }
        },
        "21f46296f80a41aaab4eeed190cd5603": {
          "model_module": "@jupyter-widgets/base",
          "model_name": "LayoutModel",
          "model_module_version": "1.2.0",
          "state": {
            "_view_name": "LayoutView",
            "grid_template_rows": null,
            "right": null,
            "justify_content": null,
            "_view_module": "@jupyter-widgets/base",
            "overflow": null,
            "_model_module_version": "1.2.0",
            "_view_count": null,
            "flex_flow": null,
            "width": null,
            "min_width": null,
            "border": null,
            "align_items": null,
            "bottom": null,
            "_model_module": "@jupyter-widgets/base",
            "top": null,
            "grid_column": null,
            "overflow_y": null,
            "overflow_x": null,
            "grid_auto_flow": null,
            "grid_area": null,
            "grid_template_columns": null,
            "flex": null,
            "_model_name": "LayoutModel",
            "justify_items": null,
            "grid_row": null,
            "max_height": null,
            "align_content": null,
            "visibility": null,
            "align_self": null,
            "height": null,
            "min_height": null,
            "padding": null,
            "grid_auto_rows": null,
            "grid_gap": null,
            "max_width": null,
            "order": null,
            "_view_module_version": "1.2.0",
            "grid_template_areas": null,
            "object_position": null,
            "object_fit": null,
            "grid_auto_columns": null,
            "margin": null,
            "display": null,
            "left": null
          }
        },
        "8c5da420627a4824b51e8e9ece3c0960": {
          "model_module": "@jupyter-widgets/base",
          "model_name": "LayoutModel",
          "model_module_version": "1.2.0",
          "state": {
            "_view_name": "LayoutView",
            "grid_template_rows": null,
            "right": null,
            "justify_content": null,
            "_view_module": "@jupyter-widgets/base",
            "overflow": null,
            "_model_module_version": "1.2.0",
            "_view_count": null,
            "flex_flow": null,
            "width": null,
            "min_width": null,
            "border": null,
            "align_items": null,
            "bottom": null,
            "_model_module": "@jupyter-widgets/base",
            "top": null,
            "grid_column": null,
            "overflow_y": null,
            "overflow_x": null,
            "grid_auto_flow": null,
            "grid_area": null,
            "grid_template_columns": null,
            "flex": null,
            "_model_name": "LayoutModel",
            "justify_items": null,
            "grid_row": null,
            "max_height": null,
            "align_content": null,
            "visibility": null,
            "align_self": null,
            "height": null,
            "min_height": null,
            "padding": null,
            "grid_auto_rows": null,
            "grid_gap": null,
            "max_width": null,
            "order": null,
            "_view_module_version": "1.2.0",
            "grid_template_areas": null,
            "object_position": null,
            "object_fit": null,
            "grid_auto_columns": null,
            "margin": null,
            "display": null,
            "left": null
          }
        },
        "886d219a71fe4419866e8e4c3641273a": {
          "model_module": "@jupyter-widgets/controls",
          "model_name": "VBoxModel",
          "model_module_version": "1.5.0",
          "state": {
            "_view_name": "VBoxView",
            "_dom_classes": [
              "widget-interact"
            ],
            "_model_name": "VBoxModel",
            "_view_module": "@jupyter-widgets/controls",
            "_model_module_version": "1.5.0",
            "_view_count": null,
            "_view_module_version": "1.5.0",
            "box_style": "",
            "layout": "IPY_MODEL_b491e91b752642489b57817dc3e28c1f",
            "_model_module": "@jupyter-widgets/controls",
            "children": [
              "IPY_MODEL_ea4c964fe4844bf79737301a566bab0a",
              "IPY_MODEL_4d5fc69dd4ff4673a54602048c1f7b7c",
              "IPY_MODEL_d7cd2fb435db4ab9beba58aea339b635"
            ]
          }
        },
        "b491e91b752642489b57817dc3e28c1f": {
          "model_module": "@jupyter-widgets/base",
          "model_name": "LayoutModel",
          "model_module_version": "1.2.0",
          "state": {
            "_view_name": "LayoutView",
            "grid_template_rows": null,
            "right": null,
            "justify_content": null,
            "_view_module": "@jupyter-widgets/base",
            "overflow": null,
            "_model_module_version": "1.2.0",
            "_view_count": null,
            "flex_flow": null,
            "width": null,
            "min_width": null,
            "border": null,
            "align_items": null,
            "bottom": null,
            "_model_module": "@jupyter-widgets/base",
            "top": null,
            "grid_column": null,
            "overflow_y": null,
            "overflow_x": null,
            "grid_auto_flow": null,
            "grid_area": null,
            "grid_template_columns": null,
            "flex": null,
            "_model_name": "LayoutModel",
            "justify_items": null,
            "grid_row": null,
            "max_height": null,
            "align_content": null,
            "visibility": null,
            "align_self": null,
            "height": null,
            "min_height": null,
            "padding": null,
            "grid_auto_rows": null,
            "grid_gap": null,
            "max_width": null,
            "order": null,
            "_view_module_version": "1.2.0",
            "grid_template_areas": null,
            "object_position": null,
            "object_fit": null,
            "grid_auto_columns": null,
            "margin": null,
            "display": null,
            "left": null
          }
        },
        "ea4c964fe4844bf79737301a566bab0a": {
          "model_module": "@jupyter-widgets/controls",
          "model_name": "IntSliderModel",
          "model_module_version": "1.5.0",
          "state": {
            "_view_name": "IntSliderView",
            "style": "IPY_MODEL_181b6982fa94477d89caa4f1bac6e0fe",
            "_dom_classes": [],
            "description": "mean",
            "step": 1,
            "_model_name": "IntSliderModel",
            "orientation": "horizontal",
            "max": 5,
            "_view_module": "@jupyter-widgets/controls",
            "_model_module_version": "1.5.0",
            "value": 0,
            "_view_count": null,
            "disabled": false,
            "_view_module_version": "1.5.0",
            "min": -5,
            "continuous_update": true,
            "readout_format": "d",
            "description_tooltip": null,
            "readout": true,
            "_model_module": "@jupyter-widgets/controls",
            "layout": "IPY_MODEL_4431962113a24a5a9ec9c0e23f824ca2"
          }
        },
        "4d5fc69dd4ff4673a54602048c1f7b7c": {
          "model_module": "@jupyter-widgets/controls",
          "model_name": "IntSliderModel",
          "model_module_version": "1.5.0",
          "state": {
            "_view_name": "IntSliderView",
            "style": "IPY_MODEL_0203e3b4bfb643b7b2a25bcde316ea95",
            "_dom_classes": [],
            "description": "std_dev",
            "step": 1,
            "_model_name": "IntSliderModel",
            "orientation": "horizontal",
            "max": 5,
            "_view_module": "@jupyter-widgets/controls",
            "_model_module_version": "1.5.0",
            "value": 1,
            "_view_count": null,
            "disabled": false,
            "_view_module_version": "1.5.0",
            "min": 1,
            "continuous_update": true,
            "readout_format": "d",
            "description_tooltip": null,
            "readout": true,
            "_model_module": "@jupyter-widgets/controls",
            "layout": "IPY_MODEL_7470e1c777834939ab8e0b9762c8807d"
          }
        },
        "d7cd2fb435db4ab9beba58aea339b635": {
          "model_module": "@jupyter-widgets/output",
          "model_name": "OutputModel",
          "model_module_version": "1.0.0",
          "state": {
            "_view_name": "OutputView",
            "msg_id": "",
            "_dom_classes": [],
            "_model_name": "OutputModel",
            "outputs": [
              {
                "output_type": "display_data",
                "data": {
                  "image/png": "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\n",
                  "text/plain": "<Figure size 432x288 with 1 Axes>"
                },
                "metadata": {
                  "needs_background": "light"
                }
              }
            ],
            "_view_module": "@jupyter-widgets/output",
            "_model_module_version": "1.0.0",
            "_view_count": null,
            "_view_module_version": "1.0.0",
            "layout": "IPY_MODEL_faddc138ba01477e868ed28dc5ed1803",
            "_model_module": "@jupyter-widgets/output"
          }
        },
        "181b6982fa94477d89caa4f1bac6e0fe": {
          "model_module": "@jupyter-widgets/controls",
          "model_name": "SliderStyleModel",
          "model_module_version": "1.5.0",
          "state": {
            "_view_name": "StyleView",
            "handle_color": null,
            "_model_name": "SliderStyleModel",
            "description_width": "",
            "_view_module": "@jupyter-widgets/base",
            "_model_module_version": "1.5.0",
            "_view_count": null,
            "_view_module_version": "1.2.0",
            "_model_module": "@jupyter-widgets/controls"
          }
        },
        "4431962113a24a5a9ec9c0e23f824ca2": {
          "model_module": "@jupyter-widgets/base",
          "model_name": "LayoutModel",
          "model_module_version": "1.2.0",
          "state": {
            "_view_name": "LayoutView",
            "grid_template_rows": null,
            "right": null,
            "justify_content": null,
            "_view_module": "@jupyter-widgets/base",
            "overflow": null,
            "_model_module_version": "1.2.0",
            "_view_count": null,
            "flex_flow": null,
            "width": null,
            "min_width": null,
            "border": null,
            "align_items": null,
            "bottom": null,
            "_model_module": "@jupyter-widgets/base",
            "top": null,
            "grid_column": null,
            "overflow_y": null,
            "overflow_x": null,
            "grid_auto_flow": null,
            "grid_area": null,
            "grid_template_columns": null,
            "flex": null,
            "_model_name": "LayoutModel",
            "justify_items": null,
            "grid_row": null,
            "max_height": null,
            "align_content": null,
            "visibility": null,
            "align_self": null,
            "height": null,
            "min_height": null,
            "padding": null,
            "grid_auto_rows": null,
            "grid_gap": null,
            "max_width": null,
            "order": null,
            "_view_module_version": "1.2.0",
            "grid_template_areas": null,
            "object_position": null,
            "object_fit": null,
            "grid_auto_columns": null,
            "margin": null,
            "display": null,
            "left": null
          }
        },
        "0203e3b4bfb643b7b2a25bcde316ea95": {
          "model_module": "@jupyter-widgets/controls",
          "model_name": "SliderStyleModel",
          "model_module_version": "1.5.0",
          "state": {
            "_view_name": "StyleView",
            "handle_color": null,
            "_model_name": "SliderStyleModel",
            "description_width": "",
            "_view_module": "@jupyter-widgets/base",
            "_model_module_version": "1.5.0",
            "_view_count": null,
            "_view_module_version": "1.2.0",
            "_model_module": "@jupyter-widgets/controls"
          }
        },
        "7470e1c777834939ab8e0b9762c8807d": {
          "model_module": "@jupyter-widgets/base",
          "model_name": "LayoutModel",
          "model_module_version": "1.2.0",
          "state": {
            "_view_name": "LayoutView",
            "grid_template_rows": null,
            "right": null,
            "justify_content": null,
            "_view_module": "@jupyter-widgets/base",
            "overflow": null,
            "_model_module_version": "1.2.0",
            "_view_count": null,
            "flex_flow": null,
            "width": null,
            "min_width": null,
            "border": null,
            "align_items": null,
            "bottom": null,
            "_model_module": "@jupyter-widgets/base",
            "top": null,
            "grid_column": null,
            "overflow_y": null,
            "overflow_x": null,
            "grid_auto_flow": null,
            "grid_area": null,
            "grid_template_columns": null,
            "flex": null,
            "_model_name": "LayoutModel",
            "justify_items": null,
            "grid_row": null,
            "max_height": null,
            "align_content": null,
            "visibility": null,
            "align_self": null,
            "height": null,
            "min_height": null,
            "padding": null,
            "grid_auto_rows": null,
            "grid_gap": null,
            "max_width": null,
            "order": null,
            "_view_module_version": "1.2.0",
            "grid_template_areas": null,
            "object_position": null,
            "object_fit": null,
            "grid_auto_columns": null,
            "margin": null,
            "display": null,
            "left": null
          }
        },
        "faddc138ba01477e868ed28dc5ed1803": {
          "model_module": "@jupyter-widgets/base",
          "model_name": "LayoutModel",
          "model_module_version": "1.2.0",
          "state": {
            "_view_name": "LayoutView",
            "grid_template_rows": null,
            "right": null,
            "justify_content": null,
            "_view_module": "@jupyter-widgets/base",
            "overflow": null,
            "_model_module_version": "1.2.0",
            "_view_count": null,
            "flex_flow": null,
            "width": null,
            "min_width": null,
            "border": null,
            "align_items": null,
            "bottom": null,
            "_model_module": "@jupyter-widgets/base",
            "top": null,
            "grid_column": null,
            "overflow_y": null,
            "overflow_x": null,
            "grid_auto_flow": null,
            "grid_area": null,
            "grid_template_columns": null,
            "flex": null,
            "_model_name": "LayoutModel",
            "justify_items": null,
            "grid_row": null,
            "max_height": null,
            "align_content": null,
            "visibility": null,
            "align_self": null,
            "height": null,
            "min_height": null,
            "padding": null,
            "grid_auto_rows": null,
            "grid_gap": null,
            "max_width": null,
            "order": null,
            "_view_module_version": "1.2.0",
            "grid_template_areas": null,
            "object_position": null,
            "object_fit": null,
            "grid_auto_columns": null,
            "margin": null,
            "display": null,
            "left": null
          }
        },
        "7f38059b66e34e4bb4e99344f51e936c": {
          "model_module": "@jupyter-widgets/controls",
          "model_name": "VBoxModel",
          "model_module_version": "1.5.0",
          "state": {
            "_view_name": "VBoxView",
            "_dom_classes": [
              "widget-interact"
            ],
            "_model_name": "VBoxModel",
            "_view_module": "@jupyter-widgets/controls",
            "_model_module_version": "1.5.0",
            "_view_count": null,
            "_view_module_version": "1.5.0",
            "box_style": "",
            "layout": "IPY_MODEL_fcf2c300b58d4277bffae4c3847751d8",
            "_model_module": "@jupyter-widgets/controls",
            "children": [
              "IPY_MODEL_4bef97c35fb843be986b90c435c68bdb",
              "IPY_MODEL_221ee64acd6b4762b83c006cae31d63a",
              "IPY_MODEL_adf18a0205de4530b721ddb2e81d9f5a"
            ]
          }
        },
        "fcf2c300b58d4277bffae4c3847751d8": {
          "model_module": "@jupyter-widgets/base",
          "model_name": "LayoutModel",
          "model_module_version": "1.2.0",
          "state": {
            "_view_name": "LayoutView",
            "grid_template_rows": null,
            "right": null,
            "justify_content": null,
            "_view_module": "@jupyter-widgets/base",
            "overflow": null,
            "_model_module_version": "1.2.0",
            "_view_count": null,
            "flex_flow": null,
            "width": null,
            "min_width": null,
            "border": null,
            "align_items": null,
            "bottom": null,
            "_model_module": "@jupyter-widgets/base",
            "top": null,
            "grid_column": null,
            "overflow_y": null,
            "overflow_x": null,
            "grid_auto_flow": null,
            "grid_area": null,
            "grid_template_columns": null,
            "flex": null,
            "_model_name": "LayoutModel",
            "justify_items": null,
            "grid_row": null,
            "max_height": null,
            "align_content": null,
            "visibility": null,
            "align_self": null,
            "height": null,
            "min_height": null,
            "padding": null,
            "grid_auto_rows": null,
            "grid_gap": null,
            "max_width": null,
            "order": null,
            "_view_module_version": "1.2.0",
            "grid_template_areas": null,
            "object_position": null,
            "object_fit": null,
            "grid_auto_columns": null,
            "margin": null,
            "display": null,
            "left": null
          }
        },
        "4bef97c35fb843be986b90c435c68bdb": {
          "model_module": "@jupyter-widgets/controls",
          "model_name": "FloatSliderModel",
          "model_module_version": "1.5.0",
          "state": {
            "_view_name": "FloatSliderView",
            "style": "IPY_MODEL_ae8657f6a5674f05b55574d03193f38f",
            "_dom_classes": [],
            "description": "valore",
            "step": 0.1,
            "_model_name": "FloatSliderModel",
            "orientation": "horizontal",
            "max": 4,
            "_view_module": "@jupyter-widgets/controls",
            "_model_module_version": "1.5.0",
            "value": 1,
            "_view_count": null,
            "disabled": false,
            "_view_module_version": "1.5.0",
            "min": -4,
            "continuous_update": true,
            "readout_format": ".2f",
            "description_tooltip": null,
            "readout": true,
            "_model_module": "@jupyter-widgets/controls",
            "layout": "IPY_MODEL_792aa5ae2935411eaf49a0430fbde2b6"
          }
        },
        "221ee64acd6b4762b83c006cae31d63a": {
          "model_module": "@jupyter-widgets/controls",
          "model_name": "ButtonModel",
          "model_module_version": "1.5.0",
          "state": {
            "_view_name": "ButtonView",
            "style": "IPY_MODEL_bf728e8aeea64c429cc9f597b73ae9cb",
            "_dom_classes": [],
            "description": "Run Interact",
            "_model_name": "ButtonModel",
            "button_style": "",
            "_view_module": "@jupyter-widgets/controls",
            "_model_module_version": "1.5.0",
            "tooltip": "",
            "_view_count": null,
            "disabled": false,
            "_view_module_version": "1.5.0",
            "layout": "IPY_MODEL_014d0741199c41a8850537d898e68354",
            "_model_module": "@jupyter-widgets/controls",
            "icon": ""
          }
        },
        "adf18a0205de4530b721ddb2e81d9f5a": {
          "model_module": "@jupyter-widgets/output",
          "model_name": "OutputModel",
          "model_module_version": "1.0.0",
          "state": {
            "_view_name": "OutputView",
            "msg_id": "",
            "_dom_classes": [],
            "_model_name": "OutputModel",
            "outputs": [],
            "_view_module": "@jupyter-widgets/output",
            "_model_module_version": "1.0.0",
            "_view_count": null,
            "_view_module_version": "1.0.0",
            "layout": "IPY_MODEL_506dba77b5a34ef7b3704d2e7ac8162c",
            "_model_module": "@jupyter-widgets/output"
          }
        },
        "ae8657f6a5674f05b55574d03193f38f": {
          "model_module": "@jupyter-widgets/controls",
          "model_name": "SliderStyleModel",
          "model_module_version": "1.5.0",
          "state": {
            "_view_name": "StyleView",
            "handle_color": null,
            "_model_name": "SliderStyleModel",
            "description_width": "",
            "_view_module": "@jupyter-widgets/base",
            "_model_module_version": "1.5.0",
            "_view_count": null,
            "_view_module_version": "1.2.0",
            "_model_module": "@jupyter-widgets/controls"
          }
        },
        "792aa5ae2935411eaf49a0430fbde2b6": {
          "model_module": "@jupyter-widgets/base",
          "model_name": "LayoutModel",
          "model_module_version": "1.2.0",
          "state": {
            "_view_name": "LayoutView",
            "grid_template_rows": null,
            "right": null,
            "justify_content": null,
            "_view_module": "@jupyter-widgets/base",
            "overflow": null,
            "_model_module_version": "1.2.0",
            "_view_count": null,
            "flex_flow": null,
            "width": null,
            "min_width": null,
            "border": null,
            "align_items": null,
            "bottom": null,
            "_model_module": "@jupyter-widgets/base",
            "top": null,
            "grid_column": null,
            "overflow_y": null,
            "overflow_x": null,
            "grid_auto_flow": null,
            "grid_area": null,
            "grid_template_columns": null,
            "flex": null,
            "_model_name": "LayoutModel",
            "justify_items": null,
            "grid_row": null,
            "max_height": null,
            "align_content": null,
            "visibility": null,
            "align_self": null,
            "height": null,
            "min_height": null,
            "padding": null,
            "grid_auto_rows": null,
            "grid_gap": null,
            "max_width": null,
            "order": null,
            "_view_module_version": "1.2.0",
            "grid_template_areas": null,
            "object_position": null,
            "object_fit": null,
            "grid_auto_columns": null,
            "margin": null,
            "display": null,
            "left": null
          }
        },
        "bf728e8aeea64c429cc9f597b73ae9cb": {
          "model_module": "@jupyter-widgets/controls",
          "model_name": "ButtonStyleModel",
          "model_module_version": "1.5.0",
          "state": {
            "_view_name": "StyleView",
            "_model_name": "ButtonStyleModel",
            "_view_module": "@jupyter-widgets/base",
            "_model_module_version": "1.5.0",
            "_view_count": null,
            "button_color": null,
            "font_weight": "",
            "_view_module_version": "1.2.0",
            "_model_module": "@jupyter-widgets/controls"
          }
        },
        "014d0741199c41a8850537d898e68354": {
          "model_module": "@jupyter-widgets/base",
          "model_name": "LayoutModel",
          "model_module_version": "1.2.0",
          "state": {
            "_view_name": "LayoutView",
            "grid_template_rows": null,
            "right": null,
            "justify_content": null,
            "_view_module": "@jupyter-widgets/base",
            "overflow": null,
            "_model_module_version": "1.2.0",
            "_view_count": null,
            "flex_flow": null,
            "width": null,
            "min_width": null,
            "border": null,
            "align_items": null,
            "bottom": null,
            "_model_module": "@jupyter-widgets/base",
            "top": null,
            "grid_column": null,
            "overflow_y": null,
            "overflow_x": null,
            "grid_auto_flow": null,
            "grid_area": null,
            "grid_template_columns": null,
            "flex": null,
            "_model_name": "LayoutModel",
            "justify_items": null,
            "grid_row": null,
            "max_height": null,
            "align_content": null,
            "visibility": null,
            "align_self": null,
            "height": null,
            "min_height": null,
            "padding": null,
            "grid_auto_rows": null,
            "grid_gap": null,
            "max_width": null,
            "order": null,
            "_view_module_version": "1.2.0",
            "grid_template_areas": null,
            "object_position": null,
            "object_fit": null,
            "grid_auto_columns": null,
            "margin": null,
            "display": null,
            "left": null
          }
        },
        "506dba77b5a34ef7b3704d2e7ac8162c": {
          "model_module": "@jupyter-widgets/base",
          "model_name": "LayoutModel",
          "model_module_version": "1.2.0",
          "state": {
            "_view_name": "LayoutView",
            "grid_template_rows": null,
            "right": null,
            "justify_content": null,
            "_view_module": "@jupyter-widgets/base",
            "overflow": null,
            "_model_module_version": "1.2.0",
            "_view_count": null,
            "flex_flow": null,
            "width": null,
            "min_width": null,
            "border": null,
            "align_items": null,
            "bottom": null,
            "_model_module": "@jupyter-widgets/base",
            "top": null,
            "grid_column": null,
            "overflow_y": null,
            "overflow_x": null,
            "grid_auto_flow": null,
            "grid_area": null,
            "grid_template_columns": null,
            "flex": null,
            "_model_name": "LayoutModel",
            "justify_items": null,
            "grid_row": null,
            "max_height": null,
            "align_content": null,
            "visibility": null,
            "align_self": null,
            "height": null,
            "min_height": null,
            "padding": null,
            "grid_auto_rows": null,
            "grid_gap": null,
            "max_width": null,
            "order": null,
            "_view_module_version": "1.2.0",
            "grid_template_areas": null,
            "object_position": null,
            "object_fit": null,
            "grid_auto_columns": null,
            "margin": null,
            "display": null,
            "left": null
          }
        },
        "cbd5aadda4da4de181ebedb2269f679e": {
          "model_module": "@jupyter-widgets/controls",
          "model_name": "VBoxModel",
          "model_module_version": "1.5.0",
          "state": {
            "_view_name": "VBoxView",
            "_dom_classes": [
              "widget-interact"
            ],
            "_model_name": "VBoxModel",
            "_view_module": "@jupyter-widgets/controls",
            "_model_module_version": "1.5.0",
            "_view_count": null,
            "_view_module_version": "1.5.0",
            "box_style": "",
            "layout": "IPY_MODEL_ea06e2103f2046d18eb4d8cdfa412bc1",
            "_model_module": "@jupyter-widgets/controls",
            "children": [
              "IPY_MODEL_2f51e517d3354644b8e98bb505a72e98",
              "IPY_MODEL_59f2af4b5d6d49cbb3f2f1c9f1d29c4a",
              "IPY_MODEL_e0db2e7d480d470d99f68716f24a4dc9"
            ]
          }
        },
        "ea06e2103f2046d18eb4d8cdfa412bc1": {
          "model_module": "@jupyter-widgets/base",
          "model_name": "LayoutModel",
          "model_module_version": "1.2.0",
          "state": {
            "_view_name": "LayoutView",
            "grid_template_rows": null,
            "right": null,
            "justify_content": null,
            "_view_module": "@jupyter-widgets/base",
            "overflow": null,
            "_model_module_version": "1.2.0",
            "_view_count": null,
            "flex_flow": null,
            "width": null,
            "min_width": null,
            "border": null,
            "align_items": null,
            "bottom": null,
            "_model_module": "@jupyter-widgets/base",
            "top": null,
            "grid_column": null,
            "overflow_y": null,
            "overflow_x": null,
            "grid_auto_flow": null,
            "grid_area": null,
            "grid_template_columns": null,
            "flex": null,
            "_model_name": "LayoutModel",
            "justify_items": null,
            "grid_row": null,
            "max_height": null,
            "align_content": null,
            "visibility": null,
            "align_self": null,
            "height": null,
            "min_height": null,
            "padding": null,
            "grid_auto_rows": null,
            "grid_gap": null,
            "max_width": null,
            "order": null,
            "_view_module_version": "1.2.0",
            "grid_template_areas": null,
            "object_position": null,
            "object_fit": null,
            "grid_auto_columns": null,
            "margin": null,
            "display": null,
            "left": null
          }
        },
        "2f51e517d3354644b8e98bb505a72e98": {
          "model_module": "@jupyter-widgets/controls",
          "model_name": "DropdownModel",
          "model_module_version": "1.5.0",
          "state": {
            "_options_labels": [
              "S",
              "M",
              "L",
              "XL"
            ],
            "_view_name": "DropdownView",
            "style": "IPY_MODEL_48d3cc00f51d45caab49d2abdee26dd9",
            "_dom_classes": [],
            "description": "taglia",
            "_model_name": "DropdownModel",
            "index": 3,
            "_view_module": "@jupyter-widgets/controls",
            "_model_module_version": "1.5.0",
            "_view_count": null,
            "disabled": false,
            "_view_module_version": "1.5.0",
            "description_tooltip": null,
            "_model_module": "@jupyter-widgets/controls",
            "layout": "IPY_MODEL_1bfb2badd2f5439f8fde4286de977ac3"
          }
        },
        "59f2af4b5d6d49cbb3f2f1c9f1d29c4a": {
          "model_module": "@jupyter-widgets/controls",
          "model_name": "ButtonModel",
          "model_module_version": "1.5.0",
          "state": {
            "_view_name": "ButtonView",
            "style": "IPY_MODEL_aedb29c7cee24189b4cb4aef00a1ba9e",
            "_dom_classes": [],
            "description": "Run Interact",
            "_model_name": "ButtonModel",
            "button_style": "",
            "_view_module": "@jupyter-widgets/controls",
            "_model_module_version": "1.5.0",
            "tooltip": "",
            "_view_count": null,
            "disabled": false,
            "_view_module_version": "1.5.0",
            "layout": "IPY_MODEL_25c7fde85c1b440f90f7956517f6611e",
            "_model_module": "@jupyter-widgets/controls",
            "icon": ""
          }
        },
        "e0db2e7d480d470d99f68716f24a4dc9": {
          "model_module": "@jupyter-widgets/output",
          "model_name": "OutputModel",
          "model_module_version": "1.0.0",
          "state": {
            "_view_name": "OutputView",
            "msg_id": "",
            "_dom_classes": [],
            "_model_name": "OutputModel",
            "outputs": [
              {
                "output_type": "stream",
                "name": "stdout",
                "text": [
                  "Risultati attesi: 0.055\n",
                  "Risultati ottenuti: 0.066\n"
                ]
              },
              {
                "output_type": "display_data",
                "data": {
                  "image/png": "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\n",
                  "text/plain": "<Figure size 432x288 with 1 Axes>"
                },
                "metadata": {
                  "needs_background": "light"
                }
              }
            ],
            "_view_module": "@jupyter-widgets/output",
            "_model_module_version": "1.0.0",
            "_view_count": null,
            "_view_module_version": "1.0.0",
            "layout": "IPY_MODEL_fd5ce148bff7477999a8f7b59a1dd44e",
            "_model_module": "@jupyter-widgets/output"
          }
        },
        "48d3cc00f51d45caab49d2abdee26dd9": {
          "model_module": "@jupyter-widgets/controls",
          "model_name": "DescriptionStyleModel",
          "model_module_version": "1.5.0",
          "state": {
            "_view_name": "StyleView",
            "_model_name": "DescriptionStyleModel",
            "description_width": "",
            "_view_module": "@jupyter-widgets/base",
            "_model_module_version": "1.5.0",
            "_view_count": null,
            "_view_module_version": "1.2.0",
            "_model_module": "@jupyter-widgets/controls"
          }
        },
        "1bfb2badd2f5439f8fde4286de977ac3": {
          "model_module": "@jupyter-widgets/base",
          "model_name": "LayoutModel",
          "model_module_version": "1.2.0",
          "state": {
            "_view_name": "LayoutView",
            "grid_template_rows": null,
            "right": null,
            "justify_content": null,
            "_view_module": "@jupyter-widgets/base",
            "overflow": null,
            "_model_module_version": "1.2.0",
            "_view_count": null,
            "flex_flow": null,
            "width": null,
            "min_width": null,
            "border": null,
            "align_items": null,
            "bottom": null,
            "_model_module": "@jupyter-widgets/base",
            "top": null,
            "grid_column": null,
            "overflow_y": null,
            "overflow_x": null,
            "grid_auto_flow": null,
            "grid_area": null,
            "grid_template_columns": null,
            "flex": null,
            "_model_name": "LayoutModel",
            "justify_items": null,
            "grid_row": null,
            "max_height": null,
            "align_content": null,
            "visibility": null,
            "align_self": null,
            "height": null,
            "min_height": null,
            "padding": null,
            "grid_auto_rows": null,
            "grid_gap": null,
            "max_width": null,
            "order": null,
            "_view_module_version": "1.2.0",
            "grid_template_areas": null,
            "object_position": null,
            "object_fit": null,
            "grid_auto_columns": null,
            "margin": null,
            "display": null,
            "left": null
          }
        },
        "aedb29c7cee24189b4cb4aef00a1ba9e": {
          "model_module": "@jupyter-widgets/controls",
          "model_name": "ButtonStyleModel",
          "model_module_version": "1.5.0",
          "state": {
            "_view_name": "StyleView",
            "_model_name": "ButtonStyleModel",
            "_view_module": "@jupyter-widgets/base",
            "_model_module_version": "1.5.0",
            "_view_count": null,
            "button_color": null,
            "font_weight": "",
            "_view_module_version": "1.2.0",
            "_model_module": "@jupyter-widgets/controls"
          }
        },
        "25c7fde85c1b440f90f7956517f6611e": {
          "model_module": "@jupyter-widgets/base",
          "model_name": "LayoutModel",
          "model_module_version": "1.2.0",
          "state": {
            "_view_name": "LayoutView",
            "grid_template_rows": null,
            "right": null,
            "justify_content": null,
            "_view_module": "@jupyter-widgets/base",
            "overflow": null,
            "_model_module_version": "1.2.0",
            "_view_count": null,
            "flex_flow": null,
            "width": null,
            "min_width": null,
            "border": null,
            "align_items": null,
            "bottom": null,
            "_model_module": "@jupyter-widgets/base",
            "top": null,
            "grid_column": null,
            "overflow_y": null,
            "overflow_x": null,
            "grid_auto_flow": null,
            "grid_area": null,
            "grid_template_columns": null,
            "flex": null,
            "_model_name": "LayoutModel",
            "justify_items": null,
            "grid_row": null,
            "max_height": null,
            "align_content": null,
            "visibility": null,
            "align_self": null,
            "height": null,
            "min_height": null,
            "padding": null,
            "grid_auto_rows": null,
            "grid_gap": null,
            "max_width": null,
            "order": null,
            "_view_module_version": "1.2.0",
            "grid_template_areas": null,
            "object_position": null,
            "object_fit": null,
            "grid_auto_columns": null,
            "margin": null,
            "display": null,
            "left": null
          }
        },
        "fd5ce148bff7477999a8f7b59a1dd44e": {
          "model_module": "@jupyter-widgets/base",
          "model_name": "LayoutModel",
          "model_module_version": "1.2.0",
          "state": {
            "_view_name": "LayoutView",
            "grid_template_rows": null,
            "right": null,
            "justify_content": null,
            "_view_module": "@jupyter-widgets/base",
            "overflow": null,
            "_model_module_version": "1.2.0",
            "_view_count": null,
            "flex_flow": null,
            "width": null,
            "min_width": null,
            "border": null,
            "align_items": null,
            "bottom": null,
            "_model_module": "@jupyter-widgets/base",
            "top": null,
            "grid_column": null,
            "overflow_y": null,
            "overflow_x": null,
            "grid_auto_flow": null,
            "grid_area": null,
            "grid_template_columns": null,
            "flex": null,
            "_model_name": "LayoutModel",
            "justify_items": null,
            "grid_row": null,
            "max_height": null,
            "align_content": null,
            "visibility": null,
            "align_self": null,
            "height": null,
            "min_height": null,
            "padding": null,
            "grid_auto_rows": null,
            "grid_gap": null,
            "max_width": null,
            "order": null,
            "_view_module_version": "1.2.0",
            "grid_template_areas": null,
            "object_position": null,
            "object_fit": null,
            "grid_auto_columns": null,
            "margin": null,
            "display": null,
            "left": null
          }
        }
      }
    }
  },
  "cells": [
    {
      "cell_type": "markdown",
      "metadata": {
        "id": "view-in-github",
        "colab_type": "text"
      },
      "source": [
        "<a href=\"https://colab.research.google.com/github/MontiMic/TesiMDP/blob/main/Tesi.ipynb\" target=\"_parent\"><img src=\"https://colab.research.google.com/assets/colab-badge.svg\" alt=\"Open In Colab\"/></a>"
      ]
    },
    {
      "cell_type": "markdown",
      "source": [
        "# Introduzione\n",
        "La seguente presentazione si propone di semplificare l'apprendimento di alcuni principi del calcolo probabilistico offrendo la possibilità di vedere applicare le leggi su grandi numeri e confrontando i risultati ottenuti con quelli attesi dalla teoria."
      ],
      "metadata": {
        "id": "yyLelI9l5lbc"
      }
    },
    {
      "cell_type": "markdown",
      "source": [
        "Di seguito includiamo le librerie che verranno utilizzate nel corso della presentazione:"
      ],
      "metadata": {
        "id": "35yCw13F7Yam"
      }
    },
    {
      "cell_type": "code",
      "execution_count": 1,
      "metadata": {
        "id": "TAxUPZupC-qR"
      },
      "outputs": [],
      "source": [
        "import numpy as np\n",
        "from ipywidgets import interact, interact_manual\n",
        "from matplotlib import pyplot as plt\n",
        "import math\n",
        "import seaborn as sns\n",
        "import random\n",
        "import scipy.stats\n",
        "import pandas as pd"
      ]
    },
    {
      "cell_type": "markdown",
      "source": [
        "##Elementi di python"
      ],
      "metadata": {
        "id": "XN5Whz1Y9fiZ"
      }
    },
    {
      "cell_type": "markdown",
      "source": [
        "Questa sezione è rivolta unicamente a chi non avesse ancora mai visto il python, allo scopo di mostrare alcune pratiche peculiari a Python."
      ],
      "metadata": {
        "id": "yHNFMDrk9pHX"
      }
    },
    {
      "cell_type": "markdown",
      "source": [
        "La funzione np.zeros(n) restituisce un array di zeri lungo n"
      ],
      "metadata": {
        "id": "kXZd8nfHDkHj"
      }
    },
    {
      "cell_type": "code",
      "source": [
        "np.zeros(5)"
      ],
      "metadata": {
        "colab": {
          "base_uri": "https://localhost:8080/"
        },
        "id": "Pukdrzg7-ggY",
        "outputId": "ecba13a1-a55d-4299-be52-6f9e91ac4706"
      },
      "execution_count": 2,
      "outputs": [
        {
          "output_type": "execute_result",
          "data": {
            "text/plain": [
              "array([0., 0., 0., 0., 0.])"
            ]
          },
          "metadata": {},
          "execution_count": 2
        }
      ]
    },
    {
      "cell_type": "markdown",
      "source": [
        "Specificando anche il type booleano facciamo una conversione: \n",
        "\n",
        "*  Gli zeri diventano False\n",
        "\n",
        "* I valori diversi da zero diventano True"
      ],
      "metadata": {
        "id": "VyLCyWeYDvuh"
      }
    },
    {
      "cell_type": "code",
      "source": [
        "esempio = np.zeros(10, dtype=np.bool_)\n",
        "print(esempio)"
      ],
      "metadata": {
        "colab": {
          "base_uri": "https://localhost:8080/"
        },
        "id": "lO-15LDEDZEP",
        "outputId": "c0540a4d-12b3-472f-c12a-fdb4778def3e"
      },
      "execution_count": 3,
      "outputs": [
        {
          "output_type": "stream",
          "name": "stdout",
          "text": [
            "[False False False False False False False False False False]\n"
          ]
        }
      ]
    },
    {
      "cell_type": "markdown",
      "source": [
        "Useremo questo tipo di struttura dati per simulare praticamente tutto, dalla roulette (True = rosso, False = nero) ad un urna di palline (quando ci basteranno 2 soli colori delle palline)"
      ],
      "metadata": {
        "id": "t-fqP7KSEIUu"
      }
    },
    {
      "cell_type": "markdown",
      "source": [
        "Per modificare un array il python ci offre uno strumento molto potente: lo slicing. Questa funzionalità permette di intervenire su un qualunque sottoinsieme dell'array se usata correttamente. A noi basta sapere che in un caso come esempio[1:5:2], stiamo intervenendo sull'array esempio, prendendo gli elementi dalla posizione 1 (inclusa) alla posizione 5 (esclusa) con passo 2:"
      ],
      "metadata": {
        "id": "OEyj-K9iEeQa"
      }
    },
    {
      "cell_type": "code",
      "source": [
        "esempio = ['a', 'b', 'c', 'd', 'e']\n",
        "esempio[1:5:2]"
      ],
      "metadata": {
        "colab": {
          "base_uri": "https://localhost:8080/"
        },
        "id": "48oF9noGF3Np",
        "outputId": "ff786daf-ebc1-4610-f96a-862ecfc0c2ec"
      },
      "execution_count": 4,
      "outputs": [
        {
          "output_type": "execute_result",
          "data": {
            "text/plain": [
              "['b', 'd']"
            ]
          },
          "metadata": {},
          "execution_count": 4
        }
      ]
    },
    {
      "cell_type": "markdown",
      "source": [
        "Non specificare il primo parametro significa partire dall'elemento 0, omettere il secondo significa procedere fino all'ultimo (compreso) e non specificare il passo significa passo 1: non saltare nessun elemento."
      ],
      "metadata": {
        "id": "Rm-4oAaOGvIL"
      }
    },
    {
      "cell_type": "markdown",
      "source": [
        "La funzione range(n) restituisce un iterabile lungo n. In python è generalmente usata nel ciclo for."
      ],
      "metadata": {
        "id": "b6PzabLwIH1d"
      }
    },
    {
      "cell_type": "code",
      "source": [
        "for i in range(5):\n",
        "  print(i)"
      ],
      "metadata": {
        "colab": {
          "base_uri": "https://localhost:8080/"
        },
        "id": "fdFx5oZPIaf5",
        "outputId": "227f62f9-9a7d-4de9-fda5-cde23955f127"
      },
      "execution_count": 5,
      "outputs": [
        {
          "output_type": "stream",
          "name": "stdout",
          "text": [
            "0\n",
            "1\n",
            "2\n",
            "3\n",
            "4\n"
          ]
        }
      ]
    },
    {
      "cell_type": "markdown",
      "source": [
        "##Funzioni utili"
      ],
      "metadata": {
        "id": "UdZaaBfKzjzX"
      }
    },
    {
      "cell_type": "markdown",
      "source": [
        "Quelle che seguono sono funzioni utilizzate in più test del documento, per il corretto funzionamento dei test successivi è necessario eseguire queste celle una volta."
      ],
      "metadata": {
        "id": "iZFqSjhypj_Y"
      }
    },
    {
      "cell_type": "code",
      "source": [
        "#funzione che genera una roulette simulata da un array lungo 37 di cui 18 valori contano come \"vittoria\"\n",
        "def mk_roulette():\n",
        "  ruota = np.zeros(37, dtype=np.bool_)\n",
        "  ruota[1::2] = True\n",
        "  return ruota"
      ],
      "metadata": {
        "id": "4LJOZHxd810N"
      },
      "execution_count": 6,
      "outputs": []
    },
    {
      "cell_type": "code",
      "source": [
        "#funzione che simula una singola partita alla roulette (1 o più puntate uguali) e, dato il portafogli di partenza, torno il nuovo conto\n",
        "def partita(ruota, giocate, puntata, portafogli):\n",
        "  while(giocate > 0):\n",
        "      giocate = giocate - 1\n",
        "      portafogli = portafogli - puntata #la puntata la considero sempre persa, in caso di vittoria vinco il doppio della puntata\n",
        "      if(ruota[np.random.randint(0, (37))]): #estraggo un elemento casuale della roulette e verifico se è rosso\n",
        "        portafogli = portafogli + (puntata * 2)\n",
        "  return portafogli  "
      ],
      "metadata": {
        "id": "fqGFfq_CT7Tv"
      },
      "execution_count": 7,
      "outputs": []
    },
    {
      "cell_type": "code",
      "source": [
        "#funzione che simula un dado ritornando un intero compreso tra 1 e 6\n",
        "def trow():\n",
        "  return np.random.randint(1, 7)"
      ],
      "metadata": {
        "id": "O7NiHEewS99d"
      },
      "execution_count": 8,
      "outputs": []
    },
    {
      "cell_type": "code",
      "source": [
        "#funzione che ritorna un'urna contenente palline di 2 colori in quanità scelta\n",
        "def mk_urna(bianche, rosse):\n",
        "  tot = bianche + rosse\n",
        "  urna = np.zeros(tot, dtype=np.bool_)\n",
        "  while(rosse > 0):\n",
        "    rnd = np.random.randint(0, (tot))\n",
        "    if (not urna[rnd]):\n",
        "      urna[rnd] = True\n",
        "      rosse = rosse - 1\n",
        "  return urna"
      ],
      "metadata": {
        "id": "R06bqIr8Ii4G"
      },
      "execution_count": 9,
      "outputs": []
    },
    {
      "cell_type": "markdown",
      "source": [
        "##Interpretazione dei risultati"
      ],
      "metadata": {
        "id": "EbFr-wXap_mS"
      }
    },
    {
      "cell_type": "markdown",
      "source": [
        "I test di questo documento hanno lo scopo di mostrare che le formule viste con la teoria del calcolo probabilistico hanno un riscontro nella realtà. \n",
        "Ogni test simulerà per un numero di volte a discrezione dello studente, lo scenario descritto dall'esempio in esame. Si noti che un numero più alto di ripetizioni porterà a risultati più precisi."
      ],
      "metadata": {
        "id": "Mp5-2IqZqDex"
      }
    },
    {
      "cell_type": "code",
      "source": [
        "def moneta(lanci):\n",
        "  results = []\n",
        "  for i in range(lanci): #lanciamo la moneta tante volte quante indicate dal parametro \"lanci\"\n",
        "    results.append(np.random.randint(2))\n",
        "  #grafico\n",
        "  labels = []\n",
        "  normalized = []\n",
        "  normalized.append(round(((results.count(0) / lanci) * 100), 2)) #conto le istanze dei risultati e le normalizzo\n",
        "  normalized.append(round(100 - sum(normalized), 2)) #per evitare che per errori di arrotondamento la somma dei risultati sia 99.9%, l'ultimo risultato lo calcolo come 100 - (la somma dei precedenti)\n",
        "  for i in range(len(normalized)):\n",
        "    labels.append(str(normalized[i]) + \"%\") # aggiungo le labels (i valori riportati all'esterno del grafico)\n",
        "  plt.pie(normalized, labels=labels)\n",
        "  legenda = [\"Testa\", \"Croce\"]\n",
        "  plt.legend(legenda,loc='upper center', bbox_to_anchor=(0.5, -0.05), fancybox=True, shadow=True, ncol=5)"
      ],
      "metadata": {
        "id": "pZxUQQ-_rGuz"
      },
      "execution_count": 10,
      "outputs": []
    },
    {
      "cell_type": "code",
      "source": [
        "moneta(100)"
      ],
      "metadata": {
        "id": "7rynuIn1ubs4",
        "outputId": "d26ab114-dc0d-4eec-a778-c67826145f5f",
        "colab": {
          "base_uri": "https://localhost:8080/",
          "height": 282
        }
      },
      "execution_count": 11,
      "outputs": [
        {
          "output_type": "display_data",
          "data": {
            "image/png": "[encoded data removed]",
            "text/plain": [
              "<Figure size 432x288 with 1 Axes>"
            ]
          },
          "metadata": {}
        }
      ]
    },
    {
      "cell_type": "code",
      "source": [
        "moneta(10_000)"
      ],
      "metadata": {
        "id": "E6dWQdxUud7o",
        "outputId": "10339726-ca3c-4470-cf38-90166777c842",
        "colab": {
          "base_uri": "https://localhost:8080/",
          "height": 282
        }
      },
      "execution_count": 12,
      "outputs": [
        {
          "output_type": "display_data",
          "data": {
            "image/png": "[encoded data removed]",
            "text/plain": [
              "<Figure size 432x288 with 1 Axes>"
            ]
          },
          "metadata": {}
        }
      ]
    },
    {
      "cell_type": "code",
      "source": [
        "moneta(1_000_000)"
      ],
      "metadata": {
        "id": "uNmo8_dXugoY",
        "outputId": "ffb390f3-3536-496e-fee0-e0da1ced9d19",
        "colab": {
          "base_uri": "https://localhost:8080/",
          "height": 282
        }
      },
      "execution_count": 13,
      "outputs": [
        {
          "output_type": "display_data",
          "data": {
            "image/png": "[encoded data removed]",
            "text/plain": [
              "<Figure size 432x288 with 1 Axes>"
            ]
          },
          "metadata": {}
        }
      ]
    },
    {
      "cell_type": "markdown",
      "source": [
        "Per un buon equilibrio tra accuratezza dei risultati e tempo di esecuzione impostiamo il numero di ripetizioni a 100 000 con la variabile \"precisione\"."
      ],
      "metadata": {
        "id": "0_jUagMkw72N"
      }
    },
    {
      "cell_type": "code",
      "source": [
        "precisione = 100_000"
      ],
      "metadata": {
        "id": "7YqOeAMoxunS"
      },
      "execution_count": 14,
      "outputs": []
    },
    {
      "cell_type": "markdown",
      "source": [
        "Si lascia allo studente la possibilità di incrementare questa variabile se desiderasse dei risultati più precisi."
      ],
      "metadata": {
        "id": "uH7_BXdBxvvq"
      }
    },
    {
      "cell_type": "markdown",
      "source": [
        "# Variabili aleatorie discrete"
      ],
      "metadata": {
        "id": "gQTrf-PK7FxE"
      }
    },
    {
      "cell_type": "markdown",
      "source": [
        "Una variabile aleatoria _X_ si dice discreta se i valori che assume sono finiti oppure numerabili.\n",
        "\n",
        "Nel caso siano numerabili molto spesso potremo pensare che siano semplicmente i numeri interi, ma non vogliamo escludere anche casi in cui abbiamo dei valori non interi."
      ],
      "metadata": {
        "id": "f7tQYrZgLgm2"
      }
    },
    {
      "cell_type": "markdown",
      "source": [
        "##Esempio 1.1 \n",
        "Faccio 3 puntate sul rosso alla roulette puntando 10 euro per volta, qual è la probabilità di vincere più di un certo valore _X_?\n",
        "\n",
        "(Le vincite possibili sono valori finiti ed è quindi una variabile discreta)"
      ],
      "metadata": {
        "id": "wO2wYqZ-DSZF"
      }
    },
    {
      "cell_type": "code",
      "source": [
        "@interact_manual(vincita=(0, 30))\n",
        "def es11(vincita=5):\n",
        "  giocate = 3\n",
        "  puntata = 10\n",
        "  ruota = mk_roulette()\n",
        "  count = 0\n",
        "  for i in range(precisione):\n",
        "    portafogli = giocate * puntata\n",
        "    portafogli = partita(ruota, giocate, puntata, portafogli) #il portafogli viene aggiornato dopo aver simulato una partita\n",
        "    if((portafogli - (giocate*puntata)) >= vincita): #se ho finito le 3 puntate con una vincita maggiore o uguale a quella sperata la aggiungo al conteggio\n",
        "      count = count + 1\n",
        "  return round(count / precisione, 3)"
      ],
      "metadata": {
        "colab": {
          "base_uri": "https://localhost:8080/",
          "height": 81,
          "referenced_widgets": [
            "8c27e34052c9405c984b1fb1a988754a",
            "9f3c7cbf75e34adbbf3006991bf7f100",
            "c39f1f418c3043a1a8c4f6017d2de5a8",
            "dece62f78e344b24bcbc54611362fe2a",
            "df019a2b20a343119d8958ca95a11143",
            "785501f00fae408999db100efc9fc17a",
            "0ba5a68792134a18aa5732062ff4861a",
            "a165e60f5476460589bb7bf53bd06a5e",
            "f35d7e043c9448a0b73c7de004be8ad4",
            "b57613853fc140f1a7b6902f814d86a8"
          ]
        },
        "id": "w2ugmhMy_cfa",
        "outputId": "b1b61bdc-398f-4a39-b140-6bca8b535841"
      },
      "execution_count": 15,
      "outputs": [
        {
          "output_type": "display_data",
          "data": {
            "application/vnd.jupyter.widget-view+json": {
              "model_id": "8c27e34052c9405c984b1fb1a988754a",
              "version_minor": 0,
              "version_major": 2
            },
            "text/plain": [
              "interactive(children=(IntSlider(value=5, description='vincita', max=30), Button(description='Run Interact', st…"
            ]
          },
          "metadata": {}
        }
      ]
    },
    {
      "cell_type": "markdown",
      "source": [
        "##Esempio 1.2\n",
        "Dati il numero di puntate ed i soldi scommessi ogni volta, quanto mi dovrei aspettare di aver vinto alla fine? (risultato in euro)"
      ],
      "metadata": {
        "id": "tTOcRD2kD_zf"
      }
    },
    {
      "cell_type": "code",
      "source": [
        "@interact_manual(giocate=(1, 10), puntata=(5, 100, 5))\n",
        "def es12(giocate = 3, puntata = 10):\n",
        "  portafogli = giocate * puntata * precisione\n",
        "  ruota = mk_roulette()\n",
        "  for i in range(precisione):\n",
        "    portafogli = partita(ruota, giocate, puntata, portafogli)\n",
        "  portafogli = portafogli / precisione\n",
        "  return round(portafogli - (giocate * puntata), 2)"
      ],
      "metadata": {
        "colab": {
          "base_uri": "https://localhost:8080/",
          "height": 113,
          "referenced_widgets": [
            "2d15476dcc0047d49232c8af986d5fdb",
            "a135f51bcfae4f68a35b7bbbb1a7877a",
            "4ef12255a4b74c789fd28d7db42c1e43",
            "d88e324e31cd4d6384040d54bbfd18cc",
            "3bd5316d4ff34f81b2684cf11bcd2f5c",
            "8cefb491a7fd47f8a7fed8f12bf17f5d",
            "5651ba1bf1f1485ab8d3725a3253aa09",
            "2c70e63f39b9404988be0a1cd46b1c7b",
            "abfd6a74352842038d50b707938c6618",
            "8a60c0e7b4c04dd58c9084fe12dbd016",
            "fda10819a5ab4c4f86cc0d63d407ece8",
            "d51a55a6a5d84adcb6ff66c170ed9baf",
            "2dc6464b719f4c1985e904b497622a58"
          ]
        },
        "id": "TR8QkEnHD-B2",
        "outputId": "082f0656-b9be-4762-f74c-bbbc7e60ebca"
      },
      "execution_count": 16,
      "outputs": [
        {
          "output_type": "display_data",
          "data": {
            "application/vnd.jupyter.widget-view+json": {
              "model_id": "2d15476dcc0047d49232c8af986d5fdb",
              "version_minor": 0,
              "version_major": 2
            },
            "text/plain": [
              "interactive(children=(IntSlider(value=3, description='giocate', max=10, min=1), IntSlider(value=10, descriptio…"
            ]
          },
          "metadata": {}
        }
      ]
    },
    {
      "cell_type": "markdown",
      "source": [
        "# Distribuzione uniforme e non uniforme"
      ],
      "metadata": {
        "id": "qBnKgfwaLT9x"
      }
    },
    {
      "cell_type": "markdown",
      "source": [
        "Sia _A_ = {_x1_, . . . , _xn_}; una variabile _X_ che assume i valori in _A_ tutti con la stessa probabilità $\\frac{1}{n}$\n",
        "si dice _variabile uniforme_ su _A_. Scriviamo in questo caso _X_ ∼ _U_(_A_) oppure _X_ ∼ _U_(_x1_, . . . , _xn_).\n",
        "La densità è quindi:\n",
        "\n",
        "\\begin{equation}\n",
        "  px(h) =\n",
        "    \\begin{cases}\n",
        "           \\frac{1}{n} \\ se \\  h  \\ ∈ \\ ({x1}, {x2}, ..., {xn})\n",
        "          \\\\\n",
        "          0 \\ altrimenti\n",
        "        \\end{cases}\n",
        "\\end{equation}"
      ],
      "metadata": {
        "id": "GUQzPwZ8NK0Q"
      }
    },
    {
      "cell_type": "markdown",
      "source": [
        "##Esempio 2.1 \n",
        "Nel lancio di un dado sia Ω = {1, 2, 3, 4, 5, 6} l’insieme dei possibili risultati.\n",
        "Allora la funzione _X_(_n_) = n per ogni n ∈ Ω è una variabile aleatoria uniforme _X_ ∼ _U_(1, 2, 3, 4, 5, 6).\n"
      ],
      "metadata": {
        "id": "HJrqw0EbXj2l"
      }
    },
    {
      "cell_type": "code",
      "source": [
        "def es21():\n",
        "  results = []\n",
        "  for i in range(precisione):\n",
        "    results.append(trow()) #aggiungo il risultato del tiro alla lista dei risultati\n",
        "  #grafico\n",
        "  elem_count = []\n",
        "  labels = []\n",
        "  for i in range(len(set(results))): #conto le istanze di ogni risultato ottenuto ed aggiungo i totali a elem_count, poi lo metto a grafico\n",
        "    elem_count.append(results.count(i+1))\n",
        "    labels.append(str(i+1))\n",
        "  plt.bar(labels, elem_count)\n",
        "es21()"
      ],
      "metadata": {
        "colab": {
          "base_uri": "https://localhost:8080/",
          "height": 265
        },
        "id": "pO1ExmtATCeI",
        "outputId": "56b4a4a4-3e1f-44f5-ddab-9a2ab4c0ce95"
      },
      "execution_count": 17,
      "outputs": [
        {
          "output_type": "display_data",
          "data": {
            "image/png": "[encoded data removed]",
            "text/plain": [
              "<Figure size 432x288 with 1 Axes>"
            ]
          },
          "metadata": {
            "needs_background": "light"
          }
        }
      ]
    },
    {
      "cell_type": "markdown",
      "source": [
        "##Esempio 2.2\n",
        "Se invece lanciassimo due dadi, la variabile _X_ che assume un valore corrispondente al numero di risultati pari ottenuti dal lancio sarebbe una _variabile non uniforme_ siccome la sua densità sarebbe:\n",
        "\n",
        "\\begin{equation}\n",
        "  py(h) =\n",
        "    \\begin{cases}\n",
        "          \\frac{1}{4} \\  h={0},{2}\n",
        "          \\\\\n",
        "          \\frac{1}{2} \\ h={1}\n",
        "          \\\\\n",
        "          0 \\ altrimenti\n",
        "        \\end{cases}\n",
        "\\end{equation}"
      ],
      "metadata": {
        "id": "BZUNA1OvaQp6"
      }
    },
    {
      "cell_type": "code",
      "source": [
        "def es22():\n",
        "  results = []\n",
        "  for i in range(precisione):\n",
        "    a, b = trow(), trow() #lancio due dadi, poi conterò quanti sono pari per aggiungere il risultato alla lista\n",
        "    results.append(2-((a % 2)+(b % 2))) #conto i dadi pari come due meno i dadi dispari (n%2 = 1 per n dispari, 0 altrimenti)\n",
        "  valori = []\n",
        "  normalized = []\n",
        "  for i in range(3): #conto le istanze dei risultati e le divido per il numero di risultati totale (normalizzo)\n",
        "    normalized.append(results.count(i) / len(results)) #len(results) torna la lunghezza della lista results\n",
        "    valori.append(\"k=\" + str(i))\n",
        "  plt.pie(normalized, labels=valori)\n",
        "es22()"
      ],
      "metadata": {
        "colab": {
          "base_uri": "https://localhost:8080/",
          "height": 248
        },
        "id": "Ly_UKZkxZr2J",
        "outputId": "8cf82508-ba5d-4ce5-e6dc-052e5295b19f"
      },
      "execution_count": 18,
      "outputs": [
        {
          "output_type": "display_data",
          "data": {
            "image/png": "[encoded data removed]",
            "text/plain": [
              "<Figure size 432x288 with 1 Axes>"
            ]
          },
          "metadata": {}
        }
      ]
    },
    {
      "cell_type": "markdown",
      "source": [
        "#Densità binomiale"
      ],
      "metadata": {
        "id": "qimeQspadWgq"
      }
    },
    {
      "cell_type": "markdown",
      "source": [
        "Consideriamo un fenomeno aleatorio e un certo evento ad esso associato. Per semplicità diciamo che se l’evento si realizza otteniamo un “successo”, viceversa che abbiamo ottenuto un “insuccesso\".\n",
        "Uno schema successo-insuccesso consiste nel ripetere questo fenomeno un certo fissato numero di volte, dette anche prove o tentativi, in cui siamo interessati unicamente al numero di successi ottenuti\n",
        "nelle varie prove.\n",
        "Supponiamo ora che le prove siano indipendenti l’una dall’altra, cioè vengono effettuate tuttevnelle medesime condizioni, indipendentemente dal risultato delle prove precedenti: parliamo in questo caso di schema successo-insuccesso con ripetizione o a prove indipendenti. Consideriamo\n",
        "quindi la variabile X data dal numero di successi in n tentativi.\n",
        "Nel caso in cui le prove siano indipendenti l’una dall’altra, la probabilità di ottenere una certa prefissata sequenza di successi e insuccessi dipende solo dal numero di questi ultimi e non dall’ordine con cui vogliamo che si succedano. La probabilità di ottenere una sequenza fissata in cui abbiamo k successi e n − k insuccessi è data da\n",
        "$p^k(1-p)^{n-k}$, dove p è la probabilità che ogni singolo tentativo abbia successo. Siccome i modi in cui possiamo scegliere le k posizioni per i successi sono date da ${n\\choose k}$ otteniamo per la variabile X la densità data da\n",
        "\n",
        "\\begin{equation}\n",
        "  px(k) =\n",
        "    \\begin{cases}\n",
        "          {n\\choose k} p^k(1-p)^{n-k} \\ se \\ k=1,2,...,n\n",
        "          \\\\\n",
        "          0 \\ altrimenti\n",
        "        \\end{cases}\n",
        "\\end{equation}\n",
        "\n",
        "\n",
        "Scriveremo in questo caso _X_ ∼ _B_(_n_, _p_) e diciamo che _X_ è una variabile binomiale."
      ],
      "metadata": {
        "id": "OUh7jiOk7WSD"
      }
    },
    {
      "cell_type": "markdown",
      "source": [
        "##Esempio 3.1\n",
        "\n",
        "Supponiamo di andare al casinò con 15 Euro e puntiamo 3 volte 5 Euro alla roulette sul rosso. Consideriamo la variabile aleatoria X data dai soldi che abbiamo in tasca alla fine delle 3 puntate. La probabilità di ottenere un numero rosso è di $\\frac{18}{37}$ ad ogni tentativo.\n",
        "Determinare la densità di X.\n",
        "La variabile X può assumere i valori 30, 20, 10, 0 a seconda di quanti rossi sono usciti. Abbiamo:\n",
        "\n",
        "P(X = 30) = $(\\frac{18}{37})^3$ = 0,115\n",
        "\n",
        "P(X = 20) = ${3\\choose 1}(\\frac{18}{37})^2 · \\frac{19}{37}$= 0, 365\n",
        "\n",
        "P(X = 10) = ${3\\choose 2}(\\frac{18}{37}) · (\\frac{19}{37})^2$ = 0,385\n",
        "\n",
        "P(X = 0) = $(\\frac{19}{37})^3$ = 0,135\n"
      ],
      "metadata": {
        "id": "O8PjzahWhrRr"
      }
    },
    {
      "cell_type": "code",
      "source": [
        "@interact_manual(giocate=(1, 6), puntata=(5, 100, 5))\n",
        "def es31(giocate = 3, puntata = 5):\n",
        "  ruota = mk_roulette()\n",
        "  results = []\n",
        "  for i in range(precisione):\n",
        "    portafogli = giocate * puntata\n",
        "    portafogli = partita(ruota, giocate, puntata, portafogli)\n",
        "    results.append(portafogli)\n",
        "  #grafico\n",
        "  normalized = []\n",
        "  valori = []\n",
        "  for i in range(giocate):\n",
        "    normalized.append(round(((results.count(puntata*2*i) / precisione) * 100), 2)) #conto le istanze dei risultati e le normalizzo\n",
        "  normalized.append(round(100 - sum(normalized), 2)) #per evitare che per errori di arrotondamento la somma dei risultati sia 99.9%, l'ultimo risultato lo calcolo come 100 - (la somma dei precedenti)\n",
        "  labels = []\n",
        "  for i in range(len(normalized)):\n",
        "    labels.append(str(normalized[i]) + \"%\") # aggiungo le labels (i valori riportati all'esterno del grafico)\n",
        "  plt.pie(normalized, labels=labels)\n",
        "  legenda = []\n",
        "  for i in range(len(normalized)):\n",
        "    legenda.append(str(puntata*2*i))\n",
        "  plt.legend(legenda,loc='upper center', bbox_to_anchor=(0.5, -0.05), fancybox=True, shadow=True, ncol=5)"
      ],
      "metadata": {
        "id": "QDB96jXivO40",
        "outputId": "52ae2557-1be5-4670-d517-53b3b126ff2b",
        "colab": {
          "base_uri": "https://localhost:8080/",
          "height": 113,
          "referenced_widgets": [
            "246f0697de5540d28ebc1142a3fa91ae",
            "3f31f375417045bb8a79f45808222eb8",
            "3c76f322cbcd452cb92b78b23fcdef4f",
            "12699888f7274680baf6473690979a06",
            "374202dac28f48ce849ae85eda45013b",
            "9b9466ebdd7d4386bebc0cbc80afa422",
            "072b40a9b6f547d2983578347be930fb",
            "4898df7a67f64933816b1bca5ec396d3",
            "4cd8954511564393aed1abd0fe683118",
            "f2a5a4d85d5244cc9161d98e1169c227",
            "cb40548afe114196aa2281b5627ac3b8",
            "3c4d7ad616014aa2b3bc8890001740a5",
            "21fe16d8c26d40159b213fae181d7309"
          ]
        }
      },
      "execution_count": 19,
      "outputs": [
        {
          "output_type": "display_data",
          "data": {
            "application/vnd.jupyter.widget-view+json": {
              "model_id": "246f0697de5540d28ebc1142a3fa91ae",
              "version_minor": 0,
              "version_major": 2
            },
            "text/plain": [
              "interactive(children=(IntSlider(value=3, description='giocate', max=6, min=1), IntSlider(value=5, description=…"
            ]
          },
          "metadata": {}
        }
      ]
    },
    {
      "cell_type": "markdown",
      "source": [
        "# Densità ipergeometrica"
      ],
      "metadata": {
        "id": "9PjQr8MmCUYu"
      }
    },
    {
      "cell_type": "markdown",
      "source": [
        "\n",
        "Un altro tipo di schema successo-insuccesso è il cosiddetto schema successo-insuccesso _senza ripetizione_. In questo caso il fenomeno aleatorio consiste nell’estrazione di n palline, senza rimpiazzare di volta in volta la pallina estratta, da un'urna contenente b palline bianche e r palline rosse.\n",
        "Diciamo che la prova (estrazione) dà successo se viene estratta una pallina bianca e consideriamo la variabile X data dal numero di successi ottenuti, cioè dal numero di palline bianche estratte.\n",
        "\n",
        "\n",
        "Osserviamo che X può assumere tutti i valori tra max(0, n − r) e min(n, b): infatti se n > r siamo sicuri di pescare almeno n−r palline bianche e chiaramente il numero di bianche estratte non può superare nè il numero estrazioni nè il numero di palline bianche.\n",
        "\n",
        "Lo spazio Ω è dato da tutti i possibili sottoinsiemi di n oggetti (le palline estratte) scelti da un insieme di b + r oggetti (le palline\n",
        "disponibili), con probabilità uniforme. L’evento “X = k” è dato quindi da tutti i sottoinsiemi delle b + r palline costituiti da k palline bianche e n − k palline rosse. Le k bianche le posso scegliere in ${b\\choose k}$ modi. Le n − k rosse in ${r \\choose {n - k}}$ modi. Abbiamo quindi che la densità di X è data da\n",
        "\n",
        "\\begin{equation}\n",
        "  px(k) =\n",
        "    \\begin{cases}\n",
        "          \\frac{{b \\choose k} · {r \\choose n - k}}{b + r \\choose n} \\ se \\ k=max(0, n-r),...,min(n,b)\n",
        "          \\\\\n",
        "          0 \\ altrimenti\n",
        "        \\end{cases}\n",
        "\\end{equation}\n",
        "\n",
        "Scriviamo in questo caso X ∼ H(n; b, r) e diciamo che X è una variabile ipergeometrica."
      ],
      "metadata": {
        "id": "OnLdbdQjCbyl"
      }
    },
    {
      "cell_type": "markdown",
      "source": [
        "##Esempio 4.1\n",
        "Un’urna contiene 8 palline bianche e 2 rosse. Ne estraiamo 3 senza rimpiazzo.\n",
        "Qual è la probabilità di estrarne al più una rossa? In questo caso, a differenza del precedente abbiamo che la variabile X = numero di rosse estratte è una ipergeometrica X ∼ H(3; 2, 8) per\n",
        "cui\n",
        "\n",
        "P(_X_ ≤ 1) = P(_X_ = 0) + P(_X_ = 1) = $\\frac{{2 \\choose 0}·{8 \\choose 3}}{10 \\choose 3}$ + $\\frac{{2 \\choose 1}·{8 \\choose 2}}{10 \\choose 3}$ = $\\frac{14}{15}$ = 0.933"
      ],
      "metadata": {
        "id": "mqqc2UiZGaIY"
      }
    },
    {
      "cell_type": "code",
      "source": [
        "@interact_manual(estrazioni=(1, 10))\n",
        "def es41(estrazioni=3):\n",
        "  bianche = 8\n",
        "  rosse = 2\n",
        "  urna = mk_urna(bianche, rosse)\n",
        "  results = 0\n",
        "  for i in range(precisione):\n",
        "    tmp = urna\n",
        "    for i in range(estrazioni):\n",
        "      tmp = np.delete(tmp, np.random.randint(0, ((bianche + rosse)-i)))\n",
        "    if(tmp.sum() > 0):\n",
        "      results = results + 1  \n",
        "  return round(results / precisione, 3)"
      ],
      "metadata": {
        "id": "R0SjK_tkMtDv",
        "colab": {
          "base_uri": "https://localhost:8080/",
          "height": 81,
          "referenced_widgets": [
            "d0df219c6ce44cbda9eee05fe6417dbf",
            "ad870750051347d890577ad3a3b3f320",
            "e19464f43f06477d90840222f525cf83",
            "ef3da77bb8e44c5f88101b8d3a15a086",
            "16f3678703ad4b23a2d883237899d3c5",
            "c00c40b548ae4ec9939c375c7fe93add",
            "c8ce5f9f4bde40ef86b0e6aeba8f75e5",
            "e86345b4aff54703b703a2667772f95e",
            "0bd77561dd7948e285fab5a14a6ceae6",
            "183d12bbf0c74088b38a5fa7dada86b3"
          ]
        },
        "outputId": "2244c3af-22d0-46f9-a20f-03ed63c37a1f"
      },
      "execution_count": 20,
      "outputs": [
        {
          "output_type": "display_data",
          "data": {
            "application/vnd.jupyter.widget-view+json": {
              "model_id": "d0df219c6ce44cbda9eee05fe6417dbf",
              "version_minor": 0,
              "version_major": 2
            },
            "text/plain": [
              "interactive(children=(IntSlider(value=3, description='estrazioni', max=10, min=1), Button(description='Run Int…"
            ]
          },
          "metadata": {}
        }
      ]
    },
    {
      "cell_type": "markdown",
      "source": [
        "#Densità geometrica - geometrica modificata"
      ],
      "metadata": {
        "id": "-GtoecXjUH1e"
      }
    },
    {
      "cell_type": "markdown",
      "source": [
        "In uno schema successo-insuccesso, anzichè al numero di successi ottenuti su n tentativi, potremmo essere interessati al numero di tentativi che devo effettuare prima di ottenere un successo."
      ],
      "metadata": {
        "id": "YBirGuNoUKbB"
      }
    },
    {
      "cell_type": "markdown",
      "source": [
        "##Esempio 5.1\n",
        "\n",
        "Consideriamo un’urna con 2 palline bianche e 3 rosse. Le estraggo senza\n",
        "rimpiazzo finchè non trovo una pallina rossa. Considero la variabile aleatoria X=numero di estrazioni per trovare una pallina rossa. X è una variabile finita in quanto assume solo i valori 1, 2, 3.\n",
        "La sua densità si determina facilmente ed è data da\n",
        "\n",
        "\\begin{equation}\n",
        "  px(k) =\n",
        "    \\begin{cases}\n",
        "          \\frac{6}{10} \\ se \\ k=1\n",
        "          \\\\\n",
        "          \\frac{3}{10} \\ se \\ k=2\n",
        "          \\\\\n",
        "          \\frac{1}{10} \\ se \\ k=3\n",
        "          \\\\\n",
        "          0 \\ altrimenti\n",
        "        \\end{cases}\n",
        "\\end{equation}\n",
        "\n"
      ],
      "metadata": {
        "id": "aXX1PJQLUX9Z"
      }
    },
    {
      "cell_type": "code",
      "source": [
        "@interact_manual(bianche=(1,5), rosse=(1, 5))\n",
        "def es51(bianche=2, rosse=3):\n",
        "  palle = mk_urna(bianche, rosse)\n",
        "  results = []\n",
        "  count=0\n",
        "  while(len(results) < precisione):\n",
        "    done = len(results)\n",
        "    tmp = palle\n",
        "    while(len(results) == done):\n",
        "      extr = np.random.randint(0, ((bianche+rosse)-count))\n",
        "      if(tmp[extr]):\n",
        "        results.append(count)\n",
        "        count=0\n",
        "      else:  \n",
        "        tmp = np.delete(tmp,extr)\n",
        "        count = count + 1\n",
        "  #grafico\n",
        "  labels = []\n",
        "  normalized = []\n",
        "  for i in range(len(set(results)) - 1): #len(set(n)) torna il numero di risultati distinti presenti in results\n",
        "    normalized.append(round(((results.count(i) / precisione) * 100), 2)) #conto le istanze dei risultati e le normalizzo\n",
        "  normalized.append(round(100 - sum(normalized), 2)) #per evitare che per errori di arrotondamento la somma dei risultati sia 99.9%, l'ultimo risultato lo calcolo come 100 - (la somma dei precedenti)\n",
        "  for i in range(len(normalized)):\n",
        "    labels.append(str(normalized[i]) + \"%\") # aggiungo le labels (i valori riportati all'esterno del grafico)\n",
        "  plt.pie(normalized, labels=labels)\n",
        "  legenda = []\n",
        "  for i in range(bianche + 1):\n",
        "    legenda.append(\"k=\"+str(i+1))\n",
        "  plt.legend(legenda,loc='upper center', bbox_to_anchor=(0.5, -0.05), fancybox=True, shadow=True, ncol=5)"
      ],
      "metadata": {
        "colab": {
          "base_uri": "https://localhost:8080/",
          "height": 113,
          "referenced_widgets": [
            "0b6d6a380eee4cb2ac3c8e4943362568",
            "6dc9962fb78a40418c57e6368c12f334",
            "f5d83dc4d82f43dfbe6d5a8a12a7d1bf",
            "acb7c8ce7b1143c7a64680c7fa4a5306",
            "c24f84688e5b41248d1909b6c977825d",
            "48d999291a99449ea450deb56abc6c2d",
            "a766ebf665b446e2aa0fb35df1d179fe",
            "7e770a640d7d41a5bafe99b6a30551c0",
            "40c54e611bd1480e8a443864dccd76f8",
            "6f09c2ef60644860aa55bf3ba868537c",
            "b7cd8f2ce7d04111a89d37b70cecd77a",
            "4ad7f03101a04559b2bf127d9bc8f50b",
            "388b18104ed045968d1264327a3bd47a"
          ]
        },
        "id": "5tLgoNi7f2YM",
        "outputId": "7e106472-2a00-4751-c8b8-bb0006ef640a"
      },
      "execution_count": 21,
      "outputs": [
        {
          "output_type": "display_data",
          "data": {
            "application/vnd.jupyter.widget-view+json": {
              "model_id": "0b6d6a380eee4cb2ac3c8e4943362568",
              "version_minor": 0,
              "version_major": 2
            },
            "text/plain": [
              "interactive(children=(IntSlider(value=2, description='bianche', max=5, min=1), IntSlider(value=3, description=…"
            ]
          },
          "metadata": {}
        }
      ]
    },
    {
      "cell_type": "markdown",
      "source": [
        "Caso interessante:\n",
        "\n",
        "Nel caso di una sola pallina rossa ed _n_ palline bianche, non si ha un'estrazione in cui è più probabile trovare la rossa, hanno tutte probabilità $\\frac{1}{n+1}$ come si può verificare ri-lanciando l'esperimento precedente con una sola pallina rossa."
      ],
      "metadata": {
        "id": "Y5F358gdvcak"
      }
    },
    {
      "cell_type": "markdown",
      "source": [
        "##Esempio 5.2\n",
        "\n",
        "Ripetiamo l'esperimento precedente, ma questa volta rimpiazziamo la pallina ad ogni estrazione. La variabile X diventa numerabile e si ha\n",
        "\n",
        "\\begin{equation}\n",
        "  px(k) =\n",
        "    \\begin{cases}\n",
        "          (\\frac{2}{5})^{k-1}\\frac{3}{5} \\ se \\ k=1,2,3,...\n",
        "          \\\\\n",
        "          0 \\ altrimenti\n",
        "        \\end{cases}\n",
        "\\end{equation}\n",
        "\n",
        "Infatti richiedere X = k vuol dire aver ottenuto k − 1 insuccessi nei primi k − 1 tenativi (ognuno con probabilità $\\frac{2}{5}$) per poi finalmente ottenere un successo al k-esimo tentativo (con probabilità $\\frac{3}{5}$)"
      ],
      "metadata": {
        "id": "DPSi8KkVKH60"
      }
    },
    {
      "cell_type": "code",
      "source": [
        "@interact_manual(bianche=(1,5), rosse=(1, 5))\n",
        "def es52(bianche=2, rosse=3):\n",
        "  palle = mk_urna(bianche, rosse)\n",
        "  results = []\n",
        "  count=0\n",
        "  while(len(results) < precisione):\n",
        "    done = len(results)\n",
        "    tmp = palle\n",
        "    while(len(results) == done):\n",
        "      extr = np.random.randint(0, (bianche+rosse))\n",
        "      if(tmp[extr]):\n",
        "        results.append(count)\n",
        "        count=0\n",
        "      else:  \n",
        "        count = count + 1\n",
        "  \n",
        "  #grafico risultati\n",
        "  labels = []\n",
        "  normalized = []\n",
        "  for i in range(len(set(results))): \n",
        "    normalized.append(round(((results.count(i) / precisione) * 100), 2))\n",
        "  for i in range(len(set(results))):\n",
        "    labels.append(str(i+1))\n",
        "  \n",
        "  #grafico teorico\n",
        "  teoria = []\n",
        "  for i in range(len(set(results))):\n",
        "    teoria.append(((bianche / (bianche + rosse))**(i)) * (rosse / (bianche + rosse)) * 100)\n",
        "\n",
        "  lab_arr = np.arange(len(labels))\n",
        "\n",
        "  w=0.4\n",
        "  plt.bar(lab_arr-(w/2), normalized, width=w)\n",
        "  plt.bar(lab_arr+(w/2), teoria, width=w)\n",
        "  plt.ylabel(\"Percentage\")\n",
        "  plt.xlabel(\"K\")\n",
        "  legenda = [\"Risultati ottenuti\", \"Risultati attesi\"]\n",
        "  plt.legend(legenda,loc='upper center', bbox_to_anchor=(0.5, -0.05), fancybox=True, shadow=True, ncol=5)"
      ],
      "metadata": {
        "colab": {
          "base_uri": "https://localhost:8080/",
          "height": 113,
          "referenced_widgets": [
            "ec9f544250c94deeae89e9ed94d3a668",
            "d87c7c15effa49c0b891260defe452fa",
            "e25624746c074220b6e7c3fb10493372",
            "d4105017d1cd4c5aace71a3d4259867c",
            "c34bb7e018e6464589d1780edef67e24",
            "06376944550f410cb3eb03ceb6b88481",
            "37ec266df6284f459e5b6dfcd16e63d6",
            "77378dc41e0645f39f6b4d6149b56db4",
            "8ccd292967f24e9c8f7a98ae7b17f1f3",
            "e0bd3d74f9a6412a8f72d30a8558b0ee",
            "5d62db25899b4e5fa7d5e1501a6f03af",
            "1be07b8683ff466aa9315c49ae2e585f",
            "4f64c9976b19445a9e006c8ce7f57fca"
          ]
        },
        "id": "p-e8XTgnsSgC",
        "outputId": "9583e0ff-36de-4c6d-86f1-8956b2ab7040"
      },
      "execution_count": 22,
      "outputs": [
        {
          "output_type": "display_data",
          "data": {
            "application/vnd.jupyter.widget-view+json": {
              "model_id": "ec9f544250c94deeae89e9ed94d3a668",
              "version_minor": 0,
              "version_major": 2
            },
            "text/plain": [
              "interactive(children=(IntSlider(value=2, description='bianche', max=5, min=1), IntSlider(value=3, description=…"
            ]
          },
          "metadata": {}
        }
      ]
    },
    {
      "cell_type": "markdown",
      "source": [
        "Quello appena visto è un esempio di _densità geometrica modificata_ che scriveremo come T ∼ Ḡ(_p_).\n",
        "\n",
        "Quando si parla di densità geometrica modificata? \n",
        "\n",
        "Si consideri uno schema successo-insuccesso con ripetizioni e prendiamo in esame la variabile T data dal tempo di primo successo. \n",
        "Se chiamiamo _Xi_ le variabili _B_(1, _p_) date da _Xi_ = 1 se l’i-esimo tentativo dà successo e _Xi_  = 0 altrimenti abbiamo come densità\n",
        "\n",
        "\\begin{equation}\n",
        "  px(k) =\n",
        "    \\begin{cases}\n",
        "          p(1-p)^{k-1} \\ se \\ k=1,2,3,...\n",
        "          \\\\\n",
        "          0 \\ altrimenti\n",
        "        \\end{cases}\n",
        "\\end{equation}\n",
        "\n",
        "La geometrica standard equivale invece alla modificata a cui viene applicato uno shift di 1. Più precisamente, una variabile geometrica standard la\n",
        "possiamo vedere come il numero di insuccessi ottenuti in uno schema successo-insuccesso prima di ottenere un successo. In particolare abbiamo che la densità è data da\n",
        "\n",
        "\\begin{equation}\n",
        "  p(k) =\n",
        "    \\begin{cases}\n",
        "          p(1-p)^{k} \\ se \\ k=1,2,3,...\n",
        "          \\\\\n",
        "          0 \\ altrimenti\n",
        "        \\end{cases}\n",
        "\\end{equation}"
      ],
      "metadata": {
        "id": "u9PHD5qa-xdK"
      }
    },
    {
      "cell_type": "markdown",
      "source": [
        "##Esempio 5.3\n",
        "\n",
        "Si lancino simultaneamente due dadi, uno rosso e uno blu. Ripetiamo questo\n",
        "esperimento finchè non otteniamo due 6. \n",
        "\n",
        "Poniamo X = primo lancio in cui il dado rosso ha dato 6,\n",
        "Y = primo lancio in cui il dado blu ha dato 6.\n",
        "\n",
        "\n",
        "Determinare inoltre la probabilità di ottenere 6 con il dado rosso prima di ottenere 6 con il dado blu.\n",
        "\n",
        "Abbiamo\n",
        "\n",
        "\\begin{equation}\n",
        "  1 = P(X < Y) + P(X > Y) + P(X = Y)\n",
        "\\end{equation}\n",
        "\n",
        "\\\\\n",
        "e chiaramente per simmetria del problema _P_(_X_ < _Y_) = _P_(_X_ > _Y_) da cui\n",
        "\n",
        "\\\\\n",
        "\n",
        "\\begin{equation}\n",
        "  P(X < Y)= \\frac {1-P(X = Y)}{2}\n",
        "\\end{equation}\n",
        "\n",
        "Ci basterà calcolare quindi _P_(_X_ =_Y_):\n",
        "\n",
        "\\\\\n",
        "\n",
        "\\begin{equation}\n",
        "  P(X = Y) = \\sum_{k=1}^\\infty P(X = Y = k) = \\sum_{k=1}^\\infty (\\frac{25}{36})^{k-1}·\\frac{1}{36} = \\frac{1}{1-\\frac{25}{36}}·\\frac{1}{36} = \\frac{1}{11}\n",
        "\\end{equation}\n",
        "\n",
        "\n",
        "dove abbiamo ancora utilizzato la somma di una serie geometrica, e quindi\n",
        "\n",
        "\\\\\n",
        "\n",
        "\\begin{equation}\n",
        "  P(X < Y) = \\frac{5}{11}\n",
        "\\end{equation}\n"
      ],
      "metadata": {
        "id": "yQRcoTTQmPxD"
      }
    },
    {
      "cell_type": "code",
      "source": [
        "def es53():\n",
        "  num = 6\n",
        "  results = []\n",
        "  for i in range(precisione):\n",
        "    a, b = 0, 0\n",
        "    while a != num and b != num:\n",
        "      a, b = trow(), trow() \n",
        "      if a == num:\n",
        "        if b == num:\n",
        "          results.append(0)\n",
        "        else:\n",
        "          results.append(1)\n",
        "      if b == num:\n",
        "        results.append(2)  \n",
        "  #grafico\n",
        "  labels = []\n",
        "  normalized = []\n",
        "  myexplode = [0, 0.2, 0]\n",
        "  for i in range(len(set(results)) - 1): #len(set(n)) torna il numero di risultati distinti presenti in results\n",
        "    normalized.append(round(((results.count(i) / precisione) * 100), 2)) #conto le istanze dei risultati e le normalizzo\n",
        "  normalized.append(round(100 - sum(normalized), 2)) #per evitare che per errori di arrotondamento la somma dei risultati sia 99.9%, l'ultimo risultato lo calcolo come 100 - (la somma dei precedenti)\n",
        "  for i in range(len(normalized)):\n",
        "    labels.append(str(normalized[i]) + \"%\") # aggiungo le labels (i valori riportati all'esterno del grafico)\n",
        "\n",
        "  teoria = [1/11, 5/11, 5/11]\n",
        "  lab_teoria = [\"9.09%\", \"45.45%\", \"45.45%\"]\n",
        "\n",
        "  f, (ax1, ax2) = plt.subplots(1, 2)\n",
        "  ax1.pie(normalized, labels=labels,explode=myexplode, colors=[\"green\", \"red\", \"blue\"], shadow=True)\n",
        "  ax1.set_title(\"Risultati ottenuti\")\n",
        "  ax2.pie(teoria, labels=lab_teoria,explode=myexplode, colors=[\"green\", \"red\", \"blue\"], shadow=True)\n",
        "  ax2.set_title(\"Risultati attesi\")\n",
        "  \n",
        "  legenda = [\"X=Y\", \"X<Y\", \"X>Y\"]\n",
        "  ax1.legend(legenda,loc='upper left', bbox_to_anchor=(0.5, -0.05), fancybox=True, shadow=True, ncol=5)\n",
        "\n",
        "es53()"
      ],
      "metadata": {
        "colab": {
          "base_uri": "https://localhost:8080/",
          "height": 230
        },
        "id": "6P-rc7pzfODB",
        "outputId": "77bb5ab1-7eff-4550-f93b-37a957c7c436"
      },
      "execution_count": 23,
      "outputs": [
        {
          "output_type": "display_data",
          "data": {
            "image/png": "[encoded data removed]",
            "text/plain": [
              "<Figure size 432x288 with 2 Axes>"
            ]
          },
          "metadata": {}
        }
      ]
    },
    {
      "cell_type": "markdown",
      "source": [
        "#Densità di Poisson"
      ],
      "metadata": {
        "id": "hPfoVQ4tzLLR"
      }
    },
    {
      "cell_type": "markdown",
      "source": [
        "Se consideriamo una variabile binomiale _X_ ∼ _B_(_n_, _p_) in cui il numero _n_ di tentativi è molto grande e il parametro _p_ molto piccolo fare i conti con la densità binomiale risulta essere computazionalmente dispendioso. \n",
        "\n",
        "Facciamo un esempio:"
      ],
      "metadata": {
        "id": "7WQ9L3IXzNQo"
      }
    },
    {
      "cell_type": "markdown",
      "source": [
        "##Esempio 6.1\n",
        "\n",
        "Supponiamo che in una città nascano 10 000 bambini ogni anno e che ci\n",
        "sia una malattia rara che colpisce un bambino su 2 mila. Qual è la probabilità che quest’anno nascano più di 5 bambini affetti da questa malattia? \n",
        "\n",
        "La variabile _X_ = ”numero di bambini nati con questa malattia quest’anno” è una variabile binomiale _X_ = _B_($10^4$, $\\frac{1}{2000}$). Tuttavia se\n",
        "proviamo ad effettuare il calcolo _P_(_X_ > 5), anche se abbiamo una formula esatta per effettuarlo, è inevitabilmente molto complesso.\n"
      ],
      "metadata": {
        "id": "VD0JenT7zaOx"
      }
    },
    {
      "cell_type": "markdown",
      "source": [
        "Per risolvere questo tipo di problema introduciamo la seguente\n",
        "\n",
        "\\\\\n",
        "\\begin{equation}\n",
        "  p(k) =\n",
        "    \\begin{cases}\n",
        "          e^{-λ} \\frac{λ^k}{k!} \\ se \\ k=0,1,2,...\n",
        "          \\\\\n",
        "          0 \\ altrimenti\n",
        "        \\end{cases}\n",
        "\\end{equation}\n",
        "\n",
        "\\\\\n",
        "\n",
        "dove λ è un parametro reale strettamente positivo."
      ],
      "metadata": {
        "id": "-07DvPlK0SRP"
      }
    },
    {
      "cell_type": "markdown",
      "source": [
        "Nel nostro esempio possiamo pensare alla variabile _X_ come ad una variabile di Poisson di parametro 5. \n",
        "\n",
        "Otteniamo:\n",
        "\n",
        "\\begin{equation}\n",
        "  P(X > 5) = 1 − P(X = 0) − P(X = 1) − P(X = 2) − P(X = 3) − P(X = 4) \n",
        "  \\\\\n",
        "  = 1 − e^{−5}(1 + 5 + \\frac{25}{2} + \\frac{125}{6} + \\frac{625}{24} + \\frac{3125}{120}) = 0, 384.\n",
        "\\end{equation}"
      ],
      "metadata": {
        "id": "fHA5WLXr2VKr"
      }
    },
    {
      "cell_type": "markdown",
      "source": [
        "Nella simulazione riportata sono simulati 100 anni, ripetendo l'esperimento si aggiungono i risultati dei test successivi e si può osservare come il grafico dei risultati ottenuti si avvicini a quello dei risultati attesi."
      ],
      "metadata": {
        "id": "aQ3YUomoewtG"
      }
    },
    {
      "cell_type": "code",
      "source": [
        "res_poisson = []"
      ],
      "metadata": {
        "id": "niF9fNy-AGHk"
      },
      "execution_count": 24,
      "outputs": []
    },
    {
      "cell_type": "code",
      "source": [
        "def es61():\n",
        "  bambini = 10_000\n",
        "  malattia = 2_000\n",
        "  for i in range(100):\n",
        "    count = 0\n",
        "    for i in range(bambini):\n",
        "      if np.random.randint(malattia) == 1:\n",
        "        count = count + 1\n",
        "    res_poisson.append(count)\n",
        "\n",
        "  #grafico risultati\n",
        "  set_res = list(set(res_poisson))\n",
        "  normalized = []\n",
        "  for i in set_res: \n",
        "    normalized.append(round(((res_poisson.count(i) / len(res_poisson)) * 100), 2))\n",
        " \n",
        "  #grafico teorico\n",
        "  teoria = []\n",
        "  lam = bambini / malattia\n",
        "  for i in set_res:\n",
        "    teoria.append((math.e**-lam)*((lam**i)/math.factorial(i)) * 100)\n",
        "\n",
        "  lab_arr = np.arange(len(set_res))\n",
        "\n",
        "  w=0.4\n",
        "  plt.bar(lab_arr-(w/2), normalized, width=w)\n",
        "  plt.bar(lab_arr+(w/2), teoria, width=w)\n",
        "\n",
        "  legenda = [\"Risultati ottenuti\", \"Risultati attesi\"]\n",
        "  plt.legend(legenda,loc='upper center', bbox_to_anchor=(0.5, -0.05), fancybox=True, shadow=True, ncol=5)\n",
        "  print(\"Anni simulati: \" + str(len(res_poisson)))"
      ],
      "metadata": {
        "id": "L8XSvxDZMGZe"
      },
      "execution_count": 25,
      "outputs": []
    },
    {
      "cell_type": "code",
      "source": [
        "es61()"
      ],
      "metadata": {
        "id": "H4CjxxyZ7Rxc",
        "colab": {
          "base_uri": "https://localhost:8080/",
          "height": 299
        },
        "outputId": "d6e250d5-9661-4199-9859-b2576c1b5f72"
      },
      "execution_count": 26,
      "outputs": [
        {
          "output_type": "stream",
          "name": "stdout",
          "text": [
            "Anni simulati: 100\n"
          ]
        },
        {
          "output_type": "display_data",
          "data": {
            "image/png": "[encoded data removed]",
            "text/plain": [
              "<Figure size 432x288 with 1 Axes>"
            ]
          },
          "metadata": {
            "needs_background": "light"
          }
        }
      ]
    },
    {
      "cell_type": "markdown",
      "source": [
        "#Densità continua uniforme"
      ],
      "metadata": {
        "id": "2HvnAmIq9-iV"
      }
    },
    {
      "cell_type": "markdown",
      "source": [
        "La variabile continua più semplice da studiare è quella che può assumere solo valori in un certo intervallo limitato e in modo ”uniforme”."
      ],
      "metadata": {
        "id": "q-CPgnYeAXnr"
      }
    },
    {
      "cell_type": "markdown",
      "source": [
        "## Esempio 7.1\n",
        "\n",
        "Un autobus passa da una fermata ogni 10 minuti. Noi arriviamo alla fermata in un momento casuale, chiamiamo T la variabile del tempo d'attesa che assume valori tra 0 e 10 minuti. Mediamente, quanto dovrò aspettare?\n",
        "\n",
        "Iniziamo prendendo l'autobus un po' di volte tenendo uno storico dei tempi di attesa:"
      ],
      "metadata": {
        "id": "AFabxKb1Ar4F"
      }
    },
    {
      "cell_type": "code",
      "source": [
        "uniforme = []\n",
        "tempo = 10\n",
        "for i in range(precisione):\n",
        "  uniforme.append(random.uniform(0, tempo))"
      ],
      "metadata": {
        "id": "A4ckSSdzDloY"
      },
      "execution_count": 27,
      "outputs": []
    },
    {
      "cell_type": "code",
      "source": [
        "#funzione che calcola il valore di x in ogni punto (densità continua uniforme)\n",
        "def densita(x, a, b):\n",
        "  res = []\n",
        "  for i in x:\n",
        "    if i < a:\n",
        "      res.append(0)\n",
        "    elif i > b:\n",
        "      res.append(0)\n",
        "    else:\n",
        "      res.append(1 / (b - a))\n",
        "  return res"
      ],
      "metadata": {
        "id": "G_5JWNvfHgIA"
      },
      "execution_count": 28,
      "outputs": []
    },
    {
      "cell_type": "markdown",
      "source": [
        "E mettiamo a grafico i risultati ottenuti"
      ],
      "metadata": {
        "id": "LfkzQQAmE_XV"
      }
    },
    {
      "cell_type": "code",
      "source": [
        "def es71():\n",
        "  points = (tempo + 2) * 10\n",
        "  \n",
        "  x = np.linspace(-1, tempo+1, points)\n",
        "\n",
        "  coord = []\n",
        "  for i in range(points):\n",
        "    count = 0\n",
        "    for item in uniforme:\n",
        "      if (item > -1 + (((tempo+2)/points)*i) and item <= -1 + (((tempo+2)/points)*(i+1))):\n",
        "        count = count + 1\n",
        "    coord.append((count / precisione) * (points / (tempo + 2)))\n",
        "  \n",
        "  p1 = plt.figure(1)\n",
        "  ax = plt.axes()\n",
        "  ax.plot(x, densita(x, 0, tempo))\n",
        "  ax.plot(x, coord)\n",
        "  ax.set_title(\"Densità\")\n",
        "  legenda = [\"Risultati attesi\", \"Risultati ottenuti\"]\n",
        "  plt.legend(legenda,loc='upper center', bbox_to_anchor=(0.5, -0.05), fancybox=True, shadow=True, ncol=5)\n",
        "  sns.displot(uniforme, kind=\"ecdf\").set(title=\"Ripartizione\") \n",
        "es71()"
      ],
      "metadata": {
        "id": "OTG0UQTfXbHD",
        "outputId": "6ab85544-a781-448a-bc20-c498fd13a5aa",
        "colab": {
          "base_uri": "https://localhost:8080/",
          "height": 662
        }
      },
      "execution_count": 29,
      "outputs": [
        {
          "output_type": "display_data",
          "data": {
            "image/png": "[encoded data removed]",
            "text/plain": [
              "<Figure size 432x288 with 1 Axes>"
            ]
          },
          "metadata": {
            "needs_background": "light"
          }
        },
        {
          "output_type": "display_data",
          "data": {
            "image/png": "[encoded data removed]",
            "text/plain": [
              "<Figure size 360x360 with 1 Axes>"
            ]
          },
          "metadata": {
            "needs_background": "light"
          }
        }
      ]
    },
    {
      "cell_type": "markdown",
      "source": [
        "Per quanto riguarda la soluzione il valore atteso invece ci basta sapere che il valore atteso di una variabile uniforme è il punto medio dell'intervallo: 5 minuti."
      ],
      "metadata": {
        "id": "CO8fDJK3MDBv"
      }
    },
    {
      "cell_type": "code",
      "source": [
        "@interact_manual(tempo=(1, 20))\n",
        "def es71(tempo = 10):\n",
        "  results = []\n",
        "  for i in range(precisione):\n",
        "    results.append(random.uniform(0, tempo))\n",
        "  return round(np.mean(results), 2)"
      ],
      "metadata": {
        "colab": {
          "base_uri": "https://localhost:8080/",
          "height": 81,
          "referenced_widgets": [
            "882f87516e144851ba1598b6ce810947",
            "f5659def07574543b8ace50b2c550b58",
            "6160e64ced094a78ae5a5eaa940c32af",
            "3d580586af414f01ac02e1496a0f746f",
            "c043e4f6d3264373a43543f7f71c1edf",
            "17670f95b57b4f9c83850e25d741ac58",
            "320e6720bb0f43b5b6072c7a02973841",
            "6187dbd9b97e44bcae4f255d29117aee",
            "bebbbb1a39434236a7017972443a2315",
            "925ad2240b534dcf88bc3240cf6a0ef5"
          ]
        },
        "id": "jG0a0YfTMiZi",
        "outputId": "b87a320e-b601-46da-d686-93ebf5ee4fd7"
      },
      "execution_count": 30,
      "outputs": [
        {
          "output_type": "display_data",
          "data": {
            "application/vnd.jupyter.widget-view+json": {
              "model_id": "882f87516e144851ba1598b6ce810947",
              "version_minor": 0,
              "version_major": 2
            },
            "text/plain": [
              "interactive(children=(IntSlider(value=10, description='tempo', max=20, min=1), Button(description='Run Interac…"
            ]
          },
          "metadata": {}
        }
      ]
    },
    {
      "cell_type": "markdown",
      "source": [
        "##Esercizio 7.2"
      ],
      "metadata": {
        "id": "suJKbVomvlw2"
      }
    },
    {
      "cell_type": "markdown",
      "source": [
        "Continuiamo con l'esempio del bus ma questa volta ci interessa sapere la probabilità che arrivi in un certo intervallo di tempo"
      ],
      "metadata": {
        "id": "Fr271Olzv2DY"
      }
    },
    {
      "cell_type": "code",
      "source": [
        "@interact_manual(a=(0, 10), b=(0, 10))\n",
        "def es72(a = 4, b = 6):\n",
        "  if a > b:\n",
        "    return (\"Intervallo non valido\")\n",
        "\n",
        "  unif1 = [x for x in uniforme if x >= a and x <= b]\n",
        "  \n",
        "  points = (tempo + 2) * 10\n",
        "\n",
        "  x = np.linspace(-1, tempo+1, points)\n",
        "\n",
        "  coord = []\n",
        "  for i in range(points):\n",
        "    count = 0\n",
        "    for item in uniforme:\n",
        "      if (item > -1 + (((tempo+2)/points)*i) and item <= -1 + (((tempo+2)/points)*(i+1))):\n",
        "        count = count + 1\n",
        "    coord.append((count / precisione) * (points / (tempo + 2)))\n",
        "\n",
        "  coord2 = []\n",
        "  for i in range(points):\n",
        "    count = 0\n",
        "    for item in unif1:\n",
        "      if (item > -1 + (((tempo+2)/points)*i) and item <= -1 + (((tempo+2)/points)*(i+1))):\n",
        "        count = count + 1\n",
        "    coord2.append((count / precisione) * (points / (tempo + 2)))\n",
        "\n",
        "  plt.plot(x, coord)\n",
        "  plt.fill_betweenx(coord2, x, alpha=0.30)\n",
        "  \n",
        "  ris1 = round((b-a) / tempo, 3)\n",
        "  print(\"Risultati attesi: \" + str(ris1))\n",
        "  ris2 = round(len(unif1) / precisione, 3)\n",
        "  print(\"Risultati ottenuti: \" + str(ris2))"
      ],
      "metadata": {
        "id": "0Gfo7zOovTuG",
        "outputId": "e209f9c1-c71d-40a4-eb8a-769c34c8f6f8",
        "colab": {
          "base_uri": "https://localhost:8080/",
          "height": 113,
          "referenced_widgets": [
            "5bb6efba142243faa1b6a84ce7821f25",
            "a202aea8fa0b4536b34c02217169bdbb",
            "d631a87df15643e891504b618fce8f7c",
            "b8bea062b6314dad949773ab16fbab9f",
            "42c5e27def5845438d6530fa2e8bf82a",
            "121c21db8e394afdb70b3bdd1a459b8f",
            "79ba47e94ecd49c8ab5b71c4dceedc63",
            "083d58ecfa4c44aaa1603ef6a714541f",
            "4638c5a7f74f49e08238d91de1e8a147",
            "9a973f7d7c05439fb22cd687c439b108",
            "03f7ff87df5b4d988d6732cd896dd6f3",
            "d7d3ed51c70242a8a26b30bda24eda47",
            "7268b6c339164baa9876d37bf7cdeb90"
          ]
        }
      },
      "execution_count": 31,
      "outputs": [
        {
          "output_type": "display_data",
          "data": {
            "application/vnd.jupyter.widget-view+json": {
              "model_id": "5bb6efba142243faa1b6a84ce7821f25",
              "version_minor": 0,
              "version_major": 2
            },
            "text/plain": [
              "interactive(children=(IntSlider(value=4, description='a', max=10), IntSlider(value=6, description='b', max=10)…"
            ]
          },
          "metadata": {}
        }
      ]
    },
    {
      "cell_type": "markdown",
      "source": [
        "#Densità continua esponenziale"
      ],
      "metadata": {
        "id": "KzWvYabHHMQp"
      }
    },
    {
      "cell_type": "markdown",
      "source": [
        "Fissiamo un parametro _λ_ e ricordiamo che una primitiva della funzione $e^{−λt}$ è data da -$\\frac{1}{λ}e^{−λt}$ da cui abbiamo che:\n",
        "\n",
        "\\begin{equation}\n",
        "  \\int_{0}^{+ \\infty} e^{-λt} \\,dt = \\frac{1}{λ} \n",
        "\\end{equation}\n",
        "\n",
        "Proposizione:\n",
        "\n",
        "\\begin{equation}\n",
        "  f(s) =\n",
        "    \\begin{cases}\n",
        "          λ e^{-λs} \\ se \\ s \\geq 0\n",
        "          \\\\\n",
        "          0 \\ altrimenti\n",
        "        \\end{cases}\n",
        "\\end{equation}\n",
        "\n",
        "dove _λ_ è un parametro positivo con densità continua astratta.\n",
        "\n",
        "Una variabile _X_ che ammette tale densità si dice esponenziale di parametro _λ_ e scriveremo _X_ ∼ Exp(_λ_). Lo stesso calcolo mostra che la funzione di ripartizione di una variabile _X_ ∼ Exp(_λ_) è data da\n",
        "\n",
        "\\begin{equation}\n",
        "  Fx(t) =\n",
        "    \\begin{cases}\n",
        "          1-e^{-λt} \\ se \\ t \\ge 0\n",
        "          \\\\\n",
        "          0 \\ \\ \\ \\ \\ \\ \\ \\ \\ \\ \\ \\ \\ se \\ t \\le 0\n",
        "        \\end{cases}\n",
        "\\end{equation}"
      ],
      "metadata": {
        "id": "kDn_33f8UA9S"
      }
    },
    {
      "cell_type": "markdown",
      "source": [
        "##Esempio 8.1\n",
        "\n",
        "Il decadimento di una particella radioattiva segue una legge esponenziale di parametro λ = 1 (in giorni).\n",
        "\n",
        "Qual è la probabilità che dopo 3 ore sia già decaduta?"
      ],
      "metadata": {
        "id": "vdltBTAzbjNQ"
      }
    },
    {
      "cell_type": "markdown",
      "source": [
        "Usando un cambio di variabile simuliamo un set di valori di una variabile esponenziale con parametro _λ_ = 1 "
      ],
      "metadata": {
        "id": "KXHsGg67--dB"
      }
    },
    {
      "cell_type": "code",
      "source": [
        "exp = []\n",
        "for i in range(precisione):\n",
        "  exp.append(-math.log(random.uniform(0, 1)))"
      ],
      "metadata": {
        "id": "GrAEx7n-2V-2"
      },
      "execution_count": 32,
      "outputs": []
    },
    {
      "cell_type": "markdown",
      "source": [
        "E ne grafichiamo la densità e la partizione "
      ],
      "metadata": {
        "id": "xP2yQ4p9ACry"
      }
    },
    {
      "cell_type": "code",
      "source": [
        "def exp_plot():\n",
        "  points = 130\n",
        "  space = 6\n",
        "\n",
        "  x = np.linspace(-1, space - 1, points)\n",
        "\n",
        "  coord = []\n",
        "  for i in range(points):\n",
        "    count = 0\n",
        "    for item in exp:\n",
        "      if (item > -1 + (((space)/points)*i) and item <= -1 + (((space)/points)*(i+1))):\n",
        "        count = count + 1\n",
        "    coord.append((count / precisione) * (points / (space)))\n",
        "  \n",
        "  sns.displot(exp, kind=\"ecdf\")\n",
        "  plt.plot(x, coord)\n",
        "  plt.xlim(-1, 4)\n",
        "  plt.title(\"Densità e ripartizione della variabile in esame\")\n",
        "\n",
        "  legenda = [\"Funzione di ripartizione\", \"Densità\"]\n",
        "  plt.legend(legenda,loc='upper center', bbox_to_anchor=(0.5, -0.05), fancybox=True, shadow=True, ncol=5)\n",
        "\n",
        "exp_plot()"
      ],
      "metadata": {
        "colab": {
          "base_uri": "https://localhost:8080/",
          "height": 403
        },
        "id": "o6Bmu5FDMOPV",
        "outputId": "8d101cb5-8401-46e6-d69f-b93dc6fa503a"
      },
      "execution_count": 33,
      "outputs": [
        {
          "output_type": "display_data",
          "data": {
            "image/png": "[encoded data removed]",
            "text/plain": [
              "<Figure size 360x360 with 1 Axes>"
            ]
          },
          "metadata": {
            "needs_background": "light"
          }
        }
      ]
    },
    {
      "cell_type": "markdown",
      "source": [
        "Tornando alla domanda iniziale, contiamo quante volte abbiamo ottenuto un tempo minore di 3 ore e confrontiamolo coi risultati attesi dalla teoria."
      ],
      "metadata": {
        "id": "MrVxuxXhB-Dh"
      }
    },
    {
      "cell_type": "code",
      "source": [
        "@interact_manual(ore=(0, 72))\n",
        "def es81(ore = 3):\n",
        "  count = 0\n",
        "  for item in exp:\n",
        "    if (item * 24) <= ore:\n",
        "      count = count + 1\n",
        "  print(\"Risultati ottenuti: \" + str(round(count / precisione, 3)))\n",
        "  res = 1 - (math.e**(-1 * (ore / 24)))\n",
        "  print(\"Risultati attesi: \" + str(round(res, 3)))"
      ],
      "metadata": {
        "colab": {
          "base_uri": "https://localhost:8080/",
          "height": 81,
          "referenced_widgets": [
            "fd80481f970e4ef38b9629677aa9f8fc",
            "6c9a37c2c7af4eaab305362eeb0bbe23",
            "bc1a2c5873a0472da34eeeb9549cf4aa",
            "8e4331125c3f43b6ae267e21c40932bb",
            "2afd56b0eb67442b8c3c49699ecf3b10",
            "f3a4b170834e42b1b9c0266d8b96c09b",
            "f2e7a6ded4444e4eae1d968764e2f0c9",
            "9b709c229dfa43c2b68fde3ded51fe9a",
            "5d1bb6dce642484ab625f265a0dcf595",
            "4215bd5fd72e403c8683b1681d4620c9"
          ]
        },
        "id": "-nLD7XugV7iy",
        "outputId": "00ae7085-8c22-4b38-eaa2-b95033d6f3aa"
      },
      "execution_count": 34,
      "outputs": [
        {
          "output_type": "display_data",
          "data": {
            "application/vnd.jupyter.widget-view+json": {
              "model_id": "fd80481f970e4ef38b9629677aa9f8fc",
              "version_minor": 0,
              "version_major": 2
            },
            "text/plain": [
              "interactive(children=(IntSlider(value=3, description='ore', max=72), Button(description='Run Interact', style=…"
            ]
          },
          "metadata": {}
        }
      ]
    },
    {
      "cell_type": "markdown",
      "source": [
        "Fin'ora abbiamo visto variabili esponenziali aventi _λ_ = 1, il caso base. Vediamo ora lo stesso esempio ma questa volta il tempo di decadimento della particella è segue una legge esponenziale di parametro _λ_ ≠ 1.\n",
        "\n",
        "Iniziamo vedendone il grafico della densità:"
      ],
      "metadata": {
        "id": "z8484TUNFyqT"
      }
    },
    {
      "cell_type": "code",
      "source": [
        "@interact_manual(λ=(2, 10))\n",
        "def exp_test(λ=2):\n",
        "  lamb = λ\n",
        "\n",
        "  test = []\n",
        "  for i in range(precisione):\n",
        "    test.append((-1/(lamb))*math.log(random.uniform(0, 1)))\n",
        "\n",
        "  b = max(test)/3\n",
        "  a = -b/10\n",
        "  points = 100\n",
        "  x = np.linspace(a, b, points)\n",
        "\n",
        "  coord = []\n",
        "  for i in range(points):\n",
        "    count = 0\n",
        "    for item in test:\n",
        "      if (item > a + (((abs(a) + b)/points)*i)) and (item <= a + (((abs(a) + b)/points)*(i+1))):\n",
        "        count = count + 1\n",
        "    coord.append((count / precisione) * (points / (abs(a) + b)))\n",
        "\n",
        "  plt.plot(x, coord)"
      ],
      "metadata": {
        "colab": {
          "base_uri": "https://localhost:8080/",
          "height": 81,
          "referenced_widgets": [
            "7ce4d85d3a69412fb317ea89916fdeab",
            "3e8abcae94154721a3878d1b069ab6fd",
            "a0d39cd8eb7b4355b06ba9f77c3f3d6f",
            "aaaffff0a0534a71ae3e8d4b847debc8",
            "e73909bdb38040c781861290f5c4e3cc",
            "7ec1f69d36df44bfbf59148a99ae56cc",
            "c2b9bda60fad481783a4e1083312e2db",
            "a1074c33c9684db498108375d81abb94",
            "39f2110a458f465188327de351cd56c9",
            "e29cff3c790f4ebfbd8eb49597537756"
          ]
        },
        "id": "irnlB3MXGPPl",
        "outputId": "b1abbff3-ccd3-492c-d740-49a6656b5ea3"
      },
      "execution_count": 35,
      "outputs": [
        {
          "output_type": "display_data",
          "data": {
            "application/vnd.jupyter.widget-view+json": {
              "model_id": "7ce4d85d3a69412fb317ea89916fdeab",
              "version_minor": 0,
              "version_major": 2
            },
            "text/plain": [
              "interactive(children=(IntSlider(value=2, description='λ', max=10, min=2), Button(description='Run Interact', s…"
            ]
          },
          "metadata": {}
        }
      ]
    },
    {
      "cell_type": "markdown",
      "source": [
        "E confrontiamo i risultati che abbiamo ottenuto con quelli attesi dalla teoria:"
      ],
      "metadata": {
        "id": "ySU20jIY7tkY"
      }
    },
    {
      "cell_type": "code",
      "source": [
        "@interact_manual(ore=(0, 72), λ=(2, 10))\n",
        "def exp_particella(ore = 10, λ = 2):\n",
        "  test = []\n",
        "  for i in range(precisione):\n",
        "    test.append((-1/λ)*math.log(random.uniform(0, 1)))\n",
        "  count = 0\n",
        "  for item in test:\n",
        "    if (item * 24) <= ore:\n",
        "      count = count + 1\n",
        "  print(\"Risultati ottenuti: \" + str(round(count / precisione, 3)))\n",
        "  res = 1 - (math.e**(-(λ * (ore / 24))))\n",
        "  print(\"Risultati attesi: \" + str(round(res, 3)))"
      ],
      "metadata": {
        "colab": {
          "base_uri": "https://localhost:8080/",
          "height": 113,
          "referenced_widgets": [
            "f160295b72de4186af9d0d7a84d45001",
            "ba4ca8fc34554a1cbd3a420c34c7ce5b",
            "91043cc78a2048708069f825a3adbccf",
            "08d91c2b1789416e9658bcb1ae7886d1",
            "3bf48eb4b191477b880b820f841f98b5",
            "3d837ee5b37446628ebc1a2d16c5f0f6",
            "af842ab779164740a61d739c655b2d0f",
            "1a7c93cb174843ec8bac6c45c09fa126",
            "03a37b663e4a4b88816cd981be533795",
            "959063a0578e44b28374a18b43885e48",
            "7e1bfac1960b465b9934ece3590d8f0a",
            "4772f48148a44bfd9dd5753432f219de",
            "e93fdab03ae249b2a5c1b863a8933b75"
          ]
        },
        "id": "lew-nKK9KlQ0",
        "outputId": "249f93e8-fe64-4a5c-b4b4-b2684488cea5"
      },
      "execution_count": 36,
      "outputs": [
        {
          "output_type": "display_data",
          "data": {
            "application/vnd.jupyter.widget-view+json": {
              "model_id": "f160295b72de4186af9d0d7a84d45001",
              "version_minor": 0,
              "version_major": 2
            },
            "text/plain": [
              "interactive(children=(IntSlider(value=10, description='ore', max=72), IntSlider(value=2, description='λ', max=…"
            ]
          },
          "metadata": {}
        }
      ]
    },
    {
      "cell_type": "markdown",
      "source": [
        "## Esercizio 8.2"
      ],
      "metadata": {
        "id": "QdEbzDc5JVI8"
      }
    },
    {
      "cell_type": "markdown",
      "source": [
        "Continuiamo con l'esempio della particella ma questa volta ci interessa sapere la probabilità decada in un certo intervallo di tempo"
      ],
      "metadata": {
        "id": "sxmUgXSeJcYJ"
      }
    },
    {
      "cell_type": "code",
      "source": [
        "def bounds(x, a, b):\n",
        "  res = []\n",
        "  for i in x:\n",
        "    if i < a:\n",
        "      res.append(0)\n",
        "    elif i > b:\n",
        "      res.append(0)\n",
        "    else:\n",
        "      res.append(1)\n",
        "  return res"
      ],
      "metadata": {
        "id": "Iiln3yhVXChT"
      },
      "execution_count": 37,
      "outputs": []
    },
    {
      "cell_type": "code",
      "source": [
        "@interact_manual(t1=(0, 96), t2=(0, 96))\n",
        "def es82(t1=3, t2=10):\n",
        "  if t1 > t2:\n",
        "    return (\"Intervallo non valido\")\n",
        "  \n",
        "  points = 325\n",
        "  tempo = 4.5\n",
        "  a = -0.5\n",
        "\n",
        "  x = np.linspace(a, tempo + a, points)\n",
        "  \n",
        "  exp1 = []\n",
        "  for i in range(precisione):\n",
        "    exp1.append(-math.log(random.uniform(0, 1)))\n",
        "\n",
        "  exp2 = [x for x in exp1 if x >= t1/24 and x <= t2/24]\n",
        "\n",
        "  coord = [0]\n",
        "  for i in range(points-1):\n",
        "    count = 0\n",
        "    for item in exp1:\n",
        "      if (item > a + (((tempo)/(points-1))*i) and item <= a + (((tempo)/(points-1))*(i+1))):\n",
        "        count = count + 1\n",
        "    coord.append((count / precisione) * ((points-1) / (tempo)))\n",
        "  \n",
        "  y = np.minimum(bounds(x, t1/24, t2/24), coord)\n",
        "  \n",
        "  ris1 = round((1 - (math.e**(-(t2 / 24)))) - (1 - (math.e**(-(t1 / 24)))), 3)\n",
        "  print(\"Risultati attesi: \" + str(ris1))\n",
        "  ris2 = round(len(exp2) / precisione, 3)\n",
        "  print(\"Risultati ottenuti: \" + str(ris2))\n",
        "\n",
        "  plt.plot(x, coord)\n",
        "  plt.fill_between(x, y, alpha=0.30)"
      ],
      "metadata": {
        "colab": {
          "base_uri": "https://localhost:8080/",
          "height": 113,
          "referenced_widgets": [
            "ddd3de3c4ea047c29095d93b72c7ec6a",
            "d785a433bb244301b5e784be8e905ca2",
            "d81b5fe5f5f94108939ff02fe9f3b9dc",
            "bf13839fac1546a89156d43182cf0eb6",
            "522d878be55c4025930d01027924bba5",
            "052891672b7f49318341244a8765eac5",
            "9780493744484d44ac25263f8599303a",
            "f73af508b4b84bc5979f382e2a24ee3f",
            "79421e31054e4aceb01ef23a0d80cc3e",
            "e7ffb81e338a44f39ee3d8d77c22981a",
            "cbde728660a04f1e92d89c9e2d764552",
            "55ced4f3efd84a939806e51a315ff3f5",
            "4865524933f4490ab86efec9d806a937"
          ]
        },
        "id": "9jzvi4tr12nU",
        "outputId": "8070f047-faab-4a82-dd8c-bab751b4129b"
      },
      "execution_count": 38,
      "outputs": [
        {
          "output_type": "display_data",
          "data": {
            "application/vnd.jupyter.widget-view+json": {
              "model_id": "ddd3de3c4ea047c29095d93b72c7ec6a",
              "version_minor": 0,
              "version_major": 2
            },
            "text/plain": [
              "interactive(children=(IntSlider(value=3, description='t1', max=96), IntSlider(value=10, description='t2', max=…"
            ]
          },
          "metadata": {}
        }
      ]
    },
    {
      "cell_type": "markdown",
      "source": [
        "#Densità continua normale"
      ],
      "metadata": {
        "id": "YEVrCLb-MTAW"
      }
    },
    {
      "cell_type": "markdown",
      "source": [
        "Passiamo ora a considerare quelle che sono probabilmente le variabili aleatorie continue più rilevanti.\n",
        "Si può dimostrare (e Gauss lo ha fatto per primo) che\n",
        "\n",
        "\\begin{equation}\n",
        "  \\int_{- \\infty}^{+ \\infty} e^{-{\\frac{x^2}{2}}} \\,dx = \\sqrt{2 \\pi} \n",
        "\\end{equation}\n",
        "\n",
        "Ne segue che la funzione\n",
        "\n",
        "\\begin{equation}\n",
        "  f(s)= \\frac{1}{\\sqrt{2 \\pi}}e^{-{\\frac{x^2}{2}}}\n",
        "\\end{equation}\n",
        "\n",
        "è una densità. Questa densità viene detta normale standard o gaussiana standard e se una variabile _X_ che ammette questa densità scriveremo\n",
        "\n",
        "\\begin{equation} \n",
        "  X ∼ N(0, 1)\n",
        "\\end{equation}"
      ],
      "metadata": {
        "id": "VLVgu8loMhhb"
      }
    },
    {
      "cell_type": "markdown",
      "source": [
        "Il primo parametro è la media, ovvero il valore medio della distribuzione. Il secondo è la deviazione standard.\n",
        "\n",
        "Di seguito vediamo i grafici della funzione di ripartizione e della densità di una normale al variare di media e deviazione standard:"
      ],
      "metadata": {
        "id": "G54eY3HAS3AM"
      }
    },
    {
      "cell_type": "code",
      "source": [
        "@interact(mean=(-5, 5), std_dev=(1, 5))\n",
        "def std_norm(mean = 0, std_dev = 1):\n",
        "  a = -10\n",
        "  x = np.linspace(a, abs(a), 100)\n",
        "  dnd = []\n",
        "  for i in x:\n",
        "    dnd.append(scipy.stats.norm(mean, std_dev).pdf(i))\n",
        "  plt.plot(x, dnd)\n",
        "  legenda = [\"Densità\"]\n",
        "  plt.legend(legenda,loc='upper center', bbox_to_anchor=(0.5, -0.05), fancybox=True, shadow=True, ncol=5)"
      ],
      "metadata": {
        "id": "9eK-dNsZTJ3L",
        "colab": {
          "base_uri": "https://localhost:8080/",
          "height": 346,
          "referenced_widgets": [
            "4fe40ca5094b452eb904b89c0722e06c",
            "5ed4809526a64a4eb7c28097bafba026",
            "6fbda066837c4238b233eca72d1b6037",
            "0588d10bcb0f47539c6e9541773c998a",
            "861913a1562f448c9b8ae537f9be8655",
            "a7da67a0de934f8a915e88d771f12f36",
            "9abea86df25b41a4878315e091bf278a",
            "8cec6e44329b4ed0abd560fb758d4a13",
            "21f46296f80a41aaab4eeed190cd5603",
            "8c5da420627a4824b51e8e9ece3c0960"
          ]
        },
        "outputId": "0b46ce6e-7033-42e1-a6fc-be3db9568374"
      },
      "execution_count": 39,
      "outputs": [
        {
          "output_type": "display_data",
          "data": {
            "application/vnd.jupyter.widget-view+json": {
              "model_id": "4fe40ca5094b452eb904b89c0722e06c",
              "version_minor": 0,
              "version_major": 2
            },
            "text/plain": [
              "interactive(children=(IntSlider(value=0, description='mean', max=5, min=-5), IntSlider(value=1, description='s…"
            ]
          },
          "metadata": {}
        }
      ]
    },
    {
      "cell_type": "code",
      "source": [
        "@interact(mean=(-5, 5), std_dev=(1, 5))\n",
        "def std_norm(mean = 0, std_dev = 1):\n",
        "  a = -10\n",
        "  x = np.linspace(a, abs(a), 100)\n",
        "  pnd = []\n",
        "  for i in x:\n",
        "    pnd.append(scipy.stats.norm(mean, std_dev).cdf(i))\n",
        "  plt.plot(x, pnd)\n",
        "  legenda = [\"Funzione di ripartizione\"]\n",
        "  plt.legend(legenda,loc='upper center', bbox_to_anchor=(0.5, -0.05), fancybox=True, shadow=True, ncol=5)"
      ],
      "metadata": {
        "colab": {
          "base_uri": "https://localhost:8080/",
          "height": 346,
          "referenced_widgets": [
            "886d219a71fe4419866e8e4c3641273a",
            "b491e91b752642489b57817dc3e28c1f",
            "ea4c964fe4844bf79737301a566bab0a",
            "4d5fc69dd4ff4673a54602048c1f7b7c",
            "d7cd2fb435db4ab9beba58aea339b635",
            "181b6982fa94477d89caa4f1bac6e0fe",
            "4431962113a24a5a9ec9c0e23f824ca2",
            "0203e3b4bfb643b7b2a25bcde316ea95",
            "7470e1c777834939ab8e0b9762c8807d",
            "faddc138ba01477e868ed28dc5ed1803"
          ]
        },
        "id": "vZtFsBexR7UQ",
        "outputId": "7b92fda2-9702-43c4-a7d9-1cf40f1aac77"
      },
      "execution_count": 40,
      "outputs": [
        {
          "output_type": "display_data",
          "data": {
            "application/vnd.jupyter.widget-view+json": {
              "model_id": "886d219a71fe4419866e8e4c3641273a",
              "version_minor": 0,
              "version_major": 2
            },
            "text/plain": [
              "interactive(children=(IntSlider(value=0, description='mean', max=5, min=-5), IntSlider(value=1, description='s…"
            ]
          },
          "metadata": {}
        }
      ]
    },
    {
      "cell_type": "markdown",
      "source": [
        "## Esempio 9.1"
      ],
      "metadata": {
        "id": "0WalWbwgLNDx"
      }
    },
    {
      "cell_type": "markdown",
      "source": [
        "Sia _X_ una variabile continua normale standard, determinare la probabilità che _X_ assuma un valore minore di 1."
      ],
      "metadata": {
        "id": "NLO8PiezLS_N"
      }
    },
    {
      "cell_type": "code",
      "source": [
        "@interact_manual(valore=(-4, 4, 0.1))\n",
        "def es91(valore = 1):\n",
        "  a = -4\n",
        "  points = 401\n",
        "\n",
        "  x = np.linspace(a, abs(a), points)\n",
        "\n",
        "  nd1 = []\n",
        "  for i in range(precisione):\n",
        "    nd1.append(np.random.normal(0, 1))\n",
        "\n",
        "  nd2 = [x for x in nd1 if x <= valore]\n",
        "\n",
        "  coord = [0]\n",
        "  for i in range(points - 1):\n",
        "    count = 0\n",
        "    for item in nd1:\n",
        "      if (item > a + (((-2*a)/points)*i)) and (item <= a + (((-2*a)/points)*(i+1))):\n",
        "        count = count + 1\n",
        "    coord.append((count / precisione) * (points / (-2*a)))\n",
        "  \n",
        "  y = np.minimum(bounds(x, -5, valore), coord)\n",
        "\n",
        "  ris1 = round(scipy.stats.norm(0, 1).cdf(valore), 3)\n",
        "  print(\"Risultati attesi: \" + str(ris1))\n",
        "  ris2 = round(len(nd2) / precisione, 3)\n",
        "  print(\"Risultati ottenuti: \" + str(ris2))\n",
        "\n",
        "  plt.fill_between(x, y, alpha=0.30)\n",
        "  plt.plot(x, coord)"
      ],
      "metadata": {
        "id": "0YLBeVSIL9qG",
        "outputId": "68132626-e24c-4438-c3c9-78aff7820a19",
        "colab": {
          "base_uri": "https://localhost:8080/",
          "height": 81,
          "referenced_widgets": [
            "7f38059b66e34e4bb4e99344f51e936c",
            "fcf2c300b58d4277bffae4c3847751d8",
            "4bef97c35fb843be986b90c435c68bdb",
            "221ee64acd6b4762b83c006cae31d63a",
            "adf18a0205de4530b721ddb2e81d9f5a",
            "ae8657f6a5674f05b55574d03193f38f",
            "792aa5ae2935411eaf49a0430fbde2b6",
            "bf728e8aeea64c429cc9f597b73ae9cb",
            "014d0741199c41a8850537d898e68354",
            "506dba77b5a34ef7b3704d2e7ac8162c"
          ]
        }
      },
      "execution_count": 41,
      "outputs": [
        {
          "output_type": "display_data",
          "data": {
            "application/vnd.jupyter.widget-view+json": {
              "model_id": "7f38059b66e34e4bb4e99344f51e936c",
              "version_minor": 0,
              "version_major": 2
            },
            "text/plain": [
              "interactive(children=(FloatSlider(value=1.0, description='valore', max=4.0, min=-4.0), Button(description='Run…"
            ]
          },
          "metadata": {}
        }
      ]
    },
    {
      "cell_type": "markdown",
      "source": [
        "## Esempio 9.2"
      ],
      "metadata": {
        "id": "twGutUTVPnRX"
      }
    },
    {
      "cell_type": "markdown",
      "source": [
        "Uno studio su 100 000 diciottenni (reclutati dalle scuole e dal Maternal and Child Health Centres ad Hong Kong) ha mostrato che l'altezza di un'adulto ha una densità normale _N_ (172, 5).\n",
        "\n",
        " Una divisa per reclute è disponibile in 4 taglie:\n",
        " \n",
        "Taglia   | Altezza \n",
        "---------|------------------\n",
        "S        | h < 164\n",
        "M        | 164 < h < 172\n",
        "L        | 172 < h < 180\n",
        "XL       | h > 180\n",
        "\n",
        "Dovendo vestire 500 nuove reclute quante divise di ogni taglia comprereste?"
      ],
      "metadata": {
        "id": "edGsbSkpyUup"
      }
    },
    {
      "cell_type": "markdown",
      "source": [
        "Per validare i risultati che calcolati con le formule, li confronteremo con le altezze di 20 000 adulti che hanno partecipato all'esperimento ma le cui altezze non sono state usate per per definire la distribuzione, ma lasciate per validarla."
      ],
      "metadata": {
        "id": "V-0c_kiN1WlJ"
      }
    },
    {
      "cell_type": "code",
      "source": [
        "data_url = \"https://raw.githubusercontent.com/MontiMic/TesiMDP/main/train.csv\" #importo il dataset\n",
        "data = pd.read_csv(data_url, sep=',', dtype={})\n",
        "lab = [\"id\", \"height\", \"weight\"]\n",
        "data.columns = [i for i in lab]\n",
        "data = data.drop(['id', 'weight'], axis=1) #scarto i dati riguardanti l'id ed il peso dei soggetti, non ci servono\n",
        "height = []\n",
        "for i in data[\"height\"]: #converto le altezze da pollici in centimetri\n",
        "  height.append(i*2.54)"
      ],
      "metadata": {
        "id": "wEK2CHWylV7L"
      },
      "execution_count": 45,
      "outputs": []
    },
    {
      "cell_type": "code",
      "source": [
        "x = np.linspace(151, 190, 40)\n",
        "coord = []\n",
        "for i in range(40):\n",
        "  count = 0\n",
        "  for item in height:\n",
        "    if (item > (151 + i) and item <= (151 + i + 1)):\n",
        "      count = count + 1\n",
        "  coord.append(count / len(height))\n",
        "dnd = []\n",
        "for i in x:\n",
        "  dnd.append(scipy.stats.norm(172, 5).pdf(i))\n",
        "plt.plot(x, dnd)\n",
        "plt.plot(x, coord)\n",
        "legenda = [\"Distribuzione teorica\", \"Distribuzione del campione\"]\n",
        "plt.legend(legenda,loc='upper center', bbox_to_anchor=(0.5, -0.05), fancybox=True, shadow=True, ncol=5)\n",
        "plt.show()"
      ],
      "metadata": {
        "colab": {
          "base_uri": "https://localhost:8080/",
          "height": 282
        },
        "id": "1j7e4b-jbImS",
        "outputId": "5afdb603-bbb4-4ec4-aea2-939e5e61b9bd"
      },
      "execution_count": 46,
      "outputs": [
        {
          "output_type": "display_data",
          "data": {
            "image/png": "[encoded data removed]",
            "text/plain": [
              "<Figure size 432x288 with 1 Axes>"
            ]
          },
          "metadata": {
            "needs_background": "light"
          }
        }
      ]
    },
    {
      "cell_type": "code",
      "source": [
        "@interact_manual(taglia=[\"S\", \"M\", \"L\", \"XL\"])\n",
        "def es92(taglia = \"L\"):\n",
        "  a, b = 0, 0\n",
        "  #purtroppo questa versione di python non supporta gli switch case (nè il match case)\n",
        "  if taglia == \"S\":\n",
        "    a, b = 150, 164\n",
        "  elif taglia == \"M\":\n",
        "    a, b = 164, 172\n",
        "  elif taglia == \"L\":\n",
        "    a, b = 172, 180 \n",
        "  elif taglia == \"XL\":\n",
        "    a, b = 180, 191\n",
        "  \n",
        "  cm = 500\n",
        "  x = np.linspace(151, 200, cm)\n",
        "  \n",
        "  nd1 = []\n",
        "  for i in range(cm):\n",
        "    count = 0\n",
        "    for item in height:\n",
        "      if (item > (151 + i/10) and item <= (151 + i/10 + 1)):\n",
        "        count = count + 1\n",
        "    nd1.append(count / len(height))\n",
        "\n",
        "  nd2 = [x for x in height if x > a and x <= b]\n",
        "  \n",
        "  ris1 = round(scipy.stats.norm(172, 5).cdf(b) - scipy.stats.norm(172, 5).cdf(a), 3)\n",
        "  print(\"Risultati attesi: \" + str(ris1))\n",
        "  ris2 = round(len(nd2) / len(height), 3)\n",
        "  print(\"Risultati ottenuti: \" + str(ris2))\n",
        "\n",
        "  y = np.minimum(bounds(x, a, b), nd1)\n",
        "\n",
        "  plt.plot(x, nd1)\n",
        "  plt.fill_between(x, y, alpha=0.30)\n",
        "  plt.xlim(150, 200)"
      ],
      "metadata": {
        "colab": {
          "base_uri": "https://localhost:8080/",
          "height": 364,
          "referenced_widgets": [
            "cbd5aadda4da4de181ebedb2269f679e",
            "ea06e2103f2046d18eb4d8cdfa412bc1",
            "2f51e517d3354644b8e98bb505a72e98",
            "59f2af4b5d6d49cbb3f2f1c9f1d29c4a",
            "e0db2e7d480d470d99f68716f24a4dc9",
            "48d3cc00f51d45caab49d2abdee26dd9",
            "1bfb2badd2f5439f8fde4286de977ac3",
            "aedb29c7cee24189b4cb4aef00a1ba9e",
            "25c7fde85c1b440f90f7956517f6611e",
            "fd5ce148bff7477999a8f7b59a1dd44e"
          ]
        },
        "id": "j13iOPty-8h8",
        "outputId": "80d6138c-10c9-400c-f6ed-a35a2e44bacb"
      },
      "execution_count": 47,
      "outputs": [
        {
          "output_type": "display_data",
          "data": {
            "application/vnd.jupyter.widget-view+json": {
              "model_id": "cbd5aadda4da4de181ebedb2269f679e",
              "version_minor": 0,
              "version_major": 2
            },
            "text/plain": [
              "interactive(children=(Dropdown(description='taglia', index=2, options=('S', 'M', 'L', 'XL'), value='L'), Butto…"
            ]
          },
          "metadata": {}
        }
      ]
    }
  ]
}